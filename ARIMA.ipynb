{
 "cells": [
  {
   "cell_type": "code",
   "execution_count": 1,
   "id": "9f3e692f",
   "metadata": {},
   "outputs": [],
   "source": [
    "import pandas as pd\n",
    "from matplotlib import pyplot\n",
    "from statsmodels.tsa.ar_model import AutoReg\n",
    "from sklearn.metrics import mean_squared_error\n",
    "from math import sqrt\n",
    "import matplotlib.pyplot as plt\n",
    "from statsmodels.tsa.arima_model import ARIMA\n",
    "import statsmodels.api as sm\n",
    "import warnings\n",
    "warnings.filterwarnings('ignore', 'statsmodels.tsa.arima_model.ARMA',\n",
    "                        FutureWarning)"
   ]
  },
  {
   "cell_type": "markdown",
   "id": "95ec1b77",
   "metadata": {},
   "source": [
    "## Data Preprocessing"
   ]
  },
  {
   "cell_type": "code",
   "execution_count": 2,
   "id": "5ca10562",
   "metadata": {},
   "outputs": [
    {
     "data": {
      "text/html": [
       "<div>\n",
       "<style scoped>\n",
       "    .dataframe tbody tr th:only-of-type {\n",
       "        vertical-align: middle;\n",
       "    }\n",
       "\n",
       "    .dataframe tbody tr th {\n",
       "        vertical-align: top;\n",
       "    }\n",
       "\n",
       "    .dataframe thead th {\n",
       "        text-align: right;\n",
       "    }\n",
       "</style>\n",
       "<table border=\"1\" class=\"dataframe\">\n",
       "  <thead>\n",
       "    <tr style=\"text-align: right;\">\n",
       "      <th></th>\n",
       "      <th>Month</th>\n",
       "      <th>U.S. All Grades All Formulations Retail Gasoline Prices Dollars per Gallon</th>\n",
       "    </tr>\n",
       "  </thead>\n",
       "  <tbody>\n",
       "    <tr>\n",
       "      <th>0</th>\n",
       "      <td>Apr 2022</td>\n",
       "      <td>4.213</td>\n",
       "    </tr>\n",
       "    <tr>\n",
       "      <th>1</th>\n",
       "      <td>Mar 2022</td>\n",
       "      <td>4.322</td>\n",
       "    </tr>\n",
       "    <tr>\n",
       "      <th>2</th>\n",
       "      <td>Feb 2022</td>\n",
       "      <td>3.611</td>\n",
       "    </tr>\n",
       "    <tr>\n",
       "      <th>3</th>\n",
       "      <td>Jan 2022</td>\n",
       "      <td>3.413</td>\n",
       "    </tr>\n",
       "    <tr>\n",
       "      <th>4</th>\n",
       "      <td>Dec 2021</td>\n",
       "      <td>3.406</td>\n",
       "    </tr>\n",
       "    <tr>\n",
       "      <th>...</th>\n",
       "      <td>...</td>\n",
       "      <td>...</td>\n",
       "    </tr>\n",
       "    <tr>\n",
       "      <th>344</th>\n",
       "      <td>Aug 1993</td>\n",
       "      <td>1.062</td>\n",
       "    </tr>\n",
       "    <tr>\n",
       "      <th>345</th>\n",
       "      <td>Jul 1993</td>\n",
       "      <td>1.078</td>\n",
       "    </tr>\n",
       "    <tr>\n",
       "      <th>346</th>\n",
       "      <td>Jun 1993</td>\n",
       "      <td>1.097</td>\n",
       "    </tr>\n",
       "    <tr>\n",
       "      <th>347</th>\n",
       "      <td>May 1993</td>\n",
       "      <td>1.100</td>\n",
       "    </tr>\n",
       "    <tr>\n",
       "      <th>348</th>\n",
       "      <td>Apr 1993</td>\n",
       "      <td>1.078</td>\n",
       "    </tr>\n",
       "  </tbody>\n",
       "</table>\n",
       "<p>349 rows × 2 columns</p>\n",
       "</div>"
      ],
      "text/plain": [
       "        Month  \\\n",
       "0    Apr 2022   \n",
       "1    Mar 2022   \n",
       "2    Feb 2022   \n",
       "3    Jan 2022   \n",
       "4    Dec 2021   \n",
       "..        ...   \n",
       "344  Aug 1993   \n",
       "345  Jul 1993   \n",
       "346  Jun 1993   \n",
       "347  May 1993   \n",
       "348  Apr 1993   \n",
       "\n",
       "     U.S. All Grades All Formulations Retail Gasoline Prices Dollars per Gallon  \n",
       "0                                                4.213                           \n",
       "1                                                4.322                           \n",
       "2                                                3.611                           \n",
       "3                                                3.413                           \n",
       "4                                                3.406                           \n",
       "..                                                 ...                           \n",
       "344                                              1.062                           \n",
       "345                                              1.078                           \n",
       "346                                              1.097                           \n",
       "347                                              1.100                           \n",
       "348                                              1.078                           \n",
       "\n",
       "[349 rows x 2 columns]"
      ]
     },
     "execution_count": 2,
     "metadata": {},
     "output_type": "execute_result"
    }
   ],
   "source": [
    "df = pd.read_csv('Resources/Datasets/General_factor_data/U.S._All_Grades_All_Formulations_Retail_Gasoline_Prices.csv', skiprows=4)\n",
    "df"
   ]
  },
  {
   "cell_type": "code",
   "execution_count": 3,
   "id": "c1a92331",
   "metadata": {},
   "outputs": [
    {
     "data": {
      "text/html": [
       "<div>\n",
       "<style scoped>\n",
       "    .dataframe tbody tr th:only-of-type {\n",
       "        vertical-align: middle;\n",
       "    }\n",
       "\n",
       "    .dataframe tbody tr th {\n",
       "        vertical-align: top;\n",
       "    }\n",
       "\n",
       "    .dataframe thead th {\n",
       "        text-align: right;\n",
       "    }\n",
       "</style>\n",
       "<table border=\"1\" class=\"dataframe\">\n",
       "  <thead>\n",
       "    <tr style=\"text-align: right;\">\n",
       "      <th></th>\n",
       "      <th>Date</th>\n",
       "      <th>All_grade_price($/gallon)</th>\n",
       "    </tr>\n",
       "  </thead>\n",
       "  <tbody>\n",
       "    <tr>\n",
       "      <th>0</th>\n",
       "      <td>Apr 2022</td>\n",
       "      <td>4.213</td>\n",
       "    </tr>\n",
       "    <tr>\n",
       "      <th>1</th>\n",
       "      <td>Mar 2022</td>\n",
       "      <td>4.322</td>\n",
       "    </tr>\n",
       "    <tr>\n",
       "      <th>2</th>\n",
       "      <td>Feb 2022</td>\n",
       "      <td>3.611</td>\n",
       "    </tr>\n",
       "    <tr>\n",
       "      <th>3</th>\n",
       "      <td>Jan 2022</td>\n",
       "      <td>3.413</td>\n",
       "    </tr>\n",
       "    <tr>\n",
       "      <th>4</th>\n",
       "      <td>Dec 2021</td>\n",
       "      <td>3.406</td>\n",
       "    </tr>\n",
       "    <tr>\n",
       "      <th>...</th>\n",
       "      <td>...</td>\n",
       "      <td>...</td>\n",
       "    </tr>\n",
       "    <tr>\n",
       "      <th>344</th>\n",
       "      <td>Aug 1993</td>\n",
       "      <td>1.062</td>\n",
       "    </tr>\n",
       "    <tr>\n",
       "      <th>345</th>\n",
       "      <td>Jul 1993</td>\n",
       "      <td>1.078</td>\n",
       "    </tr>\n",
       "    <tr>\n",
       "      <th>346</th>\n",
       "      <td>Jun 1993</td>\n",
       "      <td>1.097</td>\n",
       "    </tr>\n",
       "    <tr>\n",
       "      <th>347</th>\n",
       "      <td>May 1993</td>\n",
       "      <td>1.100</td>\n",
       "    </tr>\n",
       "    <tr>\n",
       "      <th>348</th>\n",
       "      <td>Apr 1993</td>\n",
       "      <td>1.078</td>\n",
       "    </tr>\n",
       "  </tbody>\n",
       "</table>\n",
       "<p>349 rows × 2 columns</p>\n",
       "</div>"
      ],
      "text/plain": [
       "         Date  All_grade_price($/gallon)\n",
       "0    Apr 2022                      4.213\n",
       "1    Mar 2022                      4.322\n",
       "2    Feb 2022                      3.611\n",
       "3    Jan 2022                      3.413\n",
       "4    Dec 2021                      3.406\n",
       "..        ...                        ...\n",
       "344  Aug 1993                      1.062\n",
       "345  Jul 1993                      1.078\n",
       "346  Jun 1993                      1.097\n",
       "347  May 1993                      1.100\n",
       "348  Apr 1993                      1.078\n",
       "\n",
       "[349 rows x 2 columns]"
      ]
     },
     "execution_count": 3,
     "metadata": {},
     "output_type": "execute_result"
    }
   ],
   "source": [
    "df = df.rename(columns={'Month':'Date',\n",
    "    'U.S. All Grades All Formulations Retail Gasoline Prices Dollars per Gallon':'All_grade_price($/gallon)'})\n",
    "df"
   ]
  },
  {
   "cell_type": "code",
   "execution_count": 4,
   "id": "2d7f8bad",
   "metadata": {},
   "outputs": [
    {
     "data": {
      "text/html": [
       "<div>\n",
       "<style scoped>\n",
       "    .dataframe tbody tr th:only-of-type {\n",
       "        vertical-align: middle;\n",
       "    }\n",
       "\n",
       "    .dataframe tbody tr th {\n",
       "        vertical-align: top;\n",
       "    }\n",
       "\n",
       "    .dataframe thead th {\n",
       "        text-align: right;\n",
       "    }\n",
       "</style>\n",
       "<table border=\"1\" class=\"dataframe\">\n",
       "  <thead>\n",
       "    <tr style=\"text-align: right;\">\n",
       "      <th></th>\n",
       "      <th>All_grade_price($/gallon)</th>\n",
       "    </tr>\n",
       "    <tr>\n",
       "      <th>Date</th>\n",
       "      <th></th>\n",
       "    </tr>\n",
       "  </thead>\n",
       "  <tbody>\n",
       "    <tr>\n",
       "      <th>2022-04-01</th>\n",
       "      <td>4.213</td>\n",
       "    </tr>\n",
       "    <tr>\n",
       "      <th>2022-03-01</th>\n",
       "      <td>4.322</td>\n",
       "    </tr>\n",
       "    <tr>\n",
       "      <th>2022-02-01</th>\n",
       "      <td>3.611</td>\n",
       "    </tr>\n",
       "    <tr>\n",
       "      <th>2022-01-01</th>\n",
       "      <td>3.413</td>\n",
       "    </tr>\n",
       "    <tr>\n",
       "      <th>2021-12-01</th>\n",
       "      <td>3.406</td>\n",
       "    </tr>\n",
       "    <tr>\n",
       "      <th>...</th>\n",
       "      <td>...</td>\n",
       "    </tr>\n",
       "    <tr>\n",
       "      <th>1993-08-01</th>\n",
       "      <td>1.062</td>\n",
       "    </tr>\n",
       "    <tr>\n",
       "      <th>1993-07-01</th>\n",
       "      <td>1.078</td>\n",
       "    </tr>\n",
       "    <tr>\n",
       "      <th>1993-06-01</th>\n",
       "      <td>1.097</td>\n",
       "    </tr>\n",
       "    <tr>\n",
       "      <th>1993-05-01</th>\n",
       "      <td>1.100</td>\n",
       "    </tr>\n",
       "    <tr>\n",
       "      <th>1993-04-01</th>\n",
       "      <td>1.078</td>\n",
       "    </tr>\n",
       "  </tbody>\n",
       "</table>\n",
       "<p>349 rows × 1 columns</p>\n",
       "</div>"
      ],
      "text/plain": [
       "            All_grade_price($/gallon)\n",
       "Date                                 \n",
       "2022-04-01                      4.213\n",
       "2022-03-01                      4.322\n",
       "2022-02-01                      3.611\n",
       "2022-01-01                      3.413\n",
       "2021-12-01                      3.406\n",
       "...                               ...\n",
       "1993-08-01                      1.062\n",
       "1993-07-01                      1.078\n",
       "1993-06-01                      1.097\n",
       "1993-05-01                      1.100\n",
       "1993-04-01                      1.078\n",
       "\n",
       "[349 rows x 1 columns]"
      ]
     },
     "execution_count": 4,
     "metadata": {},
     "output_type": "execute_result"
    }
   ],
   "source": [
    "df['Date'] = pd.to_datetime(df['Date'])\n",
    "df = df.set_index('Date')\n",
    "df"
   ]
  },
  {
   "cell_type": "code",
   "execution_count": 5,
   "id": "b3b7b041",
   "metadata": {},
   "outputs": [
    {
     "data": {
      "text/html": [
       "<div>\n",
       "<style scoped>\n",
       "    .dataframe tbody tr th:only-of-type {\n",
       "        vertical-align: middle;\n",
       "    }\n",
       "\n",
       "    .dataframe tbody tr th {\n",
       "        vertical-align: top;\n",
       "    }\n",
       "\n",
       "    .dataframe thead th {\n",
       "        text-align: right;\n",
       "    }\n",
       "</style>\n",
       "<table border=\"1\" class=\"dataframe\">\n",
       "  <thead>\n",
       "    <tr style=\"text-align: right;\">\n",
       "      <th></th>\n",
       "      <th>All_grade_price($/gallon)</th>\n",
       "    </tr>\n",
       "    <tr>\n",
       "      <th>Date</th>\n",
       "      <th></th>\n",
       "    </tr>\n",
       "  </thead>\n",
       "  <tbody>\n",
       "    <tr>\n",
       "      <th>1993-04-01</th>\n",
       "      <td>1.078</td>\n",
       "    </tr>\n",
       "    <tr>\n",
       "      <th>1993-05-01</th>\n",
       "      <td>1.100</td>\n",
       "    </tr>\n",
       "    <tr>\n",
       "      <th>1993-06-01</th>\n",
       "      <td>1.097</td>\n",
       "    </tr>\n",
       "    <tr>\n",
       "      <th>1993-07-01</th>\n",
       "      <td>1.078</td>\n",
       "    </tr>\n",
       "    <tr>\n",
       "      <th>1993-08-01</th>\n",
       "      <td>1.062</td>\n",
       "    </tr>\n",
       "    <tr>\n",
       "      <th>...</th>\n",
       "      <td>...</td>\n",
       "    </tr>\n",
       "    <tr>\n",
       "      <th>2021-12-01</th>\n",
       "      <td>3.406</td>\n",
       "    </tr>\n",
       "    <tr>\n",
       "      <th>2022-01-01</th>\n",
       "      <td>3.413</td>\n",
       "    </tr>\n",
       "    <tr>\n",
       "      <th>2022-02-01</th>\n",
       "      <td>3.611</td>\n",
       "    </tr>\n",
       "    <tr>\n",
       "      <th>2022-03-01</th>\n",
       "      <td>4.322</td>\n",
       "    </tr>\n",
       "    <tr>\n",
       "      <th>2022-04-01</th>\n",
       "      <td>4.213</td>\n",
       "    </tr>\n",
       "  </tbody>\n",
       "</table>\n",
       "<p>349 rows × 1 columns</p>\n",
       "</div>"
      ],
      "text/plain": [
       "            All_grade_price($/gallon)\n",
       "Date                                 \n",
       "1993-04-01                      1.078\n",
       "1993-05-01                      1.100\n",
       "1993-06-01                      1.097\n",
       "1993-07-01                      1.078\n",
       "1993-08-01                      1.062\n",
       "...                               ...\n",
       "2021-12-01                      3.406\n",
       "2022-01-01                      3.413\n",
       "2022-02-01                      3.611\n",
       "2022-03-01                      4.322\n",
       "2022-04-01                      4.213\n",
       "\n",
       "[349 rows x 1 columns]"
      ]
     },
     "execution_count": 5,
     "metadata": {},
     "output_type": "execute_result"
    }
   ],
   "source": [
    "df = df.sort_index()\n",
    "df"
   ]
  },
  {
   "cell_type": "markdown",
   "id": "d69b6393",
   "metadata": {},
   "source": [
    "### Plot the data see the trend"
   ]
  },
  {
   "cell_type": "code",
   "execution_count": 6,
   "id": "13506dc1",
   "metadata": {
    "scrolled": true
   },
   "outputs": [
    {
     "data": {
      "text/plain": [
       "Text(0.5, 1.0, 'Time Series of All_grade_Price')"
      ]
     },
     "execution_count": 6,
     "metadata": {},
     "output_type": "execute_result"
    },
    {
     "data": {
      "image/png": "[encoded data removed]",
      "text/plain": [
       "<Figure size 432x288 with 1 Axes>"
      ]
     },
     "metadata": {
      "needs_background": "light"
     },
     "output_type": "display_data"
    }
   ],
   "source": [
    "#plot to see data relationship\n",
    "df.plot()\n",
    "plt.ylabel('All_grade_price($/gallon)')\n",
    "plt.title('Time Series of All_grade_Price')"
   ]
  },
  {
   "cell_type": "markdown",
   "id": "533791e0",
   "metadata": {},
   "source": [
    "### Check Time Series dataset --Stationarity?"
   ]
  },
  {
   "cell_type": "code",
   "execution_count": 7,
   "id": "eee444c3",
   "metadata": {},
   "outputs": [
    {
     "name": "stdout",
     "output_type": "stream",
     "text": [
      "ADF:  -1.2044463464356066\n",
      "p-value:  0.6716800871621458\n",
      "Number of Lags:  10\n"
     ]
    }
   ],
   "source": [
    "from statsmodels.tsa.stattools import adfuller\n",
    "dftest = adfuller(df['All_grade_price($/gallon)'], autolag = 'AIC')\n",
    "\n",
    "print('ADF: ', dftest[0])\n",
    "print('p-value: ', dftest[1])\n",
    "print('Number of Lags: ', dftest[2])\n",
    "#check the data if it is stationarity.P-value is 0.67 which is greater than 0.05, \n",
    "#which means data is accepting the null hypothesis, which means data is non-stationary. "
   ]
  },
  {
   "cell_type": "markdown",
   "id": "ccdca667",
   "metadata": {},
   "source": [
    "## ARIMA Model"
   ]
  },
  {
   "cell_type": "code",
   "execution_count": 8,
   "id": "7f80ad72",
   "metadata": {},
   "outputs": [],
   "source": [
    "# build the arima model, find the min. AIC.\n",
    "##Akaike's Information Criterion (AIC), which was useful in selecting predictors for regression, \n",
    "##is also useful for determining the order of an ARIMA model"
   ]
  },
  {
   "cell_type": "code",
   "execution_count": 9,
   "id": "1f88ec87",
   "metadata": {},
   "outputs": [
    {
     "name": "stdout",
     "output_type": "stream",
     "text": [
      "Performing stepwise search to minimize aic\n",
      " ARIMA(2,1,2)(0,0,0)[0] intercept   : AIC=-442.257, Time=0.57 sec\n",
      " ARIMA(0,1,0)(0,0,0)[0] intercept   : AIC=-347.863, Time=0.07 sec\n",
      " ARIMA(1,1,0)(0,0,0)[0] intercept   : AIC=-423.155, Time=0.27 sec\n",
      " ARIMA(0,1,1)(0,0,0)[0] intercept   : AIC=-433.155, Time=0.13 sec\n",
      " ARIMA(0,1,0)(0,0,0)[0]             : AIC=-348.540, Time=0.05 sec\n",
      " ARIMA(1,1,2)(0,0,0)[0] intercept   : AIC=-429.155, Time=0.29 sec\n",
      " ARIMA(2,1,1)(0,0,0)[0] intercept   : AIC=-441.403, Time=0.56 sec\n",
      " ARIMA(3,1,2)(0,0,0)[0] intercept   : AIC=-438.141, Time=0.99 sec\n",
      " ARIMA(2,1,3)(0,0,0)[0] intercept   : AIC=-439.744, Time=1.05 sec\n",
      " ARIMA(1,1,1)(0,0,0)[0] intercept   : AIC=-434.644, Time=0.20 sec\n",
      " ARIMA(1,1,3)(0,0,0)[0] intercept   : AIC=-442.926, Time=0.97 sec\n",
      " ARIMA(0,1,3)(0,0,0)[0] intercept   : AIC=-436.562, Time=0.29 sec\n",
      " ARIMA(1,1,4)(0,0,0)[0] intercept   : AIC=-440.260, Time=0.81 sec\n",
      " ARIMA(0,1,2)(0,0,0)[0] intercept   : AIC=-436.293, Time=0.16 sec\n",
      " ARIMA(0,1,4)(0,0,0)[0] intercept   : AIC=-436.743, Time=0.38 sec\n",
      " ARIMA(2,1,4)(0,0,0)[0] intercept   : AIC=-438.926, Time=1.03 sec\n",
      " ARIMA(1,1,3)(0,0,0)[0]             : AIC=-443.345, Time=0.93 sec\n",
      " ARIMA(0,1,3)(0,0,0)[0]             : AIC=-437.941, Time=0.18 sec\n",
      " ARIMA(1,1,2)(0,0,0)[0]             : AIC=-436.941, Time=0.36 sec\n",
      " ARIMA(2,1,3)(0,0,0)[0]             : AIC=-441.415, Time=0.68 sec\n",
      " ARIMA(1,1,4)(0,0,0)[0]             : AIC=-441.392, Time=0.67 sec\n",
      " ARIMA(0,1,2)(0,0,0)[0]             : AIC=-437.782, Time=0.19 sec\n",
      " ARIMA(0,1,4)(0,0,0)[0]             : AIC=-437.940, Time=0.25 sec\n",
      " ARIMA(2,1,2)(0,0,0)[0]             : AIC=-443.146, Time=0.43 sec\n",
      " ARIMA(2,1,4)(0,0,0)[0]             : AIC=-439.360, Time=0.72 sec\n",
      "\n",
      "Best model:  ARIMA(1,1,3)(0,0,0)[0]          \n",
      "Total fit time: 12.259 seconds\n",
      "                               SARIMAX Results                                \n",
      "==============================================================================\n",
      "Dep. Variable:                      y   No. Observations:                  349\n",
      "Model:               SARIMAX(1, 1, 3)   Log Likelihood                 226.673\n",
      "Date:                Wed, 01 Jun 2022   AIC                           -443.345\n",
      "Time:                        16:42:53   BIC                           -424.084\n",
      "Sample:                             0   HQIC                          -435.677\n",
      "                                - 349                                         \n",
      "Covariance Type:                  opg                                         \n",
      "==============================================================================\n",
      "                 coef    std err          z      P>|z|      [0.025      0.975]\n",
      "------------------------------------------------------------------------------\n",
      "ar.L1          0.7499      0.101      7.408      0.000       0.552       0.948\n",
      "ma.L1         -0.2166      0.106     -2.038      0.042      -0.425      -0.008\n",
      "ma.L2         -0.3517      0.053     -6.696      0.000      -0.455      -0.249\n",
      "ma.L3         -0.2055      0.060     -3.430      0.001      -0.323      -0.088\n",
      "sigma2         0.0159      0.001     21.747      0.000       0.014       0.017\n",
      "===================================================================================\n",
      "Ljung-Box (L1) (Q):                   0.00   Jarque-Bera (JB):               300.97\n",
      "Prob(Q):                              0.98   Prob(JB):                         0.00\n",
      "Heteroskedasticity (H):               6.91   Skew:                            -0.39\n",
      "Prob(H) (two-sided):                  0.00   Kurtosis:                         7.49\n",
      "===================================================================================\n",
      "\n",
      "Warnings:\n",
      "[1] Covariance matrix calculated using the outer product of gradients (complex-step).\n"
     ]
    }
   ],
   "source": [
    "from pmdarima import auto_arima\n",
    "import warnings\n",
    "warnings.filterwarnings('ignore')\n",
    "\n",
    "arima_df = auto_arima(df['All_grade_price($/gallon)'], trace=True, suppress_warnings=True)\n",
    "\n",
    "print(arima_df.summary())"
   ]
  },
  {
   "cell_type": "code",
   "execution_count": 10,
   "id": "31eb27e7",
   "metadata": {},
   "outputs": [],
   "source": [
    "### Best Model for ARIMA is (1,1,3), and shows non-seasonal dataset.\n",
    "#### SARIMAX is for seasonal dataset"
   ]
  },
  {
   "cell_type": "markdown",
   "id": "c559110f",
   "metadata": {},
   "source": [
    "### Split data to train and test"
   ]
  },
  {
   "cell_type": "code",
   "execution_count": 11,
   "id": "32e78bb4",
   "metadata": {},
   "outputs": [
    {
     "name": "stdout",
     "output_type": "stream",
     "text": [
      "(349, 1)\n",
      "(319, 1) (30, 1)\n"
     ]
    }
   ],
   "source": [
    "print(df.shape)\n",
    "train = df.iloc[:-30]\n",
    "test = df.iloc[-30:]\n",
    "print(train.shape, test.shape)"
   ]
  },
  {
   "cell_type": "code",
   "execution_count": 12,
   "id": "c68b2917",
   "metadata": {},
   "outputs": [
    {
     "name": "stdout",
     "output_type": "stream",
     "text": [
      "                                   SARIMAX Results                                   \n",
      "=====================================================================================\n",
      "Dep. Variable:     All_grade_price($/gallon)   No. Observations:                  349\n",
      "Model:                        ARIMA(1, 1, 3)   Log Likelihood                 226.673\n",
      "Date:                       Wed, 01 Jun 2022   AIC                           -443.345\n",
      "Time:                               16:42:54   BIC                           -424.084\n",
      "Sample:                           04-01-1993   HQIC                          -435.677\n",
      "                                - 04-01-2022                                         \n",
      "Covariance Type:                         opg                                         \n",
      "==============================================================================\n",
      "                 coef    std err          z      P>|z|      [0.025      0.975]\n",
      "------------------------------------------------------------------------------\n",
      "ar.L1          0.7499      0.101      7.408      0.000       0.552       0.948\n",
      "ma.L1         -0.2166      0.106     -2.038      0.042      -0.425      -0.008\n",
      "ma.L2         -0.3517      0.053     -6.696      0.000      -0.455      -0.249\n",
      "ma.L3         -0.2055      0.060     -3.430      0.001      -0.323      -0.088\n",
      "sigma2         0.0159      0.001     21.747      0.000       0.014       0.017\n",
      "===================================================================================\n",
      "Ljung-Box (L1) (Q):                   0.00   Jarque-Bera (JB):               300.97\n",
      "Prob(Q):                              0.98   Prob(JB):                         0.00\n",
      "Heteroskedasticity (H):               6.91   Skew:                            -0.39\n",
      "Prob(H) (two-sided):                  0.00   Kurtosis:                         7.49\n",
      "===================================================================================\n",
      "\n",
      "Warnings:\n",
      "[1] Covariance matrix calculated using the outer product of gradients (complex-step).\n"
     ]
    }
   ],
   "source": [
    "#create arima model and fit the dataset.\n",
    "model = sm.tsa.arima.ARIMA(df['All_grade_price($/gallon)'], order=(1, 1, 3))\n",
    "model_b = model.fit()\n",
    "print(model_b.summary())"
   ]
  },
  {
   "cell_type": "markdown",
   "id": "0c8a2704",
   "metadata": {},
   "source": [
    "### Plot Residual graphs"
   ]
  },
  {
   "cell_type": "code",
   "execution_count": 13,
   "id": "05d48dd8",
   "metadata": {},
   "outputs": [
    {
     "data": {
      "image/png": "[encoded data removed]",
      "text/plain": [
       "<Figure size 1296x360 with 2 Axes>"
      ]
     },
     "metadata": {
      "needs_background": "light"
     },
     "output_type": "display_data"
    }
   ],
   "source": [
    "#plot the residual errors\n",
    "res = pd.DataFrame(model_b.resid)\n",
    "fig,ax = plt.subplots(1,2)\n",
    "res.plot(title='Residuals', ax=ax[0], figsize=(18,5))\n",
    "res.plot(kind='kde',title='Density', ax=ax[1])\n",
    "plt.show()"
   ]
  },
  {
   "cell_type": "code",
   "execution_count": 14,
   "id": "a71e5ddd",
   "metadata": {},
   "outputs": [
    {
     "data": {
      "image/png": "[encoded data removed]",
      "text/plain": [
       "<Figure size 1296x360 with 2 Axes>"
      ]
     },
     "metadata": {
      "needs_background": "light"
     },
     "output_type": "display_data"
    }
   ],
   "source": [
    "#change to horizontal\n",
    "res = pd.DataFrame(model_b.resid)\n",
    "fig,ax = plt.subplots(2,1)\n",
    "res.plot(title='Residuals', ax=ax[0], figsize=(18,5))\n",
    "res.plot(kind='kde',title='Density', ax=ax[1])\n",
    "plt.show()"
   ]
  },
  {
   "cell_type": "markdown",
   "id": "1f3451d4",
   "metadata": {},
   "source": [
    "### Make a prediction"
   ]
  },
  {
   "cell_type": "code",
   "execution_count": 15,
   "id": "cb3312de",
   "metadata": {},
   "outputs": [
    {
     "name": "stdout",
     "output_type": "stream",
     "text": [
      "2019-11-01    2.762818\n",
      "2019-12-01    2.660564\n",
      "2020-01-01    2.628256\n",
      "2020-02-01    2.647393\n",
      "2020-03-01    2.481009\n",
      "2020-04-01    2.247584\n",
      "2020-05-01    1.788804\n",
      "2020-06-01    2.081071\n",
      "2020-07-01    2.310516\n",
      "2020-08-01    2.290173\n",
      "2020-09-01    2.271210\n",
      "2020-10-01    2.289201\n",
      "2020-11-01    2.240178\n",
      "2020-12-01    2.186624\n",
      "2021-01-01    2.348499\n",
      "2021-02-01    2.480508\n",
      "2021-03-01    2.644015\n",
      "2021-04-01    3.024067\n",
      "2021-05-01    2.890759\n",
      "2021-06-01    3.106437\n",
      "2021-07-01    3.157270\n",
      "2021-08-01    3.214680\n",
      "2021-09-01    3.227945\n",
      "2021-10-01    3.245877\n",
      "2021-11-01    3.414296\n",
      "2021-12-01    3.496996\n",
      "2022-01-01    3.306609\n",
      "2022-02-01    3.411452\n",
      "2022-03-01    3.697541\n",
      "2022-04-01    4.627894\n",
      "Freq: MS, Name: predicted_mean, dtype: float64\n"
     ]
    }
   ],
   "source": [
    "start = len(train)\n",
    "end = len(train)+len(test)-1\n",
    "pred = model_b.predict(start = start, end=end, typ='levels')\n",
    "print(pred)"
   ]
  },
  {
   "cell_type": "code",
   "execution_count": 16,
   "id": "668b57bb",
   "metadata": {},
   "outputs": [],
   "source": [
    "#pred.index=df.index[start:end+1]\n",
    "#print(pred)"
   ]
  },
  {
   "cell_type": "code",
   "execution_count": 17,
   "id": "ccec2d4d",
   "metadata": {},
   "outputs": [
    {
     "data": {
      "text/plain": [
       "<AxesSubplot:xlabel='Date'>"
      ]
     },
     "execution_count": 17,
     "metadata": {},
     "output_type": "execute_result"
    },
    {
     "data": {
      "image/png": "[encoded data removed]",
      "text/plain": [
       "<Figure size 432x288 with 1 Axes>"
      ]
     },
     "metadata": {
      "needs_background": "light"
     },
     "output_type": "display_data"
    }
   ],
   "source": [
    "pred.plot(legend=True)\n",
    "test['All_grade_price($/gallon)'].plot(legend=True)\n"
   ]
  },
  {
   "cell_type": "code",
   "execution_count": 18,
   "id": "ac702c82",
   "metadata": {},
   "outputs": [
    {
     "name": "stdout",
     "output_type": "stream",
     "text": [
      "rmse:  0.17967321307294296\n"
     ]
    }
   ],
   "source": [
    "rmse = sqrt(mean_squared_error(pred, test))\n",
    "print('rmse: ', rmse)"
   ]
  },
  {
   "cell_type": "code",
   "execution_count": 19,
   "id": "e87f2746",
   "metadata": {},
   "outputs": [
    {
     "data": {
      "text/plain": [
       "All_grade_price($/gallon)    2.837967\n",
       "dtype: float64"
      ]
     },
     "execution_count": 19,
     "metadata": {},
     "output_type": "execute_result"
    }
   ],
   "source": [
    "test.mean()"
   ]
  },
  {
   "cell_type": "code",
   "execution_count": 20,
   "id": "cc4ee710",
   "metadata": {},
   "outputs": [],
   "source": [
    "### Compare the rmse and the mean of the dataset, it is a good model"
   ]
  },
  {
   "cell_type": "code",
   "execution_count": 21,
   "id": "28b66951",
   "metadata": {},
   "outputs": [
    {
     "name": "stdout",
     "output_type": "stream",
     "text": [
      "MAE = 0.12\n",
      "MSE = 0.03\n",
      "MAE = 0.08\n",
      "EVS = 0.92\n",
      "R2 score = 0.92\n"
     ]
    }
   ],
   "source": [
    "import sklearn.metrics as skm\n",
    "print('MAE =', round(skm.mean_absolute_error(test, pred), 2))\n",
    "print(\"MSE =\", round(skm.mean_squared_error(test, pred), 2)) \n",
    "print(\"MAE =\", round(skm.median_absolute_error(test, pred), 2)) \n",
    "print(\"EVS =\", round(skm.explained_variance_score(test, pred), 2)) \n",
    "print(\"R2 score =\", round(skm.r2_score(test, pred), 2))"
   ]
  },
  {
   "cell_type": "markdown",
   "id": "3ddc6dab",
   "metadata": {
    "scrolled": false
   },
   "source": [
    "## Make a Prediction for future gas price"
   ]
  },
  {
   "cell_type": "code",
   "execution_count": 22,
   "id": "1ca6aa0e",
   "metadata": {},
   "outputs": [
    {
     "data": {
      "text/html": [
       "<div>\n",
       "<style scoped>\n",
       "    .dataframe tbody tr th:only-of-type {\n",
       "        vertical-align: middle;\n",
       "    }\n",
       "\n",
       "    .dataframe tbody tr th {\n",
       "        vertical-align: top;\n",
       "    }\n",
       "\n",
       "    .dataframe thead th {\n",
       "        text-align: right;\n",
       "    }\n",
       "</style>\n",
       "<table border=\"1\" class=\"dataframe\">\n",
       "  <thead>\n",
       "    <tr style=\"text-align: right;\">\n",
       "      <th></th>\n",
       "      <th>All_grade_price($/gallon)</th>\n",
       "    </tr>\n",
       "    <tr>\n",
       "      <th>Date</th>\n",
       "      <th></th>\n",
       "    </tr>\n",
       "  </thead>\n",
       "  <tbody>\n",
       "    <tr>\n",
       "      <th>2021-12-01</th>\n",
       "      <td>3.406</td>\n",
       "    </tr>\n",
       "    <tr>\n",
       "      <th>2022-01-01</th>\n",
       "      <td>3.413</td>\n",
       "    </tr>\n",
       "    <tr>\n",
       "      <th>2022-02-01</th>\n",
       "      <td>3.611</td>\n",
       "    </tr>\n",
       "    <tr>\n",
       "      <th>2022-03-01</th>\n",
       "      <td>4.322</td>\n",
       "    </tr>\n",
       "    <tr>\n",
       "      <th>2022-04-01</th>\n",
       "      <td>4.213</td>\n",
       "    </tr>\n",
       "  </tbody>\n",
       "</table>\n",
       "</div>"
      ],
      "text/plain": [
       "            All_grade_price($/gallon)\n",
       "Date                                 \n",
       "2021-12-01                      3.406\n",
       "2022-01-01                      3.413\n",
       "2022-02-01                      3.611\n",
       "2022-03-01                      4.322\n",
       "2022-04-01                      4.213"
      ]
     },
     "execution_count": 22,
     "metadata": {},
     "output_type": "execute_result"
    }
   ],
   "source": [
    "#check the latest data we have\n",
    "df.tail()"
   ]
  },
  {
   "cell_type": "code",
   "execution_count": 23,
   "id": "ee4372f4",
   "metadata": {},
   "outputs": [],
   "source": [
    "#model set up\n",
    "model_recent = sm.tsa.arima.ARIMA(df['All_grade_price($/gallon)'], order=(1,1,3))\n",
    "model_rf = model_recent.fit()"
   ]
  },
  {
   "cell_type": "code",
   "execution_count": 24,
   "id": "8c61ed2f",
   "metadata": {},
   "outputs": [
    {
     "name": "stdout",
     "output_type": "stream",
     "text": [
      "The future prediction for the rest of year: \n",
      "2022-04    3.960487\n",
      "2022-05    3.788744\n",
      "2022-06    3.745202\n",
      "2022-07    3.712550\n",
      "2022-08    3.688064\n",
      "2022-09    3.669702\n",
      "2022-10    3.655933\n",
      "2022-11    3.645607\n",
      "2022-12    3.637864\n",
      "Freq: M, Name: ARIMA Recent Prediction, dtype: float64\n"
     ]
    }
   ],
   "source": [
    "#predict the next half yr gas price: from April to December 2022\n",
    "index_pred = pd.period_range(start='2022-04-01', end='2022-12-01', freq='M')\n",
    "#print(index_pred)\n",
    "pred = model_rf.predict(start=len(df), end=len(df)+8, typ='levels',dynamic=False).rename('ARIMA Recent Prediction')\n",
    "pred.index = index_pred\n",
    "print('The future prediction for the rest of year: ')\n",
    "print(pred)"
   ]
  },
  {
   "cell_type": "code",
   "execution_count": 28,
   "id": "22a042e5",
   "metadata": {},
   "outputs": [
    {
     "data": {
      "text/plain": [
       "Text(0.5, 1.0, 'All Grades Gasoline Prediction for 2022')"
      ]
     },
     "execution_count": 28,
     "metadata": {},
     "output_type": "execute_result"
    },
    {
     "data": {
      "image/png": "[encoded data removed]",
      "text/plain": [
       "<Figure size 864x360 with 1 Axes>"
      ]
     },
     "metadata": {
      "needs_background": "light"
     },
     "output_type": "display_data"
    }
   ],
   "source": [
    "pred.plot(figsize=(12,5), legend=True, style='.-')\n",
    "plt.xlabel('Month')\n",
    "plt.ylabel('Price($/gal)')\n",
    "plt.title('All Grades Gasoline Prediction for 2022')"
   ]
  },
  {
   "cell_type": "code",
   "execution_count": null,
   "id": "643b7764",
   "metadata": {},
   "outputs": [],
   "source": []
  },
  {
   "cell_type": "code",
   "execution_count": null,
   "id": "83f5a808",
   "metadata": {},
   "outputs": [],
   "source": []
  },
  {
   "cell_type": "code",
   "execution_count": null,
   "id": "2420879a",
   "metadata": {},
   "outputs": [],
   "source": []
  }
 ],
 "metadata": {
  "kernelspec": {
   "display_name": "mlenv",
   "language": "python",
   "name": "mlenv"
  },
  "language_info": {
   "codemirror_mode": {
    "name": "ipython",
    "version": 3
   },
   "file_extension": ".py",
   "mimetype": "text/x-python",
   "name": "python",
   "nbconvert_exporter": "python",
   "pygments_lexer": "ipython3",
   "version": "3.7.11"
  }
 },
 "nbformat": 4,
 "nbformat_minor": 5
}
