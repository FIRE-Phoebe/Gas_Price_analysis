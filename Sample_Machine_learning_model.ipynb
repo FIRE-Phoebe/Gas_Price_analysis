{
 "cells": [
  {
   "cell_type": "markdown",
   "id": "1ada189f",
   "metadata": {},
   "source": [
    "# Machine Learning Model"
   ]
  },
  {
   "cell_type": "markdown",
   "id": "f64987ba",
   "metadata": {},
   "source": [
    "## Supervised ML "
   ]
  },
  {
   "cell_type": "code",
   "execution_count": 1,
   "id": "13aae62d",
   "metadata": {},
   "outputs": [],
   "source": [
    "import pandas as pd\n",
    "import matplotlib.pyplot as plt\n",
    "from sklearn.linear_model import LogisticRegression\n",
    "from sklearn.model_selection import train_test_split"
   ]
  },
  {
   "cell_type": "markdown",
   "id": "12001106",
   "metadata": {},
   "source": [
    "## import dataset"
   ]
  },
  {
   "cell_type": "code",
   "execution_count": 4,
   "id": "ace66fe8",
   "metadata": {},
   "outputs": [],
   "source": [
    "supply_demand = pd.read_csv('Resources/Datasets/cleaned_data/supply_demand.csv')\n",
    "import_export = pd.read_csv('Resources/Datasets/cleaned_data/import_export.csv')\n",
    "price_by_type = pd.read_csv('Resources/Datasets/cleaned_data/price_by_type.csv')\n",
    "gas_storage = pd.read_csv('Resources/Datasets/cleaned_data/storage_vol.csv')"
   ]
  },
  {
   "cell_type": "markdown",
   "id": "48aad20d",
   "metadata": {},
   "source": [
    "## Preprocessing Data"
   ]
  },
  {
   "cell_type": "code",
   "execution_count": 5,
   "id": "c7e3c1e1",
   "metadata": {},
   "outputs": [],
   "source": [
    "supply_demand = supply_demand.drop(columns='Unnamed: 0')\n",
    "import_export = import_export.drop(columns='Unnamed: 0')"
   ]
  },
  {
   "cell_type": "code",
   "execution_count": 6,
   "id": "544edf2f",
   "metadata": {},
   "outputs": [
    {
     "data": {
      "text/html": [
       "<div>\n",
       "<style scoped>\n",
       "    .dataframe tbody tr th:only-of-type {\n",
       "        vertical-align: middle;\n",
       "    }\n",
       "\n",
       "    .dataframe tbody tr th {\n",
       "        vertical-align: top;\n",
       "    }\n",
       "\n",
       "    .dataframe thead th {\n",
       "        text-align: right;\n",
       "    }\n",
       "</style>\n",
       "<table border=\"1\" class=\"dataframe\">\n",
       "  <thead>\n",
       "    <tr style=\"text-align: right;\">\n",
       "      <th></th>\n",
       "      <th>Year</th>\n",
       "      <th>Month</th>\n",
       "      <th>Gas_Procution(Mmcf)</th>\n",
       "      <th>Gas_Consumption(Mmcf)</th>\n",
       "    </tr>\n",
       "  </thead>\n",
       "  <tbody>\n",
       "    <tr>\n",
       "      <th>0</th>\n",
       "      <td>2022</td>\n",
       "      <td>2</td>\n",
       "      <td>2856356</td>\n",
       "      <td>3040029.0</td>\n",
       "    </tr>\n",
       "    <tr>\n",
       "      <th>1</th>\n",
       "      <td>2022</td>\n",
       "      <td>1</td>\n",
       "      <td>3180818</td>\n",
       "      <td>3591557.0</td>\n",
       "    </tr>\n",
       "    <tr>\n",
       "      <th>2</th>\n",
       "      <td>2021</td>\n",
       "      <td>12</td>\n",
       "      <td>3266272</td>\n",
       "      <td>2979653.0</td>\n",
       "    </tr>\n",
       "    <tr>\n",
       "      <th>3</th>\n",
       "      <td>2021</td>\n",
       "      <td>11</td>\n",
       "      <td>3161306</td>\n",
       "      <td>2659971.0</td>\n",
       "    </tr>\n",
       "    <tr>\n",
       "      <th>4</th>\n",
       "      <td>2021</td>\n",
       "      <td>10</td>\n",
       "      <td>3219612</td>\n",
       "      <td>2237715.0</td>\n",
       "    </tr>\n",
       "  </tbody>\n",
       "</table>\n",
       "</div>"
      ],
      "text/plain": [
       "   Year  Month  Gas_Procution(Mmcf)  Gas_Consumption(Mmcf)\n",
       "0  2022      2              2856356              3040029.0\n",
       "1  2022      1              3180818              3591557.0\n",
       "2  2021     12              3266272              2979653.0\n",
       "3  2021     11              3161306              2659971.0\n",
       "4  2021     10              3219612              2237715.0"
      ]
     },
     "execution_count": 6,
     "metadata": {},
     "output_type": "execute_result"
    }
   ],
   "source": [
    "supply_demand.head()"
   ]
  },
  {
   "cell_type": "code",
   "execution_count": 7,
   "id": "c4ab7b9f",
   "metadata": {},
   "outputs": [],
   "source": [
    "supply_demand['Market_status'] = supply_demand['Gas_Procution(Mmcf)'] - supply_demand['Gas_Consumption(Mmcf)']"
   ]
  },
  {
   "cell_type": "code",
   "execution_count": 8,
   "id": "4aa76abe",
   "metadata": {},
   "outputs": [
    {
     "data": {
      "text/html": [
       "<div>\n",
       "<style scoped>\n",
       "    .dataframe tbody tr th:only-of-type {\n",
       "        vertical-align: middle;\n",
       "    }\n",
       "\n",
       "    .dataframe tbody tr th {\n",
       "        vertical-align: top;\n",
       "    }\n",
       "\n",
       "    .dataframe thead th {\n",
       "        text-align: right;\n",
       "    }\n",
       "</style>\n",
       "<table border=\"1\" class=\"dataframe\">\n",
       "  <thead>\n",
       "    <tr style=\"text-align: right;\">\n",
       "      <th></th>\n",
       "      <th>Year</th>\n",
       "      <th>Month</th>\n",
       "      <th>Gas_Procution(Mmcf)</th>\n",
       "      <th>Gas_Consumption(Mmcf)</th>\n",
       "      <th>Market_status</th>\n",
       "    </tr>\n",
       "  </thead>\n",
       "  <tbody>\n",
       "    <tr>\n",
       "      <th>0</th>\n",
       "      <td>2022</td>\n",
       "      <td>2</td>\n",
       "      <td>2856356</td>\n",
       "      <td>3040029.0</td>\n",
       "      <td>0</td>\n",
       "    </tr>\n",
       "    <tr>\n",
       "      <th>1</th>\n",
       "      <td>2022</td>\n",
       "      <td>1</td>\n",
       "      <td>3180818</td>\n",
       "      <td>3591557.0</td>\n",
       "      <td>0</td>\n",
       "    </tr>\n",
       "    <tr>\n",
       "      <th>2</th>\n",
       "      <td>2021</td>\n",
       "      <td>12</td>\n",
       "      <td>3266272</td>\n",
       "      <td>2979653.0</td>\n",
       "      <td>1</td>\n",
       "    </tr>\n",
       "    <tr>\n",
       "      <th>3</th>\n",
       "      <td>2021</td>\n",
       "      <td>11</td>\n",
       "      <td>3161306</td>\n",
       "      <td>2659971.0</td>\n",
       "      <td>1</td>\n",
       "    </tr>\n",
       "    <tr>\n",
       "      <th>4</th>\n",
       "      <td>2021</td>\n",
       "      <td>10</td>\n",
       "      <td>3219612</td>\n",
       "      <td>2237715.0</td>\n",
       "      <td>1</td>\n",
       "    </tr>\n",
       "  </tbody>\n",
       "</table>\n",
       "</div>"
      ],
      "text/plain": [
       "   Year  Month  Gas_Procution(Mmcf)  Gas_Consumption(Mmcf) Market_status\n",
       "0  2022      2              2856356              3040029.0             0\n",
       "1  2022      1              3180818              3591557.0             0\n",
       "2  2021     12              3266272              2979653.0             1\n",
       "3  2021     11              3161306              2659971.0             1\n",
       "4  2021     10              3219612              2237715.0             1"
      ]
     },
     "execution_count": 8,
     "metadata": {},
     "output_type": "execute_result"
    }
   ],
   "source": [
    "supply_demand['Market_status'] = supply_demand['Market_status'].apply(lambda x: '1' if x >0 else '0')\n",
    "supply_demand.head()"
   ]
  },
  {
   "cell_type": "code",
   "execution_count": 9,
   "id": "a5032f21",
   "metadata": {},
   "outputs": [
    {
     "data": {
      "text/plain": [
       "(254, 4)"
      ]
     },
     "execution_count": 9,
     "metadata": {},
     "output_type": "execute_result"
    }
   ],
   "source": [
    "X = supply_demand.drop(columns='Market_status')\n",
    "y = supply_demand['Market_status']\n",
    "X.shape"
   ]
  },
  {
   "cell_type": "code",
   "execution_count": 10,
   "id": "91ed93c2",
   "metadata": {},
   "outputs": [],
   "source": [
    "X_train,X_test,y_train,y_test =train_test_split(X,y,random_state=42, stratify=y)"
   ]
  },
  {
   "cell_type": "code",
   "execution_count": 11,
   "id": "afcc1a4a",
   "metadata": {},
   "outputs": [
    {
     "data": {
      "text/plain": [
       "LogisticRegression(max_iter=200, random_state=42)"
      ]
     },
     "execution_count": 11,
     "metadata": {},
     "output_type": "execute_result"
    }
   ],
   "source": [
    "classifier = LogisticRegression(solver='lbfgs', max_iter=200, random_state=42)\n",
    "classifier.fit(X_train,y_train)"
   ]
  },
  {
   "cell_type": "code",
   "execution_count": 12,
   "id": "779b6ade",
   "metadata": {},
   "outputs": [],
   "source": [
    "y_predict = classifier.predict(X_test)"
   ]
  },
  {
   "cell_type": "code",
   "execution_count": 13,
   "id": "742f3737",
   "metadata": {},
   "outputs": [
    {
     "data": {
      "text/plain": [
       "1.0"
      ]
     },
     "execution_count": 13,
     "metadata": {},
     "output_type": "execute_result"
    }
   ],
   "source": [
    "from sklearn.metrics import accuracy_score, confusion_matrix, classification_report\n",
    "accuracy_score(y_test, y_predict)"
   ]
  },
  {
   "cell_type": "code",
   "execution_count": 14,
   "id": "188a62d1",
   "metadata": {},
   "outputs": [
    {
     "name": "stdout",
     "output_type": "stream",
     "text": [
      "[[28  0]\n",
      " [ 0 36]]\n"
     ]
    }
   ],
   "source": [
    "matrix = confusion_matrix(y_test,y_predict)\n",
    "print(matrix)"
   ]
  },
  {
   "cell_type": "code",
   "execution_count": 15,
   "id": "53875031",
   "metadata": {},
   "outputs": [
    {
     "name": "stdout",
     "output_type": "stream",
     "text": [
      "              precision    recall  f1-score   support\n",
      "\n",
      "           0       1.00      1.00      1.00        28\n",
      "           1       1.00      1.00      1.00        36\n",
      "\n",
      "    accuracy                           1.00        64\n",
      "   macro avg       1.00      1.00      1.00        64\n",
      "weighted avg       1.00      1.00      1.00        64\n",
      "\n"
     ]
    }
   ],
   "source": [
    "report = classification_report(y_test, y_predict)\n",
    "print(report)"
   ]
  },
  {
   "cell_type": "code",
   "execution_count": 30,
   "id": "809b49a6",
   "metadata": {},
   "outputs": [
    {
     "data": {
      "image/png": "[encoded data removed]",
      "text/plain": [
       "<Figure size 432x288 with 1 Axes>"
      ]
     },
     "metadata": {
      "needs_background": "light"
     },
     "output_type": "display_data"
    }
   ],
   "source": [
    "#plot in graph\n",
    "X = supply_demand['Year']\n",
    "Y = supply_demand['Gas_Consumption(Mmcf)']\n",
    "plt.plot(X,Y)\n",
    "plt.show()"
   ]
  },
  {
   "cell_type": "code",
   "execution_count": 29,
   "id": "66a38c89",
   "metadata": {},
   "outputs": [
    {
     "data": {
      "image/png": "[encoded data removed]",
      "text/plain": [
       "<Figure size 432x288 with 1 Axes>"
      ]
     },
     "metadata": {
      "needs_background": "light"
     },
     "output_type": "display_data"
    }
   ],
   "source": [
    "#plot in graph\n",
    "X = supply_demand['Year']\n",
    "Y = supply_demand['Gas_Procution(Mmcf)']\n",
    "plt.plot(X,Y)\n",
    "plt.show()"
   ]
  },
  {
   "cell_type": "code",
   "execution_count": null,
   "id": "c73846a9",
   "metadata": {},
   "outputs": [],
   "source": []
  },
  {
   "cell_type": "code",
   "execution_count": null,
   "id": "00584d17",
   "metadata": {},
   "outputs": [],
   "source": []
  }
 ],
 "metadata": {
  "kernelspec": {
   "display_name": "mlenv",
   "language": "python",
   "name": "mlenv"
  },
  "language_info": {
   "codemirror_mode": {
    "name": "ipython",
    "version": 3
   },
   "file_extension": ".py",
   "mimetype": "text/x-python",
   "name": "python",
   "nbconvert_exporter": "python",
   "pygments_lexer": "ipython3",
   "version": "3.7.11"
  }
 },
 "nbformat": 4,
 "nbformat_minor": 5
}
