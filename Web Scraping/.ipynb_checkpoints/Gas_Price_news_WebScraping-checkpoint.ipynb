{
 "cells": [
  {
   "cell_type": "code",
   "execution_count": 1,
   "id": "42238a7c",
   "metadata": {},
   "outputs": [],
   "source": [
    "# Import Splinter, BeautifulSoup, and Pandas\n",
    "from splinter import Browser\n",
    "from bs4 import BeautifulSoup as soup\n",
    "import pandas as pd\n",
    "from webdriver_manager.chrome import ChromeDriverManager\n",
    "import urllib.request\n",
    "import requests\n",
    "import lxml"
   ]
  },
  {
   "cell_type": "code",
   "execution_count": 2,
   "id": "8c3866f2",
   "metadata": {},
   "outputs": [
    {
     "name": "stderr",
     "output_type": "stream",
     "text": [
      "\n",
      "\n",
      "====== WebDriver manager ======\n",
      "Current google-chrome version is 101.0.4951\n",
      "Get LATEST chromedriver version for 101.0.4951 google-chrome\n",
      "Trying to download new driver from https://chromedriver.storage.googleapis.com/101.0.4951.41/chromedriver_win32.zip\n",
      "Driver has been saved in cache [C:\\Users\\kimbe\\.wdm\\drivers\\chromedriver\\win32\\101.0.4951.41]\n"
     ]
    }
   ],
   "source": [
    "# Set the executable path and initialize Splinter\n",
    "executable_path = {'executable_path': ChromeDriverManager().install()}\n",
    "browser = Browser('chrome', **executable_path, headless=False)"
   ]
  },
  {
   "cell_type": "markdown",
   "id": "8061d24c",
   "metadata": {},
   "source": [
    "## National Average Gas Price (Real Time) "
   ]
  },
  {
   "cell_type": "code",
   "execution_count": null,
   "id": "88e36742",
   "metadata": {},
   "outputs": [],
   "source": [
    "# Create an URL object\n",
    "url = 'https://fuelinsights.gasbuddy.com/Home/US'\n",
    "# Create object page\n",
    "page = requests.get(url)"
   ]
  },
  {
   "cell_type": "code",
   "execution_count": null,
   "id": "df08f8c2",
   "metadata": {},
   "outputs": [],
   "source": [
    "# parser-lxml = Change html to Python friendly format\n",
    "# Obtain page's information\n",
    "html = browser.html\n",
    "soup = soup(html, 'html.parser')\n",
    "soup"
   ]
  },
  {
   "cell_type": "markdown",
   "id": "e87204b2",
   "metadata": {},
   "source": [
    "### Try to get the text only (price)"
   ]
  },
  {
   "cell_type": "code",
   "execution_count": null,
   "id": "a88fd948",
   "metadata": {},
   "outputs": [],
   "source": [
    "# slide_elem = soup.select_one('span.tickingAvgPriceSpan')\n",
    "\n",
    "for x in soup.find_all(class_='tickingAvgPriceDiv'):\n",
    "    x_span = x.find('span',class_='tickingAvgPriceSpan')\n",
    "    print(x_span.parent.text.strip())"
   ]
  },
  {
   "cell_type": "code",
   "execution_count": null,
   "id": "5b5b013d",
   "metadata": {},
   "outputs": [],
   "source": [
    "soup.select('div:has(> tickingAvgPriceSpan)')"
   ]
  },
  {
   "cell_type": "code",
   "execution_count": null,
   "id": "dd4038b7",
   "metadata": {},
   "outputs": [],
   "source": [
    "slide_elem.find('id', attrs={'tickingAvgPriceText'}).text"
   ]
  },
  {
   "cell_type": "code",
   "execution_count": null,
   "id": "5f9db002",
   "metadata": {},
   "outputs": [],
   "source": [
    "divs = soup.find_all('div')\n",
    "\n",
    "for div in divs:\n",
    "    spans = div.find_all('span')\n",
    "    if spans:\n",
    "        print(spans[0].text)\n",
    "    else:\n",
    "        print(\"no result\")"
   ]
  },
  {
   "cell_type": "markdown",
   "id": "ab05e515",
   "metadata": {},
   "source": [
    "### Try to get the whole circle image with the price info"
   ]
  },
  {
   "cell_type": "code",
   "execution_count": null,
   "id": "a634402f",
   "metadata": {},
   "outputs": [],
   "source": [
    "circle=soup.find('div', class_='tickingAvgLabel')"
   ]
  },
  {
   "cell_type": "code",
   "execution_count": null,
   "id": "7ab78ef9",
   "metadata": {},
   "outputs": [],
   "source": [
    "circle.get_text()"
   ]
  },
  {
   "cell_type": "code",
   "execution_count": null,
   "id": "d89e2c21",
   "metadata": {},
   "outputs": [],
   "source": [
    "# circle=soup.find('div', attrs={'id':'tickingAverageMainBox'})"
   ]
  },
  {
   "cell_type": "code",
   "execution_count": null,
   "id": "0a0756d6",
   "metadata": {},
   "outputs": [],
   "source": []
  },
  {
   "cell_type": "code",
   "execution_count": null,
   "id": "2ec2f7ad",
   "metadata": {},
   "outputs": [],
   "source": [
    "#finding the div with the id\n",
    "div_bs4 = soup.find('div', id = \"tickingAverageMainBox\").get_text()\n",
    "  \n",
    "print(div_bs4)"
   ]
  },
  {
   "cell_type": "code",
   "execution_count": null,
   "id": "24fe5856",
   "metadata": {},
   "outputs": [],
   "source": [
    "result =browser.is_element_present_by_css('id.tickingAvgPriceText')\n",
    "print(result)"
   ]
  },
  {
   "cell_type": "code",
   "execution_count": null,
   "id": "5eb143a3",
   "metadata": {},
   "outputs": [],
   "source": []
  },
  {
   "cell_type": "code",
   "execution_count": null,
   "id": "8a3a1b40",
   "metadata": {},
   "outputs": [],
   "source": []
  },
  {
   "cell_type": "code",
   "execution_count": null,
   "id": "7e6a0a08",
   "metadata": {},
   "outputs": [],
   "source": [
    "# # Visit URL\n",
    "# url = 'https://www.gasbuddy.com/charts'\n",
    "# browser.visit(url)"
   ]
  },
  {
   "cell_type": "code",
   "execution_count": null,
   "id": "3fcd7db9",
   "metadata": {},
   "outputs": [],
   "source": [
    "# # Parse the resulting html with soup\n",
    "# html = browser.html\n",
    "# img_soup = soup(html, 'html.parser')\n",
    "# img_soup\n"
   ]
  },
  {
   "cell_type": "code",
   "execution_count": null,
   "id": "8ffab01a",
   "metadata": {},
   "outputs": [],
   "source": [
    "\n",
    "# # find the relative image url\n",
    "# img_url_rel = img_soup.find('img', class_='t_chartImage img-responsive')\n",
    "# img_url_rel"
   ]
  },
  {
   "cell_type": "code",
   "execution_count": null,
   "id": "675d553a",
   "metadata": {},
   "outputs": [],
   "source": [
    "# # Use the base url to create an absolute url\n",
    "# img_url = f'https://www.gasbuddy.com/charts/{img_url_rel}'\n",
    "# img_url"
   ]
  },
  {
   "cell_type": "markdown",
   "id": "b69f1193",
   "metadata": {},
   "source": [
    "## Scrape News Titles"
   ]
  },
  {
   "cell_type": "code",
   "execution_count": 3,
   "id": "dd42273d",
   "metadata": {},
   "outputs": [],
   "source": [
    "# 1. Use browser to visit the URL \n",
    "# url = 'https://gasprices.aaa.com/news/'\n",
    "url='https://www.gasbuddy.com/go/category/gas-prices'\n",
    "browser.visit(url)"
   ]
  },
  {
   "cell_type": "code",
   "execution_count": 4,
   "id": "51d13e1a",
   "metadata": {},
   "outputs": [],
   "source": [
    "from bs4 import BeautifulSoup as Soup\n",
    "import requests\n",
    "from splinter import Browser\n",
    "import pandas as pd\n",
    "from selenium import webdriver\n",
    "import urllib.request,sys,time"
   ]
  },
  {
   "cell_type": "code",
   "execution_count": null,
   "id": "715e4490",
   "metadata": {},
   "outputs": [],
   "source": [
    "# page=requests.get(url)"
   ]
  },
  {
   "cell_type": "code",
   "execution_count": null,
   "id": "0f011e05",
   "metadata": {},
   "outputs": [],
   "source": [
    "# page.status_code"
   ]
  },
  {
   "cell_type": "code",
   "execution_count": null,
   "id": "e78391b4",
   "metadata": {},
   "outputs": [],
   "source": [
    "# page.text"
   ]
  },
  {
   "cell_type": "code",
   "execution_count": null,
   "id": "d9926d8c",
   "metadata": {},
   "outputs": [],
   "source": [
    "# page.content"
   ]
  },
  {
   "cell_type": "code",
   "execution_count": 5,
   "id": "36eacdb8",
   "metadata": {},
   "outputs": [],
   "source": [
    "html = browser.html\n",
    "html_soup = soup(html, 'html.parser')"
   ]
  },
  {
   "cell_type": "code",
   "execution_count": 6,
   "id": "217828cc",
   "metadata": {},
   "outputs": [
    {
     "data": {
      "text/plain": [
       "True"
      ]
     },
     "execution_count": 6,
     "metadata": {},
     "output_type": "execute_result"
    }
   ],
   "source": [
    "browser.is_element_present_by_css('div.post-titling', wait_time=1)"
   ]
  },
  {
   "cell_type": "code",
   "execution_count": 20,
   "id": "f6e3f5fe",
   "metadata": {},
   "outputs": [
    {
     "name": "stdout",
     "output_type": "stream",
     "text": [
      "<div class=\"post-titling\">\n",
      "<h2 class=\"pvh-title\">Memorial Day Travel Trends: Live Stream 03.19.22</h2>\n",
      "</div>\n"
     ]
    }
   ],
   "source": [
    "elem = html_soup.select_one('div.post-titling')\n",
    "print(elem)"
   ]
  },
  {
   "cell_type": "code",
   "execution_count": 21,
   "id": "40e827e8",
   "metadata": {},
   "outputs": [
    {
     "name": "stdout",
     "output_type": "stream",
     "text": [
      "<h2 class=\"pvh-title\">Memorial Day Travel Trends: Live Stream 03.19.22</h2>\n"
     ]
    }
   ],
   "source": [
    "elem = html_soup.select_one('h2.pvh-title')\n",
    "print(elem)"
   ]
  },
  {
   "cell_type": "code",
   "execution_count": 22,
   "id": "bf4a66f5",
   "metadata": {},
   "outputs": [
    {
     "name": "stdout",
     "output_type": "stream",
     "text": [
      "[<h2 class=\"pvh-title\">Memorial Day Travel Trends: Live Stream 03.19.22</h2>, <h2 class=\"pvh-title\">Gasoline Inventories Drop Again, Distillates Build for Second Straight…</h2>, <h2 class=\"pvh-title\">Gas Prices Jump for Fifth Straight Week, Diesel Declines</h2>, <h2 class=\"pvh-title\">Oil, Gasoline, SPR Inventories Plummet</h2>, <h2 class=\"pvh-title\">Nationwide Gas Price Spike Continues, Just Three States Under $4</h2>, <h2 class=\"pvh-title\">Oil Inventories Skyrocket as SPR Sees Largest Weekly Decline Ever, Gasoline…</h2>]\n"
     ]
    }
   ],
   "source": [
    "headers = html_soup.find_all('h2', {'class':'pvh-title'})\n",
    "print(headers)"
   ]
  },
  {
   "cell_type": "code",
   "execution_count": 19,
   "id": "c6b7a6e3",
   "metadata": {},
   "outputs": [
    {
     "name": "stdout",
     "output_type": "stream",
     "text": [
      "[<h2 class=\"pvh-title\">Memorial Day Travel Trends: Live Stream 03.19.22</h2>, <h2 class=\"pvh-title\">Gasoline Inventories Drop Again, Distillates Build for Second Straight…</h2>, <h2 class=\"pvh-title\">Gas Prices Jump for Fifth Straight Week, Diesel Declines</h2>, <h2 class=\"pvh-title\">Oil, Gasoline, SPR Inventories Plummet</h2>, <h2 class=\"pvh-title\">Nationwide Gas Price Spike Continues, Just Three States Under $4</h2>, <h2 class=\"pvh-title\">Oil Inventories Skyrocket as SPR Sees Largest Weekly Decline Ever, Gasoline…</h2>]\n"
     ]
    }
   ],
   "source": [
    "headers = html_soup.find_all('h2')\n",
    "print(headers)"
   ]
  },
  {
   "cell_type": "code",
   "execution_count": 32,
   "id": "aa8b6617",
   "metadata": {},
   "outputs": [
    {
     "name": "stdout",
     "output_type": "stream",
     "text": [
      "['Memorial Day Travel Trends: Live Stream 03.19.22', 'Gasoline Inventories Drop Again, Distillates Build for Second Straight…', 'Gas Prices Jump for Fifth Straight Week, Diesel Declines', 'Oil, Gasoline, SPR Inventories Plummet', 'Nationwide Gas Price Spike Continues, Just Three States Under $4', 'Oil Inventories Skyrocket as SPR Sees Largest Weekly Decline Ever, Gasoline…']\n"
     ]
    }
   ],
   "source": [
    "titles = list(map(lambda h: h.text.strip(), headers))\n",
    "print(titles)"
   ]
  },
  {
   "cell_type": "markdown",
   "id": "b0995858",
   "metadata": {},
   "source": [
    "## News links"
   ]
  },
  {
   "cell_type": "code",
   "execution_count": 24,
   "id": "44f5db8b",
   "metadata": {},
   "outputs": [
    {
     "name": "stdout",
     "output_type": "stream",
     "text": [
      "<div class=\"post-preview\">\n",
      "<!-- Post Header -->\n",
      "<style>\n",
      "post-share-buttons:hover{\n",
      "\twidth:194px !important;\n",
      "}\n",
      ".post-share-buttons:hover .psb-icon a.trigger:before,.post-share-buttons:hover .psb-icon span.trigger:before{\n",
      "\tcolor:#0095a8;\n",
      "}\n",
      ".post-titling {\n",
      "\tposition:absolute;\n",
      "\tbottom:0;\n",
      "\tleft:0;\n",
      "\twidth:100%;\n",
      "\tpadding:15px;\n",
      "}\n",
      ".post-titling h2 {\n",
      "\tposition:static !important;\n",
      "}\n",
      ".sponsor-image {\n",
      "\t/* margin-top:40px; */\n",
      "\tmax-width:30%;\n",
      "\tmargin-bottom:10px;\n",
      "}\n",
      ".sponsor-image img {\n",
      "\tdisplay:block;\n",
      "\tmax-width:100%;\n",
      "\theight:auto;\n",
      "}\n",
      "</style>\n",
      "<a href=\"https://www.gasbuddy.com/go/memorial-day-travel-trends\"><div class=\"pv-header\" style=\"background: url(https://blog-content.gasbuddy.com/uploads/2022/02/02.24.22-press-conference-thumbnail.png) center center;\">\n",
      "<div class=\"overlay\"></div>\n",
      "<div class=\"pvh-cat default gas-prices\">Gas Prices</div>\n",
      "<div class=\"post-titling\">\n",
      "<h2 class=\"pvh-title\">Memorial Day Travel Trends: Live Stream 03.19.22</h2>\n",
      "</div>\n",
      "</div></a>\n",
      "<!-- Post Content -->\n",
      "<div class=\"pv-body\">\n",
      "<div class=\"pvb-info\">By <a href=\"https://www.gasbuddy.com/go/author/gasbuddy\">GasBuddy</a> <span>|<span> May 25, 2022</span></span></div>\n",
      "<p class=\"pvb-content\">What can consumers expect to pay for gas on Memorial Day weekend? Are high gas prices actually deterring people from taking summer road trips? As drivers prepare to head out on the road next weekend, our head of petroleum analysis will share everything they…</p>\n",
      "<div class=\"wrapper-buttons\">\n",
      "<a class=\"gb-button\" href=\"https://www.gasbuddy.com/go/memorial-day-travel-trends\">read more</a>\n",
      "<div class=\"post-share-buttons\">\n",
      "<div class=\"psb-icon\"><span class=\"trigger psb-trigger\"></span></div>\n",
      "<div class=\"psb-icon\"><a class=\"twitter nolightbox\" href=\"https://twitter.com/share?url=https%3A%2F%2Fwww.gasbuddy.com%2Fgo%2Fmemorial-day-travel-trends&amp;text=Memorial Day Travel Trends: Live Stream 03.19.22&amp;via=gasbuddy\" target=\"_blank\"></a></div>\n",
      "<div class=\"psb-icon\"><a class=\"facebook nolightbox\" href=\"https://www.facebook.com/sharer/sharer.php?u=https%3A%2F%2Fwww.gasbuddy.com%2Fgo%2Fmemorial-day-travel-trends&amp;picture=http%3A%2F%2Fblog-content.gasbuddy.com%2Fuploads%2F2022%2F02%2F02.24.22-press-conference-header.png\" target=\"_blank\"></a></div>\n",
      "<div class=\"psb-icon\"><a class=\"linkedin\" href=\"https://www.linkedin.com/shareArticle?url=https%3A%2F%2Fwww.gasbuddy.com%2Fgo%2Fmemorial-day-travel-trends&amp;title=Memorial+Day+Travel+Trends%3A+Live+Stream+03.19.22&amp;summary=&amp;source=http%3A%2F%2Fjb.gasbuddy.com\" target=\"_blank\"></a></div>\n",
      "</div>\n",
      "</div>\n",
      "</div>\n",
      "</div>\n"
     ]
    }
   ],
   "source": [
    "news_link = html_soup.find('div', {'class':'post-preview'})\n",
    "print(news_link)"
   ]
  },
  {
   "cell_type": "code",
   "execution_count": 26,
   "id": "6f4d6503",
   "metadata": {},
   "outputs": [
    {
     "name": "stdout",
     "output_type": "stream",
     "text": [
      "[<div class=\"post-preview\">\n",
      "<!-- Post Header -->\n",
      "<style>\n",
      "post-share-buttons:hover{\n",
      "\twidth:194px !important;\n",
      "}\n",
      ".post-share-buttons:hover .psb-icon a.trigger:before,.post-share-buttons:hover .psb-icon span.trigger:before{\n",
      "\tcolor:#0095a8;\n",
      "}\n",
      ".post-titling {\n",
      "\tposition:absolute;\n",
      "\tbottom:0;\n",
      "\tleft:0;\n",
      "\twidth:100%;\n",
      "\tpadding:15px;\n",
      "}\n",
      ".post-titling h2 {\n",
      "\tposition:static !important;\n",
      "}\n",
      ".sponsor-image {\n",
      "\t/* margin-top:40px; */\n",
      "\tmax-width:30%;\n",
      "\tmargin-bottom:10px;\n",
      "}\n",
      ".sponsor-image img {\n",
      "\tdisplay:block;\n",
      "\tmax-width:100%;\n",
      "\theight:auto;\n",
      "}\n",
      "</style>\n",
      "<a href=\"https://www.gasbuddy.com/go/memorial-day-travel-trends\"><div class=\"pv-header\" style=\"background: url(https://blog-content.gasbuddy.com/uploads/2022/02/02.24.22-press-conference-thumbnail.png) center center;\">\n",
      "<div class=\"overlay\"></div>\n",
      "<div class=\"pvh-cat default gas-prices\">Gas Prices</div>\n",
      "<div class=\"post-titling\">\n",
      "<h2 class=\"pvh-title\">Memorial Day Travel Trends: Live Stream 03.19.22</h2>\n",
      "</div>\n",
      "</div></a>\n",
      "<!-- Post Content -->\n",
      "<div class=\"pv-body\">\n",
      "<div class=\"pvb-info\">By <a href=\"https://www.gasbuddy.com/go/author/gasbuddy\">GasBuddy</a> <span>|<span> May 25, 2022</span></span></div>\n",
      "<p class=\"pvb-content\">What can consumers expect to pay for gas on Memorial Day weekend? Are high gas prices actually deterring people from taking summer road trips? As drivers prepare to head out on the road next weekend, our head of petroleum analysis will share everything they…</p>\n",
      "<div class=\"wrapper-buttons\">\n",
      "<a class=\"gb-button\" href=\"https://www.gasbuddy.com/go/memorial-day-travel-trends\">read more</a>\n",
      "<div class=\"post-share-buttons\">\n",
      "<div class=\"psb-icon\"><span class=\"trigger psb-trigger\"></span></div>\n",
      "<div class=\"psb-icon\"><a class=\"twitter nolightbox\" href=\"https://twitter.com/share?url=https%3A%2F%2Fwww.gasbuddy.com%2Fgo%2Fmemorial-day-travel-trends&amp;text=Memorial Day Travel Trends: Live Stream 03.19.22&amp;via=gasbuddy\" target=\"_blank\"></a></div>\n",
      "<div class=\"psb-icon\"><a class=\"facebook nolightbox\" href=\"https://www.facebook.com/sharer/sharer.php?u=https%3A%2F%2Fwww.gasbuddy.com%2Fgo%2Fmemorial-day-travel-trends&amp;picture=http%3A%2F%2Fblog-content.gasbuddy.com%2Fuploads%2F2022%2F02%2F02.24.22-press-conference-header.png\" target=\"_blank\"></a></div>\n",
      "<div class=\"psb-icon\"><a class=\"linkedin\" href=\"https://www.linkedin.com/shareArticle?url=https%3A%2F%2Fwww.gasbuddy.com%2Fgo%2Fmemorial-day-travel-trends&amp;title=Memorial+Day+Travel+Trends%3A+Live+Stream+03.19.22&amp;summary=&amp;source=http%3A%2F%2Fjb.gasbuddy.com\" target=\"_blank\"></a></div>\n",
      "</div>\n",
      "</div>\n",
      "</div>\n",
      "</div>, <div class=\"post-preview\">\n",
      "<!-- Post Header -->\n",
      "<style>\n",
      "post-share-buttons:hover{\n",
      "\twidth:194px !important;\n",
      "}\n",
      ".post-share-buttons:hover .psb-icon a.trigger:before,.post-share-buttons:hover .psb-icon span.trigger:before{\n",
      "\tcolor:#0095a8;\n",
      "}\n",
      ".post-titling {\n",
      "\tposition:absolute;\n",
      "\tbottom:0;\n",
      "\tleft:0;\n",
      "\twidth:100%;\n",
      "\tpadding:15px;\n",
      "}\n",
      ".post-titling h2 {\n",
      "\tposition:static !important;\n",
      "}\n",
      ".sponsor-image {\n",
      "\t/* margin-top:40px; */\n",
      "\tmax-width:30%;\n",
      "\tmargin-bottom:10px;\n",
      "}\n",
      ".sponsor-image img {\n",
      "\tdisplay:block;\n",
      "\tmax-width:100%;\n",
      "\theight:auto;\n",
      "}\n",
      "</style>\n",
      "<a href=\"https://www.gasbuddy.com/go/gasoline-inventories-drop-again-distillates-build-for-second-straight-week\"><div class=\"pv-header\" style=\"background: url(https://blog-content.gasbuddy.com/uploads/2019/05/EIA_blog_header2-400x4001.jpg) center center;\">\n",
      "<div class=\"overlay\"></div>\n",
      "<div class=\"pvh-cat default gas-prices\">Gas Prices</div>\n",
      "<div class=\"post-titling\">\n",
      "<h2 class=\"pvh-title\">Gasoline Inventories Drop Again, Distillates Build for Second Straight…</h2>\n",
      "</div>\n",
      "</div></a>\n",
      "<!-- Post Content -->\n",
      "<div class=\"pv-body\">\n",
      "<div class=\"pvb-info\">By <a href=\"https://www.gasbuddy.com/go/author/pdehaan\">Patrick De Haan</a> <span>|<span> May 25, 2022</span></span></div>\n",
      "<p class=\"pvb-content\">The Energy Information Administration (EIA) released its weekly report today on the status of petroleum inventories in the United States. Here are some highlights: CRUDE OIL INVENTORIES: Crude oil inventories decreased by 1.0 million barrels (MMbbl) to a total…</p>\n",
      "<div class=\"wrapper-buttons\">\n",
      "<a class=\"gb-button\" href=\"https://www.gasbuddy.com/go/gasoline-inventories-drop-again-distillates-build-for-second-straight-week\">read more</a>\n",
      "<div class=\"post-share-buttons\">\n",
      "<div class=\"psb-icon\"><span class=\"trigger psb-trigger\"></span></div>\n",
      "<div class=\"psb-icon\"><a class=\"twitter nolightbox\" href=\"https://twitter.com/share?url=https%3A%2F%2Fwww.gasbuddy.com%2Fgo%2Fgasoline-inventories-drop-again-distillates-build-for-second-straight-week&amp;text=Gasoline Inventories Drop Again, Distillates Build for Second Straight Week&amp;via=gasbuddy\" target=\"_blank\"></a></div>\n",
      "<div class=\"psb-icon\"><a class=\"facebook nolightbox\" href=\"https://www.facebook.com/sharer/sharer.php?u=https%3A%2F%2Fwww.gasbuddy.com%2Fgo%2Fgasoline-inventories-drop-again-distillates-build-for-second-straight-week&amp;picture=http%3A%2F%2Fblog-content.gasbuddy.com%2Fuploads%2F2019%2F05%2FEIA_blog_header2.jpg\" target=\"_blank\"></a></div>\n",
      "<div class=\"psb-icon\"><a class=\"linkedin\" href=\"https://www.linkedin.com/shareArticle?url=https%3A%2F%2Fwww.gasbuddy.com%2Fgo%2Fgasoline-inventories-drop-again-distillates-build-for-second-straight-week&amp;title=Gasoline+Inventories+Drop+Again%2C+Distillates+Build+for+Second+Straight+Week&amp;summary=&amp;source=http%3A%2F%2Fjb.gasbuddy.com\" target=\"_blank\"></a></div>\n",
      "</div>\n",
      "</div>\n",
      "</div>\n",
      "</div>, <div class=\"post-preview\">\n",
      "<!-- Post Header -->\n",
      "<style>\n",
      "post-share-buttons:hover{\n",
      "\twidth:194px !important;\n",
      "}\n",
      ".post-share-buttons:hover .psb-icon a.trigger:before,.post-share-buttons:hover .psb-icon span.trigger:before{\n",
      "\tcolor:#0095a8;\n",
      "}\n",
      ".post-titling {\n",
      "\tposition:absolute;\n",
      "\tbottom:0;\n",
      "\tleft:0;\n",
      "\twidth:100%;\n",
      "\tpadding:15px;\n",
      "}\n",
      ".post-titling h2 {\n",
      "\tposition:static !important;\n",
      "}\n",
      ".sponsor-image {\n",
      "\t/* margin-top:40px; */\n",
      "\tmax-width:30%;\n",
      "\tmargin-bottom:10px;\n",
      "}\n",
      ".sponsor-image img {\n",
      "\tdisplay:block;\n",
      "\tmax-width:100%;\n",
      "\theight:auto;\n",
      "}\n",
      "</style>\n",
      "<a href=\"https://www.gasbuddy.com/go/gas-prices-jump-for-fifth-straight-week-diesel-declines\"><div class=\"pv-header\" style=\"background: url(https://blog-content.gasbuddy.com/uploads/2018/07/Patrick_blog_thumbnail3.jpg) center center;\">\n",
      "<div class=\"overlay\"></div>\n",
      "<div class=\"pvh-cat default gas-prices\">Gas Prices</div>\n",
      "<div class=\"post-titling\">\n",
      "<h2 class=\"pvh-title\">Gas Prices Jump for Fifth Straight Week, Diesel Declines</h2>\n",
      "</div>\n",
      "</div></a>\n",
      "<!-- Post Content -->\n",
      "<div class=\"pv-body\">\n",
      "<div class=\"pvb-info\">By <a href=\"https://www.gasbuddy.com/go/author/gasbuddy\">GasBuddy</a> <span>|<span> May 23, 2022</span></span></div>\n",
      "<p class=\"pvb-content\">For the fifth straight week, the nation’s average gas price has gone up, rising 11.0 cents from a week ago to $4.57 per gallon today according to GasBuddy data compiled from more than 11 million individual price reports covering over 150,000 gas stations…</p>\n",
      "<div class=\"wrapper-buttons\">\n",
      "<a class=\"gb-button\" href=\"https://www.gasbuddy.com/go/gas-prices-jump-for-fifth-straight-week-diesel-declines\">read more</a>\n",
      "<div class=\"post-share-buttons\">\n",
      "<div class=\"psb-icon\"><span class=\"trigger psb-trigger\"></span></div>\n",
      "<div class=\"psb-icon\"><a class=\"twitter nolightbox\" href=\"https://twitter.com/share?url=https%3A%2F%2Fwww.gasbuddy.com%2Fgo%2Fgas-prices-jump-for-fifth-straight-week-diesel-declines&amp;text=Gas Prices Jump for Fifth Straight Week, Diesel Declines&amp;via=gasbuddy\" target=\"_blank\"></a></div>\n",
      "<div class=\"psb-icon\"><a class=\"facebook nolightbox\" href=\"https://www.facebook.com/sharer/sharer.php?u=https%3A%2F%2Fwww.gasbuddy.com%2Fgo%2Fgas-prices-jump-for-fifth-straight-week-diesel-declines&amp;picture=https%3A%2F%2Fblog-content.gasbuddy.com%2Fuploads%2F2018%2F07%2FPatrick_blog_header3.jpg\" target=\"_blank\"></a></div>\n",
      "<div class=\"psb-icon\"><a class=\"linkedin\" href=\"https://www.linkedin.com/shareArticle?url=https%3A%2F%2Fwww.gasbuddy.com%2Fgo%2Fgas-prices-jump-for-fifth-straight-week-diesel-declines&amp;title=Gas+Prices+Jump+for+Fifth+Straight+Week%2C+Diesel+Declines&amp;summary=&amp;source=http%3A%2F%2Fjb.gasbuddy.com\" target=\"_blank\"></a></div>\n",
      "</div>\n",
      "</div>\n",
      "</div>\n",
      "</div>, <div class=\"post-preview\">\n",
      "<!-- Post Header -->\n",
      "<style>\n",
      "post-share-buttons:hover{\n",
      "\twidth:194px !important;\n",
      "}\n",
      ".post-share-buttons:hover .psb-icon a.trigger:before,.post-share-buttons:hover .psb-icon span.trigger:before{\n",
      "\tcolor:#0095a8;\n",
      "}\n",
      ".post-titling {\n",
      "\tposition:absolute;\n",
      "\tbottom:0;\n",
      "\tleft:0;\n",
      "\twidth:100%;\n",
      "\tpadding:15px;\n",
      "}\n",
      ".post-titling h2 {\n",
      "\tposition:static !important;\n",
      "}\n",
      ".sponsor-image {\n",
      "\t/* margin-top:40px; */\n",
      "\tmax-width:30%;\n",
      "\tmargin-bottom:10px;\n",
      "}\n",
      ".sponsor-image img {\n",
      "\tdisplay:block;\n",
      "\tmax-width:100%;\n",
      "\theight:auto;\n",
      "}\n",
      "</style>\n",
      "<a href=\"https://www.gasbuddy.com/go/oil-gasoline-spr-inventories-plummet\"><div class=\"pv-header\" style=\"background: url(https://blog-content.gasbuddy.com/uploads/2019/05/EIA_blog_header2-400x4001.jpg) center center;\">\n",
      "<div class=\"overlay\"></div>\n",
      "<div class=\"pvh-cat default gas-prices\">Gas Prices</div>\n",
      "<div class=\"post-titling\">\n",
      "<h2 class=\"pvh-title\">Oil, Gasoline, SPR Inventories Plummet</h2>\n",
      "</div>\n",
      "</div></a>\n",
      "<!-- Post Content -->\n",
      "<div class=\"pv-body\">\n",
      "<div class=\"pvb-info\">By <a href=\"https://www.gasbuddy.com/go/author/pdehaan\">Patrick De Haan</a> <span>|<span> May 18, 2022</span></span></div>\n",
      "<p class=\"pvb-content\">The Energy Information Administration (EIA) released its weekly report today on the status of petroleum inventories in the United States. Here are some highlights: CRUDE OIL INVENTORIES: Crude oil inventories decreased by 3.4 million barrels (MMbbl) to a total…</p>\n",
      "<div class=\"wrapper-buttons\">\n",
      "<a class=\"gb-button\" href=\"https://www.gasbuddy.com/go/oil-gasoline-spr-inventories-plummet\">read more</a>\n",
      "<div class=\"post-share-buttons\">\n",
      "<div class=\"psb-icon\"><span class=\"trigger psb-trigger\"></span></div>\n",
      "<div class=\"psb-icon\"><a class=\"twitter nolightbox\" href=\"https://twitter.com/share?url=https%3A%2F%2Fwww.gasbuddy.com%2Fgo%2Foil-gasoline-spr-inventories-plummet&amp;text=Oil, Gasoline, SPR Inventories Plummet&amp;via=gasbuddy\" target=\"_blank\"></a></div>\n",
      "<div class=\"psb-icon\"><a class=\"facebook nolightbox\" href=\"https://www.facebook.com/sharer/sharer.php?u=https%3A%2F%2Fwww.gasbuddy.com%2Fgo%2Foil-gasoline-spr-inventories-plummet&amp;picture=http%3A%2F%2Fblog-content.gasbuddy.com%2Fuploads%2F2019%2F05%2FEIA_blog_header2.jpg\" target=\"_blank\"></a></div>\n",
      "<div class=\"psb-icon\"><a class=\"linkedin\" href=\"https://www.linkedin.com/shareArticle?url=https%3A%2F%2Fwww.gasbuddy.com%2Fgo%2Foil-gasoline-spr-inventories-plummet&amp;title=Oil%2C+Gasoline%2C+SPR+Inventories+Plummet&amp;summary=&amp;source=http%3A%2F%2Fjb.gasbuddy.com\" target=\"_blank\"></a></div>\n",
      "</div>\n",
      "</div>\n",
      "</div>\n",
      "</div>, <div class=\"post-preview\">\n",
      "<!-- Post Header -->\n",
      "<style>\n",
      "post-share-buttons:hover{\n",
      "\twidth:194px !important;\n",
      "}\n",
      ".post-share-buttons:hover .psb-icon a.trigger:before,.post-share-buttons:hover .psb-icon span.trigger:before{\n",
      "\tcolor:#0095a8;\n",
      "}\n",
      ".post-titling {\n",
      "\tposition:absolute;\n",
      "\tbottom:0;\n",
      "\tleft:0;\n",
      "\twidth:100%;\n",
      "\tpadding:15px;\n",
      "}\n",
      ".post-titling h2 {\n",
      "\tposition:static !important;\n",
      "}\n",
      ".sponsor-image {\n",
      "\t/* margin-top:40px; */\n",
      "\tmax-width:30%;\n",
      "\tmargin-bottom:10px;\n",
      "}\n",
      ".sponsor-image img {\n",
      "\tdisplay:block;\n",
      "\tmax-width:100%;\n",
      "\theight:auto;\n",
      "}\n",
      "</style>\n",
      "<a href=\"https://www.gasbuddy.com/go/nationwide-gas-price-spike-continues-just-three-states-under-4\"><div class=\"pv-header\" style=\"background: url(https://blog-content.gasbuddy.com/uploads/2018/07/Patrick_blog_thumbnail3.jpg) center center;\">\n",
      "<div class=\"overlay\"></div>\n",
      "<div class=\"pvh-cat default gas-prices\">Gas Prices</div>\n",
      "<div class=\"post-titling\">\n",
      "<h2 class=\"pvh-title\">Nationwide Gas Price Spike Continues, Just Three States Under $4</h2>\n",
      "</div>\n",
      "</div></a>\n",
      "<!-- Post Content -->\n",
      "<div class=\"pv-body\">\n",
      "<div class=\"pvb-info\">By <a href=\"https://www.gasbuddy.com/go/author/gasbuddy\">GasBuddy</a> <span>|<span> May 16, 2022</span></span></div>\n",
      "<p class=\"pvb-content\">For the fourth straight week, the nation’s average gas price has gone up, rising 15.3 cents from a week ago to $4.46 per gallon today according to GasBuddy data compiled from more than 11 million individual price reports covering over 150,000 gas stations…</p>\n",
      "<div class=\"wrapper-buttons\">\n",
      "<a class=\"gb-button\" href=\"https://www.gasbuddy.com/go/nationwide-gas-price-spike-continues-just-three-states-under-4\">read more</a>\n",
      "<div class=\"post-share-buttons\">\n",
      "<div class=\"psb-icon\"><span class=\"trigger psb-trigger\"></span></div>\n",
      "<div class=\"psb-icon\"><a class=\"twitter nolightbox\" href=\"https://twitter.com/share?url=https%3A%2F%2Fwww.gasbuddy.com%2Fgo%2Fnationwide-gas-price-spike-continues-just-three-states-under-4&amp;text=Nationwide Gas Price Spike Continues, Just Three States Under $4&amp;via=gasbuddy\" target=\"_blank\"></a></div>\n",
      "<div class=\"psb-icon\"><a class=\"facebook nolightbox\" href=\"https://www.facebook.com/sharer/sharer.php?u=https%3A%2F%2Fwww.gasbuddy.com%2Fgo%2Fnationwide-gas-price-spike-continues-just-three-states-under-4&amp;picture=https%3A%2F%2Fblog-content.gasbuddy.com%2Fuploads%2F2018%2F07%2FPatrick_blog_header3.jpg\" target=\"_blank\"></a></div>\n",
      "<div class=\"psb-icon\"><a class=\"linkedin\" href=\"https://www.linkedin.com/shareArticle?url=https%3A%2F%2Fwww.gasbuddy.com%2Fgo%2Fnationwide-gas-price-spike-continues-just-three-states-under-4&amp;title=Nationwide+Gas+Price+Spike+Continues%2C+Just+Three+States+Under+%244&amp;summary=&amp;source=http%3A%2F%2Fjb.gasbuddy.com\" target=\"_blank\"></a></div>\n",
      "</div>\n",
      "</div>\n",
      "</div>\n",
      "</div>, <div class=\"post-preview\">\n",
      "<!-- Post Header -->\n",
      "<style>\n",
      "post-share-buttons:hover{\n",
      "\twidth:194px !important;\n",
      "}\n",
      ".post-share-buttons:hover .psb-icon a.trigger:before,.post-share-buttons:hover .psb-icon span.trigger:before{\n",
      "\tcolor:#0095a8;\n",
      "}\n",
      ".post-titling {\n",
      "\tposition:absolute;\n",
      "\tbottom:0;\n",
      "\tleft:0;\n",
      "\twidth:100%;\n",
      "\tpadding:15px;\n",
      "}\n",
      ".post-titling h2 {\n",
      "\tposition:static !important;\n",
      "}\n",
      ".sponsor-image {\n",
      "\t/* margin-top:40px; */\n",
      "\tmax-width:30%;\n",
      "\tmargin-bottom:10px;\n",
      "}\n",
      ".sponsor-image img {\n",
      "\tdisplay:block;\n",
      "\tmax-width:100%;\n",
      "\theight:auto;\n",
      "}\n",
      "</style>\n",
      "<a href=\"https://www.gasbuddy.com/go/oil-inventories-skyrocket-as-spr-sees-largest-weekly-decline-ever-gasoline-inventories-sink\"><div class=\"pv-header\" style=\"background: url(https://blog-content.gasbuddy.com/uploads/2019/05/EIA_blog_header2-400x4001.jpg) center center;\">\n",
      "<div class=\"overlay\"></div>\n",
      "<div class=\"pvh-cat default gas-prices\">Gas Prices</div>\n",
      "<div class=\"post-titling\">\n",
      "<h2 class=\"pvh-title\">Oil Inventories Skyrocket as SPR Sees Largest Weekly Decline Ever, Gasoline…</h2>\n",
      "</div>\n",
      "</div></a>\n",
      "<!-- Post Content -->\n",
      "<div class=\"pv-body\">\n",
      "<div class=\"pvb-info\">By <a href=\"https://www.gasbuddy.com/go/author/pdehaan\">Patrick De Haan</a> <span>|<span> May 11, 2022</span></span></div>\n",
      "<p class=\"pvb-content\">The Energy Information Administration (EIA) released its weekly report today on the status of petroleum inventories in the United States. Here are some highlights: CRUDE OIL INVENTORIES: Crude oil inventories increased by 8.5 million barrels (MMbbl) to a total…</p>\n",
      "<div class=\"wrapper-buttons\">\n",
      "<a class=\"gb-button\" href=\"https://www.gasbuddy.com/go/oil-inventories-skyrocket-as-spr-sees-largest-weekly-decline-ever-gasoline-inventories-sink\">read more</a>\n",
      "<div class=\"post-share-buttons\">\n",
      "<div class=\"psb-icon\"><span class=\"trigger psb-trigger\"></span></div>\n",
      "<div class=\"psb-icon\"><a class=\"twitter nolightbox\" href=\"https://twitter.com/share?url=https%3A%2F%2Fwww.gasbuddy.com%2Fgo%2Foil-inventories-skyrocket-as-spr-sees-largest-weekly-decline-ever-gasoline-inventories-sink&amp;text=Oil Inventories Skyrocket as SPR Sees Largest Weekly Decline Ever, Gasoline Inventories Sink&amp;via=gasbuddy\" target=\"_blank\"></a></div>\n",
      "<div class=\"psb-icon\"><a class=\"facebook nolightbox\" href=\"https://www.facebook.com/sharer/sharer.php?u=https%3A%2F%2Fwww.gasbuddy.com%2Fgo%2Foil-inventories-skyrocket-as-spr-sees-largest-weekly-decline-ever-gasoline-inventories-sink&amp;picture=http%3A%2F%2Fblog-content.gasbuddy.com%2Fuploads%2F2019%2F05%2FEIA_blog_header2.jpg\" target=\"_blank\"></a></div>\n",
      "<div class=\"psb-icon\"><a class=\"linkedin\" href=\"https://www.linkedin.com/shareArticle?url=https%3A%2F%2Fwww.gasbuddy.com%2Fgo%2Foil-inventories-skyrocket-as-spr-sees-largest-weekly-decline-ever-gasoline-inventories-sink&amp;title=Oil+Inventories+Skyrocket+as+SPR+Sees+Largest+Weekly+Decline+Ever%2C+Gasoline+Inventories+Sink&amp;summary=&amp;source=http%3A%2F%2Fjb.gasbuddy.com\" target=\"_blank\"></a></div>\n",
      "</div>\n",
      "</div>\n",
      "</div>\n",
      "</div>]\n"
     ]
    }
   ],
   "source": [
    "all_divs = html_soup.find_all(class_=\"post-preview\")\n",
    "print(all_divs)"
   ]
  },
  {
   "cell_type": "code",
   "execution_count": 29,
   "id": "71627883",
   "metadata": {},
   "outputs": [
    {
     "name": "stdout",
     "output_type": "stream",
     "text": [
      "<a href=\"https://www.gasbuddy.com/go/memorial-day-travel-trends\"><div class=\"pv-header\" style=\"background: url(https://blog-content.gasbuddy.com/uploads/2022/02/02.24.22-press-conference-thumbnail.png) center center;\">\n",
      "<div class=\"overlay\"></div>\n",
      "<div class=\"pvh-cat default gas-prices\">Gas Prices</div>\n",
      "<div class=\"post-titling\">\n",
      "<h2 class=\"pvh-title\">Memorial Day Travel Trends: Live Stream 03.19.22</h2>\n",
      "</div>\n",
      "</div></a>\n"
     ]
    }
   ],
   "source": [
    "all_a = html_soup.find(class_=\"post-preview\").find('a')\n",
    "print(all_a)"
   ]
  },
  {
   "cell_type": "code",
   "execution_count": 35,
   "id": "1053db4c",
   "metadata": {},
   "outputs": [
    {
     "name": "stdout",
     "output_type": "stream",
     "text": [
      "https://www.gasbuddy.com/go/memorial-day-travel-trends\n"
     ]
    }
   ],
   "source": [
    "first_link = html_soup.find(class_=\"post-preview\").find('a')['href']\n",
    "print(first_link)"
   ]
  },
  {
   "cell_type": "code",
   "execution_count": 40,
   "id": "68ebbf76",
   "metadata": {},
   "outputs": [],
   "source": [
    "title_link = []\n",
    "link_list =[]\n",
    "links=html_soup.select('div.post-preview')"
   ]
  },
  {
   "cell_type": "code",
   "execution_count": 41,
   "id": "87d28dd3",
   "metadata": {},
   "outputs": [],
   "source": [
    "for link in links:\n",
    "    url = link.find('a')['href']\n",
    "    link_list.append(url)"
   ]
  },
  {
   "cell_type": "code",
   "execution_count": 42,
   "id": "891a9839",
   "metadata": {},
   "outputs": [
    {
     "name": "stdout",
     "output_type": "stream",
     "text": [
      "['https://www.gasbuddy.com/go/memorial-day-travel-trends', 'https://www.gasbuddy.com/go/gasoline-inventories-drop-again-distillates-build-for-second-straight-week', 'https://www.gasbuddy.com/go/gas-prices-jump-for-fifth-straight-week-diesel-declines', 'https://www.gasbuddy.com/go/oil-gasoline-spr-inventories-plummet', 'https://www.gasbuddy.com/go/nationwide-gas-price-spike-continues-just-three-states-under-4', 'https://www.gasbuddy.com/go/oil-inventories-skyrocket-as-spr-sees-largest-weekly-decline-ever-gasoline-inventories-sink']\n"
     ]
    }
   ],
   "source": [
    "print(link_list)"
   ]
  },
  {
   "cell_type": "code",
   "execution_count": 51,
   "id": "b08b6fb9",
   "metadata": {},
   "outputs": [],
   "source": [
    "for title in titles:\n",
    "    news_title = title\n",
    "    \n",
    "\n",
    "for link in links:\n",
    "    news_link = link.find('a')['href']\n",
    "        \n",
    "title_link.append({\"news_title\":news_title,\"news_url\": f'{news_link}'})"
   ]
  },
  {
   "cell_type": "code",
   "execution_count": 48,
   "id": "d72eb4a8",
   "metadata": {},
   "outputs": [
    {
     "data": {
      "text/plain": [
       "[{'news_title': 'Oil Inventories Skyrocket as SPR Sees Largest Weekly Decline Ever, Gasoline…',\n",
       "  'news_url': 'https://www.gasbuddy.com/go/oil-inventories-skyrocket-as-spr-sees-largest-weekly-decline-ever-gasoline-inventories-sink'}]"
      ]
     },
     "execution_count": 48,
     "metadata": {},
     "output_type": "execute_result"
    }
   ],
   "source": [
    "title_link"
   ]
  },
  {
   "cell_type": "code",
   "execution_count": null,
   "id": "161b0405",
   "metadata": {},
   "outputs": [],
   "source": []
  },
  {
   "cell_type": "code",
   "execution_count": null,
   "id": "1c8bf286",
   "metadata": {},
   "outputs": [],
   "source": [
    "# Quit the browser\n",
    "browser.quit()"
   ]
  },
  {
   "cell_type": "code",
   "execution_count": null,
   "id": "863b0d7c",
   "metadata": {},
   "outputs": [],
   "source": []
  },
  {
   "cell_type": "code",
   "execution_count": null,
   "id": "6f76619e",
   "metadata": {},
   "outputs": [],
   "source": []
  },
  {
   "cell_type": "code",
   "execution_count": null,
   "id": "24a3f7bb",
   "metadata": {},
   "outputs": [],
   "source": []
  },
  {
   "cell_type": "code",
   "execution_count": null,
   "id": "4f5a30c0",
   "metadata": {},
   "outputs": [],
   "source": []
  },
  {
   "cell_type": "code",
   "execution_count": null,
   "id": "bbef80de",
   "metadata": {},
   "outputs": [],
   "source": []
  },
  {
   "cell_type": "code",
   "execution_count": null,
   "id": "65482c55",
   "metadata": {},
   "outputs": [],
   "source": []
  },
  {
   "cell_type": "code",
   "execution_count": null,
   "id": "5c3353c0",
   "metadata": {},
   "outputs": [],
   "source": []
  },
  {
   "cell_type": "code",
   "execution_count": null,
   "id": "d685794c",
   "metadata": {},
   "outputs": [],
   "source": []
  },
  {
   "cell_type": "code",
   "execution_count": null,
   "id": "a976663b",
   "metadata": {},
   "outputs": [],
   "source": []
  },
  {
   "cell_type": "code",
   "execution_count": null,
   "id": "8cbba53b",
   "metadata": {},
   "outputs": [],
   "source": []
  },
  {
   "cell_type": "code",
   "execution_count": null,
   "id": "0479d01a",
   "metadata": {},
   "outputs": [],
   "source": []
  }
 ],
 "metadata": {
  "kernelspec": {
   "display_name": "Python 3 (ipykernel)",
   "language": "python",
   "name": "python3"
  },
  "language_info": {
   "codemirror_mode": {
    "name": "ipython",
    "version": 3
   },
   "file_extension": ".py",
   "mimetype": "text/x-python",
   "name": "python",
   "nbconvert_exporter": "python",
   "pygments_lexer": "ipython3",
   "version": "3.9.7"
  }
 },
 "nbformat": 4,
 "nbformat_minor": 5
}
