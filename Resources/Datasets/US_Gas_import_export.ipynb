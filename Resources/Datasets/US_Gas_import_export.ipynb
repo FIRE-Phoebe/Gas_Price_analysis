{
 "cells": [
  {
   "cell_type": "code",
   "execution_count": 1,
   "id": "44969adb",
   "metadata": {},
   "outputs": [],
   "source": [
    "import pandas as pd"
   ]
  },
  {
   "cell_type": "markdown",
   "id": "462c87f9",
   "metadata": {},
   "source": [
    "## Preprocess data"
   ]
  },
  {
   "cell_type": "code",
   "execution_count": 2,
   "id": "22fbef37",
   "metadata": {},
   "outputs": [
    {
     "data": {
      "text/html": [
       "<div>\n",
       "<style scoped>\n",
       "    .dataframe tbody tr th:only-of-type {\n",
       "        vertical-align: middle;\n",
       "    }\n",
       "\n",
       "    .dataframe tbody tr th {\n",
       "        vertical-align: top;\n",
       "    }\n",
       "\n",
       "    .dataframe thead th {\n",
       "        text-align: right;\n",
       "    }\n",
       "</style>\n",
       "<table border=\"1\" class=\"dataframe\">\n",
       "  <thead>\n",
       "    <tr style=\"text-align: right;\">\n",
       "      <th></th>\n",
       "      <th>Month</th>\n",
       "      <th>Price of U.S. Natural Gas Imports  Dollars per Thousand Cubic Feet</th>\n",
       "    </tr>\n",
       "  </thead>\n",
       "  <tbody>\n",
       "    <tr>\n",
       "      <th>0</th>\n",
       "      <td>Feb 2022</td>\n",
       "      <td>5.62</td>\n",
       "    </tr>\n",
       "    <tr>\n",
       "      <th>1</th>\n",
       "      <td>Jan 2022</td>\n",
       "      <td>6.87</td>\n",
       "    </tr>\n",
       "    <tr>\n",
       "      <th>2</th>\n",
       "      <td>Dec 2021</td>\n",
       "      <td>4.74</td>\n",
       "    </tr>\n",
       "    <tr>\n",
       "      <th>3</th>\n",
       "      <td>Nov 2021</td>\n",
       "      <td>5.18</td>\n",
       "    </tr>\n",
       "    <tr>\n",
       "      <th>4</th>\n",
       "      <td>Oct 2021</td>\n",
       "      <td>4.79</td>\n",
       "    </tr>\n",
       "  </tbody>\n",
       "</table>\n",
       "</div>"
      ],
      "text/plain": [
       "      Month  \\\n",
       "0  Feb 2022   \n",
       "1  Jan 2022   \n",
       "2  Dec 2021   \n",
       "3  Nov 2021   \n",
       "4  Oct 2021   \n",
       "\n",
       "   Price of U.S. Natural Gas Imports  Dollars per Thousand Cubic Feet  \n",
       "0                                               5.62                   \n",
       "1                                               6.87                   \n",
       "2                                               4.74                   \n",
       "3                                               5.18                   \n",
       "4                                               4.79                   "
      ]
     },
     "execution_count": 2,
     "metadata": {},
     "output_type": "execute_result"
    }
   ],
   "source": [
    "#import data and read file\n",
    "us_import_price = pd.read_csv('Price_of_U.S._Natural_Gas_Imports.csv', skiprows=4)\n",
    "us_import_price.head()"
   ]
  },
  {
   "cell_type": "code",
   "execution_count": 3,
   "id": "3a25e38d",
   "metadata": {},
   "outputs": [
    {
     "data": {
      "text/plain": [
       "Month                                                                 398\n",
       "Price of U.S. Natural Gas Imports  Dollars per Thousand Cubic Feet    398\n",
       "dtype: int64"
      ]
     },
     "execution_count": 3,
     "metadata": {},
     "output_type": "execute_result"
    }
   ],
   "source": [
    "us_import_price.count()"
   ]
  },
  {
   "cell_type": "code",
   "execution_count": 4,
   "id": "e48ac8f0",
   "metadata": {},
   "outputs": [
    {
     "data": {
      "text/plain": [
       "Month                                                                 0\n",
       "Price of U.S. Natural Gas Imports  Dollars per Thousand Cubic Feet    0\n",
       "dtype: int64"
      ]
     },
     "execution_count": 4,
     "metadata": {},
     "output_type": "execute_result"
    }
   ],
   "source": [
    "us_import_price.isnull().sum()"
   ]
  },
  {
   "cell_type": "code",
   "execution_count": 5,
   "id": "1ec42ec1",
   "metadata": {},
   "outputs": [
    {
     "data": {
      "text/plain": [
       "Month                                                                  object\n",
       "Price of U.S. Natural Gas Imports  Dollars per Thousand Cubic Feet    float64\n",
       "dtype: object"
      ]
     },
     "execution_count": 5,
     "metadata": {},
     "output_type": "execute_result"
    }
   ],
   "source": [
    "us_import_price.dtypes"
   ]
  },
  {
   "cell_type": "code",
   "execution_count": 6,
   "id": "ed278f39",
   "metadata": {},
   "outputs": [
    {
     "data": {
      "text/html": [
       "<div>\n",
       "<style scoped>\n",
       "    .dataframe tbody tr th:only-of-type {\n",
       "        vertical-align: middle;\n",
       "    }\n",
       "\n",
       "    .dataframe tbody tr th {\n",
       "        vertical-align: top;\n",
       "    }\n",
       "\n",
       "    .dataframe thead th {\n",
       "        text-align: right;\n",
       "    }\n",
       "</style>\n",
       "<table border=\"1\" class=\"dataframe\">\n",
       "  <thead>\n",
       "    <tr style=\"text-align: right;\">\n",
       "      <th></th>\n",
       "      <th>Month</th>\n",
       "      <th>Price of U.S. Natural Gas Imports  Dollars per Thousand Cubic Feet</th>\n",
       "      <th>Dates</th>\n",
       "    </tr>\n",
       "  </thead>\n",
       "  <tbody>\n",
       "    <tr>\n",
       "      <th>0</th>\n",
       "      <td>Feb 2022</td>\n",
       "      <td>5.62</td>\n",
       "      <td>2022-02-01</td>\n",
       "    </tr>\n",
       "    <tr>\n",
       "      <th>1</th>\n",
       "      <td>Jan 2022</td>\n",
       "      <td>6.87</td>\n",
       "      <td>2022-01-01</td>\n",
       "    </tr>\n",
       "    <tr>\n",
       "      <th>2</th>\n",
       "      <td>Dec 2021</td>\n",
       "      <td>4.74</td>\n",
       "      <td>2021-12-01</td>\n",
       "    </tr>\n",
       "    <tr>\n",
       "      <th>3</th>\n",
       "      <td>Nov 2021</td>\n",
       "      <td>5.18</td>\n",
       "      <td>2021-11-01</td>\n",
       "    </tr>\n",
       "    <tr>\n",
       "      <th>4</th>\n",
       "      <td>Oct 2021</td>\n",
       "      <td>4.79</td>\n",
       "      <td>2021-10-01</td>\n",
       "    </tr>\n",
       "  </tbody>\n",
       "</table>\n",
       "</div>"
      ],
      "text/plain": [
       "      Month  \\\n",
       "0  Feb 2022   \n",
       "1  Jan 2022   \n",
       "2  Dec 2021   \n",
       "3  Nov 2021   \n",
       "4  Oct 2021   \n",
       "\n",
       "   Price of U.S. Natural Gas Imports  Dollars per Thousand Cubic Feet  \\\n",
       "0                                               5.62                    \n",
       "1                                               6.87                    \n",
       "2                                               4.74                    \n",
       "3                                               5.18                    \n",
       "4                                               4.79                    \n",
       "\n",
       "       Dates  \n",
       "0 2022-02-01  \n",
       "1 2022-01-01  \n",
       "2 2021-12-01  \n",
       "3 2021-11-01  \n",
       "4 2021-10-01  "
      ]
     },
     "execution_count": 6,
     "metadata": {},
     "output_type": "execute_result"
    }
   ],
   "source": [
    "#convert data type\n",
    "us_import_price['Dates'] = pd.to_datetime(us_import_price['Month'])\n",
    "us_import_price.head()"
   ]
  },
  {
   "cell_type": "code",
   "execution_count": 7,
   "id": "b78571dd",
   "metadata": {},
   "outputs": [
    {
     "data": {
      "text/plain": [
       "Index(['Month',\n",
       "       'Price of U.S. Natural Gas Imports  Dollars per Thousand Cubic Feet',\n",
       "       'Dates'],\n",
       "      dtype='object')"
      ]
     },
     "execution_count": 7,
     "metadata": {},
     "output_type": "execute_result"
    }
   ],
   "source": [
    "us_import_price.columns"
   ]
  },
  {
   "cell_type": "code",
   "execution_count": 8,
   "id": "d76457ad",
   "metadata": {},
   "outputs": [
    {
     "data": {
      "text/html": [
       "<div>\n",
       "<style scoped>\n",
       "    .dataframe tbody tr th:only-of-type {\n",
       "        vertical-align: middle;\n",
       "    }\n",
       "\n",
       "    .dataframe tbody tr th {\n",
       "        vertical-align: top;\n",
       "    }\n",
       "\n",
       "    .dataframe thead th {\n",
       "        text-align: right;\n",
       "    }\n",
       "</style>\n",
       "<table border=\"1\" class=\"dataframe\">\n",
       "  <thead>\n",
       "    <tr style=\"text-align: right;\">\n",
       "      <th></th>\n",
       "      <th>Month</th>\n",
       "      <th>Price of U.S. Natural Gas Imports  Dollars per Thousand Cubic Feet</th>\n",
       "      <th>Dates</th>\n",
       "      <th>year</th>\n",
       "      <th>month</th>\n",
       "      <th>import_price($/Mcf)</th>\n",
       "    </tr>\n",
       "  </thead>\n",
       "  <tbody>\n",
       "    <tr>\n",
       "      <th>0</th>\n",
       "      <td>Feb 2022</td>\n",
       "      <td>5.62</td>\n",
       "      <td>2022-02-01</td>\n",
       "      <td>2022</td>\n",
       "      <td>2</td>\n",
       "      <td>5.62</td>\n",
       "    </tr>\n",
       "    <tr>\n",
       "      <th>1</th>\n",
       "      <td>Jan 2022</td>\n",
       "      <td>6.87</td>\n",
       "      <td>2022-01-01</td>\n",
       "      <td>2022</td>\n",
       "      <td>1</td>\n",
       "      <td>6.87</td>\n",
       "    </tr>\n",
       "    <tr>\n",
       "      <th>2</th>\n",
       "      <td>Dec 2021</td>\n",
       "      <td>4.74</td>\n",
       "      <td>2021-12-01</td>\n",
       "      <td>2021</td>\n",
       "      <td>12</td>\n",
       "      <td>4.74</td>\n",
       "    </tr>\n",
       "    <tr>\n",
       "      <th>3</th>\n",
       "      <td>Nov 2021</td>\n",
       "      <td>5.18</td>\n",
       "      <td>2021-11-01</td>\n",
       "      <td>2021</td>\n",
       "      <td>11</td>\n",
       "      <td>5.18</td>\n",
       "    </tr>\n",
       "    <tr>\n",
       "      <th>4</th>\n",
       "      <td>Oct 2021</td>\n",
       "      <td>4.79</td>\n",
       "      <td>2021-10-01</td>\n",
       "      <td>2021</td>\n",
       "      <td>10</td>\n",
       "      <td>4.79</td>\n",
       "    </tr>\n",
       "  </tbody>\n",
       "</table>\n",
       "</div>"
      ],
      "text/plain": [
       "      Month  \\\n",
       "0  Feb 2022   \n",
       "1  Jan 2022   \n",
       "2  Dec 2021   \n",
       "3  Nov 2021   \n",
       "4  Oct 2021   \n",
       "\n",
       "   Price of U.S. Natural Gas Imports  Dollars per Thousand Cubic Feet  \\\n",
       "0                                               5.62                    \n",
       "1                                               6.87                    \n",
       "2                                               4.74                    \n",
       "3                                               5.18                    \n",
       "4                                               4.79                    \n",
       "\n",
       "       Dates  year  month  import_price($/Mcf)  \n",
       "0 2022-02-01  2022      2                 5.62  \n",
       "1 2022-01-01  2022      1                 6.87  \n",
       "2 2021-12-01  2021     12                 4.74  \n",
       "3 2021-11-01  2021     11                 5.18  \n",
       "4 2021-10-01  2021     10                 4.79  "
      ]
     },
     "execution_count": 8,
     "metadata": {},
     "output_type": "execute_result"
    }
   ],
   "source": [
    "us_import_price['year'] = us_import_price['Dates'].dt.year\n",
    "us_import_price['month'] = us_import_price['Dates'].dt.month\n",
    "us_import_price['import_price($/Mcf)'] = us_import_price['Price of U.S. Natural Gas Imports  Dollars per Thousand Cubic Feet']\n",
    "us_import_price.head()"
   ]
  },
  {
   "cell_type": "code",
   "execution_count": 9,
   "id": "ce71e9bc",
   "metadata": {},
   "outputs": [
    {
     "data": {
      "text/html": [
       "<div>\n",
       "<style scoped>\n",
       "    .dataframe tbody tr th:only-of-type {\n",
       "        vertical-align: middle;\n",
       "    }\n",
       "\n",
       "    .dataframe tbody tr th {\n",
       "        vertical-align: top;\n",
       "    }\n",
       "\n",
       "    .dataframe thead th {\n",
       "        text-align: right;\n",
       "    }\n",
       "</style>\n",
       "<table border=\"1\" class=\"dataframe\">\n",
       "  <thead>\n",
       "    <tr style=\"text-align: right;\">\n",
       "      <th></th>\n",
       "      <th>Dates</th>\n",
       "      <th>year</th>\n",
       "      <th>month</th>\n",
       "      <th>import_price($/Mcf)</th>\n",
       "    </tr>\n",
       "  </thead>\n",
       "  <tbody>\n",
       "    <tr>\n",
       "      <th>0</th>\n",
       "      <td>2022-02-01</td>\n",
       "      <td>2022</td>\n",
       "      <td>2</td>\n",
       "      <td>5.62</td>\n",
       "    </tr>\n",
       "    <tr>\n",
       "      <th>1</th>\n",
       "      <td>2022-01-01</td>\n",
       "      <td>2022</td>\n",
       "      <td>1</td>\n",
       "      <td>6.87</td>\n",
       "    </tr>\n",
       "    <tr>\n",
       "      <th>2</th>\n",
       "      <td>2021-12-01</td>\n",
       "      <td>2021</td>\n",
       "      <td>12</td>\n",
       "      <td>4.74</td>\n",
       "    </tr>\n",
       "    <tr>\n",
       "      <th>3</th>\n",
       "      <td>2021-11-01</td>\n",
       "      <td>2021</td>\n",
       "      <td>11</td>\n",
       "      <td>5.18</td>\n",
       "    </tr>\n",
       "    <tr>\n",
       "      <th>4</th>\n",
       "      <td>2021-10-01</td>\n",
       "      <td>2021</td>\n",
       "      <td>10</td>\n",
       "      <td>4.79</td>\n",
       "    </tr>\n",
       "  </tbody>\n",
       "</table>\n",
       "</div>"
      ],
      "text/plain": [
       "       Dates  year  month  import_price($/Mcf)\n",
       "0 2022-02-01  2022      2                 5.62\n",
       "1 2022-01-01  2022      1                 6.87\n",
       "2 2021-12-01  2021     12                 4.74\n",
       "3 2021-11-01  2021     11                 5.18\n",
       "4 2021-10-01  2021     10                 4.79"
      ]
     },
     "execution_count": 9,
     "metadata": {},
     "output_type": "execute_result"
    }
   ],
   "source": [
    "#extract data to new df\n",
    "gas_import_price = us_import_price.copy()\n",
    "gas_import_price = gas_import_price.drop(columns = ['Month','Price of U.S. Natural Gas Imports  Dollars per Thousand Cubic Feet'])\n",
    "gas_import_price.head()"
   ]
  },
  {
   "cell_type": "markdown",
   "id": "1732dbd1",
   "metadata": {},
   "source": [
    "## Clean gas export price"
   ]
  },
  {
   "cell_type": "code",
   "execution_count": 10,
   "id": "a192c9ef",
   "metadata": {},
   "outputs": [
    {
     "data": {
      "text/html": [
       "<div>\n",
       "<style scoped>\n",
       "    .dataframe tbody tr th:only-of-type {\n",
       "        vertical-align: middle;\n",
       "    }\n",
       "\n",
       "    .dataframe tbody tr th {\n",
       "        vertical-align: top;\n",
       "    }\n",
       "\n",
       "    .dataframe thead th {\n",
       "        text-align: right;\n",
       "    }\n",
       "</style>\n",
       "<table border=\"1\" class=\"dataframe\">\n",
       "  <thead>\n",
       "    <tr style=\"text-align: right;\">\n",
       "      <th></th>\n",
       "      <th>Month</th>\n",
       "      <th>Price of U.S. Natural Gas Exports  Dollars per Thousand Cubic Feet</th>\n",
       "    </tr>\n",
       "  </thead>\n",
       "  <tbody>\n",
       "    <tr>\n",
       "      <th>0</th>\n",
       "      <td>Feb 2022</td>\n",
       "      <td>8.22</td>\n",
       "    </tr>\n",
       "    <tr>\n",
       "      <th>1</th>\n",
       "      <td>Jan 2022</td>\n",
       "      <td>7.04</td>\n",
       "    </tr>\n",
       "    <tr>\n",
       "      <th>2</th>\n",
       "      <td>Dec 2021</td>\n",
       "      <td>7.40</td>\n",
       "    </tr>\n",
       "    <tr>\n",
       "      <th>3</th>\n",
       "      <td>Nov 2021</td>\n",
       "      <td>8.10</td>\n",
       "    </tr>\n",
       "    <tr>\n",
       "      <th>4</th>\n",
       "      <td>Oct 2021</td>\n",
       "      <td>7.97</td>\n",
       "    </tr>\n",
       "  </tbody>\n",
       "</table>\n",
       "</div>"
      ],
      "text/plain": [
       "      Month  \\\n",
       "0  Feb 2022   \n",
       "1  Jan 2022   \n",
       "2  Dec 2021   \n",
       "3  Nov 2021   \n",
       "4  Oct 2021   \n",
       "\n",
       "   Price of U.S. Natural Gas Exports  Dollars per Thousand Cubic Feet  \n",
       "0                                               8.22                   \n",
       "1                                               7.04                   \n",
       "2                                               7.40                   \n",
       "3                                               8.10                   \n",
       "4                                               7.97                   "
      ]
     },
     "execution_count": 10,
     "metadata": {},
     "output_type": "execute_result"
    }
   ],
   "source": [
    "export_df = pd.read_csv('Price_of_U.S._Natural_Gas_exports.csv', skiprows=4)\n",
    "export_df.head()"
   ]
  },
  {
   "cell_type": "code",
   "execution_count": 11,
   "id": "3f0e42f3",
   "metadata": {},
   "outputs": [
    {
     "data": {
      "text/plain": [
       "Index(['Month', 'Price of U.S. Natural Gas Exports  Dollars per Thousand Cubic Feet'], dtype='object')"
      ]
     },
     "execution_count": 11,
     "metadata": {},
     "output_type": "execute_result"
    }
   ],
   "source": [
    "export_df.columns"
   ]
  },
  {
   "cell_type": "code",
   "execution_count": 12,
   "id": "57c48ac3",
   "metadata": {},
   "outputs": [
    {
     "data": {
      "text/plain": [
       "Month                                                                 0\n",
       "Price of U.S. Natural Gas Exports  Dollars per Thousand Cubic Feet    0\n",
       "dtype: int64"
      ]
     },
     "execution_count": 12,
     "metadata": {},
     "output_type": "execute_result"
    }
   ],
   "source": [
    "export_df.isnull().sum()"
   ]
  },
  {
   "cell_type": "code",
   "execution_count": 13,
   "id": "219a0b5e",
   "metadata": {},
   "outputs": [
    {
     "data": {
      "text/html": [
       "<div>\n",
       "<style scoped>\n",
       "    .dataframe tbody tr th:only-of-type {\n",
       "        vertical-align: middle;\n",
       "    }\n",
       "\n",
       "    .dataframe tbody tr th {\n",
       "        vertical-align: top;\n",
       "    }\n",
       "\n",
       "    .dataframe thead th {\n",
       "        text-align: right;\n",
       "    }\n",
       "</style>\n",
       "<table border=\"1\" class=\"dataframe\">\n",
       "  <thead>\n",
       "    <tr style=\"text-align: right;\">\n",
       "      <th></th>\n",
       "      <th>Month</th>\n",
       "      <th>Price of U.S. Natural Gas Exports  Dollars per Thousand Cubic Feet</th>\n",
       "      <th>Dates</th>\n",
       "      <th>export_price($/Mcf)</th>\n",
       "    </tr>\n",
       "  </thead>\n",
       "  <tbody>\n",
       "    <tr>\n",
       "      <th>0</th>\n",
       "      <td>Feb 2022</td>\n",
       "      <td>8.22</td>\n",
       "      <td>2022-02-01</td>\n",
       "      <td>8.22</td>\n",
       "    </tr>\n",
       "    <tr>\n",
       "      <th>1</th>\n",
       "      <td>Jan 2022</td>\n",
       "      <td>7.04</td>\n",
       "      <td>2022-01-01</td>\n",
       "      <td>7.04</td>\n",
       "    </tr>\n",
       "    <tr>\n",
       "      <th>2</th>\n",
       "      <td>Dec 2021</td>\n",
       "      <td>7.40</td>\n",
       "      <td>2021-12-01</td>\n",
       "      <td>7.40</td>\n",
       "    </tr>\n",
       "    <tr>\n",
       "      <th>3</th>\n",
       "      <td>Nov 2021</td>\n",
       "      <td>8.10</td>\n",
       "      <td>2021-11-01</td>\n",
       "      <td>8.10</td>\n",
       "    </tr>\n",
       "    <tr>\n",
       "      <th>4</th>\n",
       "      <td>Oct 2021</td>\n",
       "      <td>7.97</td>\n",
       "      <td>2021-10-01</td>\n",
       "      <td>7.97</td>\n",
       "    </tr>\n",
       "  </tbody>\n",
       "</table>\n",
       "</div>"
      ],
      "text/plain": [
       "      Month  \\\n",
       "0  Feb 2022   \n",
       "1  Jan 2022   \n",
       "2  Dec 2021   \n",
       "3  Nov 2021   \n",
       "4  Oct 2021   \n",
       "\n",
       "   Price of U.S. Natural Gas Exports  Dollars per Thousand Cubic Feet  \\\n",
       "0                                               8.22                    \n",
       "1                                               7.04                    \n",
       "2                                               7.40                    \n",
       "3                                               8.10                    \n",
       "4                                               7.97                    \n",
       "\n",
       "       Dates  export_price($/Mcf)  \n",
       "0 2022-02-01                 8.22  \n",
       "1 2022-01-01                 7.04  \n",
       "2 2021-12-01                 7.40  \n",
       "3 2021-11-01                 8.10  \n",
       "4 2021-10-01                 7.97  "
      ]
     },
     "execution_count": 13,
     "metadata": {},
     "output_type": "execute_result"
    }
   ],
   "source": [
    "export_df['Dates'] = pd.to_datetime(export_df['Month'])\n",
    "export_df['export_price($/Mcf)'] = export_df['Price of U.S. Natural Gas Exports  Dollars per Thousand Cubic Feet']\n",
    "export_df.head()"
   ]
  },
  {
   "cell_type": "code",
   "execution_count": 14,
   "id": "b9597356",
   "metadata": {},
   "outputs": [
    {
     "data": {
      "text/html": [
       "<div>\n",
       "<style scoped>\n",
       "    .dataframe tbody tr th:only-of-type {\n",
       "        vertical-align: middle;\n",
       "    }\n",
       "\n",
       "    .dataframe tbody tr th {\n",
       "        vertical-align: top;\n",
       "    }\n",
       "\n",
       "    .dataframe thead th {\n",
       "        text-align: right;\n",
       "    }\n",
       "</style>\n",
       "<table border=\"1\" class=\"dataframe\">\n",
       "  <thead>\n",
       "    <tr style=\"text-align: right;\">\n",
       "      <th></th>\n",
       "      <th>Dates</th>\n",
       "      <th>export_price($/Mcf)</th>\n",
       "    </tr>\n",
       "  </thead>\n",
       "  <tbody>\n",
       "    <tr>\n",
       "      <th>0</th>\n",
       "      <td>2022-02-01</td>\n",
       "      <td>8.22</td>\n",
       "    </tr>\n",
       "    <tr>\n",
       "      <th>1</th>\n",
       "      <td>2022-01-01</td>\n",
       "      <td>7.04</td>\n",
       "    </tr>\n",
       "    <tr>\n",
       "      <th>2</th>\n",
       "      <td>2021-12-01</td>\n",
       "      <td>7.40</td>\n",
       "    </tr>\n",
       "    <tr>\n",
       "      <th>3</th>\n",
       "      <td>2021-11-01</td>\n",
       "      <td>8.10</td>\n",
       "    </tr>\n",
       "    <tr>\n",
       "      <th>4</th>\n",
       "      <td>2021-10-01</td>\n",
       "      <td>7.97</td>\n",
       "    </tr>\n",
       "  </tbody>\n",
       "</table>\n",
       "</div>"
      ],
      "text/plain": [
       "       Dates  export_price($/Mcf)\n",
       "0 2022-02-01                 8.22\n",
       "1 2022-01-01                 7.04\n",
       "2 2021-12-01                 7.40\n",
       "3 2021-11-01                 8.10\n",
       "4 2021-10-01                 7.97"
      ]
     },
     "execution_count": 14,
     "metadata": {},
     "output_type": "execute_result"
    }
   ],
   "source": [
    "export_price = export_df[['Dates','export_price($/Mcf)']]\n",
    "export_price.head()"
   ]
  },
  {
   "cell_type": "markdown",
   "id": "b62882bb",
   "metadata": {},
   "source": [
    "## Merge export and import price"
   ]
  },
  {
   "cell_type": "code",
   "execution_count": 15,
   "id": "a356225e",
   "metadata": {},
   "outputs": [
    {
     "data": {
      "text/html": [
       "<div>\n",
       "<style scoped>\n",
       "    .dataframe tbody tr th:only-of-type {\n",
       "        vertical-align: middle;\n",
       "    }\n",
       "\n",
       "    .dataframe tbody tr th {\n",
       "        vertical-align: top;\n",
       "    }\n",
       "\n",
       "    .dataframe thead th {\n",
       "        text-align: right;\n",
       "    }\n",
       "</style>\n",
       "<table border=\"1\" class=\"dataframe\">\n",
       "  <thead>\n",
       "    <tr style=\"text-align: right;\">\n",
       "      <th></th>\n",
       "      <th>Dates</th>\n",
       "      <th>year</th>\n",
       "      <th>month</th>\n",
       "      <th>import_price($/Mcf)</th>\n",
       "      <th>export_price($/Mcf)</th>\n",
       "    </tr>\n",
       "  </thead>\n",
       "  <tbody>\n",
       "    <tr>\n",
       "      <th>0</th>\n",
       "      <td>2022-02-01</td>\n",
       "      <td>2022</td>\n",
       "      <td>2</td>\n",
       "      <td>5.62</td>\n",
       "      <td>8.22</td>\n",
       "    </tr>\n",
       "    <tr>\n",
       "      <th>1</th>\n",
       "      <td>2022-01-01</td>\n",
       "      <td>2022</td>\n",
       "      <td>1</td>\n",
       "      <td>6.87</td>\n",
       "      <td>7.04</td>\n",
       "    </tr>\n",
       "    <tr>\n",
       "      <th>2</th>\n",
       "      <td>2021-12-01</td>\n",
       "      <td>2021</td>\n",
       "      <td>12</td>\n",
       "      <td>4.74</td>\n",
       "      <td>7.40</td>\n",
       "    </tr>\n",
       "    <tr>\n",
       "      <th>3</th>\n",
       "      <td>2021-11-01</td>\n",
       "      <td>2021</td>\n",
       "      <td>11</td>\n",
       "      <td>5.18</td>\n",
       "      <td>8.10</td>\n",
       "    </tr>\n",
       "    <tr>\n",
       "      <th>4</th>\n",
       "      <td>2021-10-01</td>\n",
       "      <td>2021</td>\n",
       "      <td>10</td>\n",
       "      <td>4.79</td>\n",
       "      <td>7.97</td>\n",
       "    </tr>\n",
       "  </tbody>\n",
       "</table>\n",
       "</div>"
      ],
      "text/plain": [
       "       Dates  year  month  import_price($/Mcf)  export_price($/Mcf)\n",
       "0 2022-02-01  2022      2                 5.62                 8.22\n",
       "1 2022-01-01  2022      1                 6.87                 7.04\n",
       "2 2021-12-01  2021     12                 4.74                 7.40\n",
       "3 2021-11-01  2021     11                 5.18                 8.10\n",
       "4 2021-10-01  2021     10                 4.79                 7.97"
      ]
     },
     "execution_count": 15,
     "metadata": {},
     "output_type": "execute_result"
    }
   ],
   "source": [
    "ex_import_price = gas_import_price.merge(export_price, how='left', on='Dates')\n",
    "ex_import_price.head()"
   ]
  },
  {
   "cell_type": "markdown",
   "id": "0ce45dd5",
   "metadata": {},
   "source": [
    "## Clean gas import and export data"
   ]
  },
  {
   "cell_type": "code",
   "execution_count": 16,
   "id": "0ec0607d",
   "metadata": {},
   "outputs": [
    {
     "data": {
      "text/html": [
       "<div>\n",
       "<style scoped>\n",
       "    .dataframe tbody tr th:only-of-type {\n",
       "        vertical-align: middle;\n",
       "    }\n",
       "\n",
       "    .dataframe tbody tr th {\n",
       "        vertical-align: top;\n",
       "    }\n",
       "\n",
       "    .dataframe thead th {\n",
       "        text-align: right;\n",
       "    }\n",
       "</style>\n",
       "<table border=\"1\" class=\"dataframe\">\n",
       "  <thead>\n",
       "    <tr style=\"text-align: right;\">\n",
       "      <th></th>\n",
       "      <th>Month</th>\n",
       "      <th>U.S. Natural Gas Imports  Million Cubic Feet</th>\n",
       "    </tr>\n",
       "  </thead>\n",
       "  <tbody>\n",
       "    <tr>\n",
       "      <th>0</th>\n",
       "      <td>Feb 2022</td>\n",
       "      <td>259389</td>\n",
       "    </tr>\n",
       "    <tr>\n",
       "      <th>1</th>\n",
       "      <td>Jan 2022</td>\n",
       "      <td>296179</td>\n",
       "    </tr>\n",
       "    <tr>\n",
       "      <th>2</th>\n",
       "      <td>Dec 2021</td>\n",
       "      <td>252626</td>\n",
       "    </tr>\n",
       "    <tr>\n",
       "      <th>3</th>\n",
       "      <td>Nov 2021</td>\n",
       "      <td>242405</td>\n",
       "    </tr>\n",
       "    <tr>\n",
       "      <th>4</th>\n",
       "      <td>Oct 2021</td>\n",
       "      <td>228203</td>\n",
       "    </tr>\n",
       "  </tbody>\n",
       "</table>\n",
       "</div>"
      ],
      "text/plain": [
       "      Month  U.S. Natural Gas Imports  Million Cubic Feet\n",
       "0  Feb 2022                                        259389\n",
       "1  Jan 2022                                        296179\n",
       "2  Dec 2021                                        252626\n",
       "3  Nov 2021                                        242405\n",
       "4  Oct 2021                                        228203"
      ]
     },
     "execution_count": 16,
     "metadata": {},
     "output_type": "execute_result"
    }
   ],
   "source": [
    "#import data and read file\n",
    "us_import = pd.read_csv('U.S._Natural_Gas_Imports.csv', skiprows=4)\n",
    "us_import.head()"
   ]
  },
  {
   "cell_type": "code",
   "execution_count": 17,
   "id": "1190a8b2",
   "metadata": {},
   "outputs": [
    {
     "data": {
      "text/html": [
       "<div>\n",
       "<style scoped>\n",
       "    .dataframe tbody tr th:only-of-type {\n",
       "        vertical-align: middle;\n",
       "    }\n",
       "\n",
       "    .dataframe tbody tr th {\n",
       "        vertical-align: top;\n",
       "    }\n",
       "\n",
       "    .dataframe thead th {\n",
       "        text-align: right;\n",
       "    }\n",
       "</style>\n",
       "<table border=\"1\" class=\"dataframe\">\n",
       "  <thead>\n",
       "    <tr style=\"text-align: right;\">\n",
       "      <th></th>\n",
       "      <th>Month</th>\n",
       "      <th>U.S. Natural Gas Exports  Million Cubic Feet</th>\n",
       "    </tr>\n",
       "  </thead>\n",
       "  <tbody>\n",
       "    <tr>\n",
       "      <th>0</th>\n",
       "      <td>Feb 2022</td>\n",
       "      <td>545563</td>\n",
       "    </tr>\n",
       "    <tr>\n",
       "      <th>1</th>\n",
       "      <td>Jan 2022</td>\n",
       "      <td>610102</td>\n",
       "    </tr>\n",
       "    <tr>\n",
       "      <th>2</th>\n",
       "      <td>Dec 2021</td>\n",
       "      <td>620886</td>\n",
       "    </tr>\n",
       "    <tr>\n",
       "      <th>3</th>\n",
       "      <td>Nov 2021</td>\n",
       "      <td>556982</td>\n",
       "    </tr>\n",
       "    <tr>\n",
       "      <th>4</th>\n",
       "      <td>Oct 2021</td>\n",
       "      <td>545055</td>\n",
       "    </tr>\n",
       "  </tbody>\n",
       "</table>\n",
       "</div>"
      ],
      "text/plain": [
       "      Month  U.S. Natural Gas Exports  Million Cubic Feet\n",
       "0  Feb 2022                                        545563\n",
       "1  Jan 2022                                        610102\n",
       "2  Dec 2021                                        620886\n",
       "3  Nov 2021                                        556982\n",
       "4  Oct 2021                                        545055"
      ]
     },
     "execution_count": 17,
     "metadata": {},
     "output_type": "execute_result"
    }
   ],
   "source": [
    "us_export = pd.read_csv('U.S._Natural_Gas_Exports.csv', skiprows=4 )\n",
    "us_export.head()"
   ]
  },
  {
   "cell_type": "code",
   "execution_count": 18,
   "id": "366ef014",
   "metadata": {},
   "outputs": [
    {
     "data": {
      "text/html": [
       "<div>\n",
       "<style scoped>\n",
       "    .dataframe tbody tr th:only-of-type {\n",
       "        vertical-align: middle;\n",
       "    }\n",
       "\n",
       "    .dataframe tbody tr th {\n",
       "        vertical-align: top;\n",
       "    }\n",
       "\n",
       "    .dataframe thead th {\n",
       "        text-align: right;\n",
       "    }\n",
       "</style>\n",
       "<table border=\"1\" class=\"dataframe\">\n",
       "  <thead>\n",
       "    <tr style=\"text-align: right;\">\n",
       "      <th></th>\n",
       "      <th>Month</th>\n",
       "      <th>U.S. Natural Gas Imports  Million Cubic Feet</th>\n",
       "      <th>U.S. Natural Gas Exports  Million Cubic Feet</th>\n",
       "    </tr>\n",
       "  </thead>\n",
       "  <tbody>\n",
       "    <tr>\n",
       "      <th>0</th>\n",
       "      <td>Feb 2022</td>\n",
       "      <td>259389</td>\n",
       "      <td>545563</td>\n",
       "    </tr>\n",
       "    <tr>\n",
       "      <th>1</th>\n",
       "      <td>Jan 2022</td>\n",
       "      <td>296179</td>\n",
       "      <td>610102</td>\n",
       "    </tr>\n",
       "    <tr>\n",
       "      <th>2</th>\n",
       "      <td>Dec 2021</td>\n",
       "      <td>252626</td>\n",
       "      <td>620886</td>\n",
       "    </tr>\n",
       "    <tr>\n",
       "      <th>3</th>\n",
       "      <td>Nov 2021</td>\n",
       "      <td>242405</td>\n",
       "      <td>556982</td>\n",
       "    </tr>\n",
       "    <tr>\n",
       "      <th>4</th>\n",
       "      <td>Oct 2021</td>\n",
       "      <td>228203</td>\n",
       "      <td>545055</td>\n",
       "    </tr>\n",
       "  </tbody>\n",
       "</table>\n",
       "</div>"
      ],
      "text/plain": [
       "      Month  U.S. Natural Gas Imports  Million Cubic Feet  \\\n",
       "0  Feb 2022                                        259389   \n",
       "1  Jan 2022                                        296179   \n",
       "2  Dec 2021                                        252626   \n",
       "3  Nov 2021                                        242405   \n",
       "4  Oct 2021                                        228203   \n",
       "\n",
       "   U.S. Natural Gas Exports  Million Cubic Feet  \n",
       "0                                        545563  \n",
       "1                                        610102  \n",
       "2                                        620886  \n",
       "3                                        556982  \n",
       "4                                        545055  "
      ]
     },
     "execution_count": 18,
     "metadata": {},
     "output_type": "execute_result"
    }
   ],
   "source": [
    "#merge two dataframe on Month\n",
    "us_ex_import = us_import.merge(us_export, how='left', on = 'Month')\n",
    "us_ex_import.head()"
   ]
  },
  {
   "cell_type": "code",
   "execution_count": 19,
   "id": "59a91c5d",
   "metadata": {},
   "outputs": [
    {
     "data": {
      "text/plain": [
       "Month                                           0\n",
       "U.S. Natural Gas Imports  Million Cubic Feet    0\n",
       "U.S. Natural Gas Exports  Million Cubic Feet    0\n",
       "dtype: int64"
      ]
     },
     "execution_count": 19,
     "metadata": {},
     "output_type": "execute_result"
    }
   ],
   "source": [
    "us_ex_import.isnull().sum()"
   ]
  },
  {
   "cell_type": "code",
   "execution_count": 20,
   "id": "c0804870",
   "metadata": {},
   "outputs": [
    {
     "data": {
      "text/plain": [
       "Index(['Month', 'U.S. Natural Gas Imports  Million Cubic Feet',\n",
       "       'U.S. Natural Gas Exports  Million Cubic Feet'],\n",
       "      dtype='object')"
      ]
     },
     "execution_count": 20,
     "metadata": {},
     "output_type": "execute_result"
    }
   ],
   "source": [
    "us_ex_import.columns"
   ]
  },
  {
   "cell_type": "code",
   "execution_count": 21,
   "id": "14d242e4",
   "metadata": {},
   "outputs": [
    {
     "data": {
      "text/html": [
       "<div>\n",
       "<style scoped>\n",
       "    .dataframe tbody tr th:only-of-type {\n",
       "        vertical-align: middle;\n",
       "    }\n",
       "\n",
       "    .dataframe tbody tr th {\n",
       "        vertical-align: top;\n",
       "    }\n",
       "\n",
       "    .dataframe thead th {\n",
       "        text-align: right;\n",
       "    }\n",
       "</style>\n",
       "<table border=\"1\" class=\"dataframe\">\n",
       "  <thead>\n",
       "    <tr style=\"text-align: right;\">\n",
       "      <th></th>\n",
       "      <th>Month</th>\n",
       "      <th>U.S. Natural Gas Imports  Million Cubic Feet</th>\n",
       "      <th>U.S. Natural Gas Exports  Million Cubic Feet</th>\n",
       "      <th>Dates</th>\n",
       "      <th>month</th>\n",
       "      <th>Total Imports (Mmcf)</th>\n",
       "      <th>Total Exports (Mmcf)</th>\n",
       "    </tr>\n",
       "  </thead>\n",
       "  <tbody>\n",
       "    <tr>\n",
       "      <th>0</th>\n",
       "      <td>Feb 2022</td>\n",
       "      <td>259389</td>\n",
       "      <td>545563</td>\n",
       "      <td>2022-02-01</td>\n",
       "      <td>2</td>\n",
       "      <td>259389</td>\n",
       "      <td>545563</td>\n",
       "    </tr>\n",
       "    <tr>\n",
       "      <th>1</th>\n",
       "      <td>Jan 2022</td>\n",
       "      <td>296179</td>\n",
       "      <td>610102</td>\n",
       "      <td>2022-01-01</td>\n",
       "      <td>1</td>\n",
       "      <td>296179</td>\n",
       "      <td>610102</td>\n",
       "    </tr>\n",
       "    <tr>\n",
       "      <th>2</th>\n",
       "      <td>Dec 2021</td>\n",
       "      <td>252626</td>\n",
       "      <td>620886</td>\n",
       "      <td>2021-12-01</td>\n",
       "      <td>12</td>\n",
       "      <td>252626</td>\n",
       "      <td>620886</td>\n",
       "    </tr>\n",
       "    <tr>\n",
       "      <th>3</th>\n",
       "      <td>Nov 2021</td>\n",
       "      <td>242405</td>\n",
       "      <td>556982</td>\n",
       "      <td>2021-11-01</td>\n",
       "      <td>11</td>\n",
       "      <td>242405</td>\n",
       "      <td>556982</td>\n",
       "    </tr>\n",
       "    <tr>\n",
       "      <th>4</th>\n",
       "      <td>Oct 2021</td>\n",
       "      <td>228203</td>\n",
       "      <td>545055</td>\n",
       "      <td>2021-10-01</td>\n",
       "      <td>10</td>\n",
       "      <td>228203</td>\n",
       "      <td>545055</td>\n",
       "    </tr>\n",
       "  </tbody>\n",
       "</table>\n",
       "</div>"
      ],
      "text/plain": [
       "      Month  U.S. Natural Gas Imports  Million Cubic Feet  \\\n",
       "0  Feb 2022                                        259389   \n",
       "1  Jan 2022                                        296179   \n",
       "2  Dec 2021                                        252626   \n",
       "3  Nov 2021                                        242405   \n",
       "4  Oct 2021                                        228203   \n",
       "\n",
       "   U.S. Natural Gas Exports  Million Cubic Feet      Dates  month  \\\n",
       "0                                        545563 2022-02-01      2   \n",
       "1                                        610102 2022-01-01      1   \n",
       "2                                        620886 2021-12-01     12   \n",
       "3                                        556982 2021-11-01     11   \n",
       "4                                        545055 2021-10-01     10   \n",
       "\n",
       "   Total Imports (Mmcf)  Total Exports (Mmcf)  \n",
       "0                259389                545563  \n",
       "1                296179                610102  \n",
       "2                252626                620886  \n",
       "3                242405                556982  \n",
       "4                228203                545055  "
      ]
     },
     "execution_count": 21,
     "metadata": {},
     "output_type": "execute_result"
    }
   ],
   "source": [
    "## covert to date\n",
    "us_ex_import['Dates'] = pd.to_datetime(us_ex_import['Month'])\n",
    "us_ex_import['month'] = us_ex_import['Dates'].dt.year\n",
    "us_ex_import['month'] = us_ex_import['Dates'].dt.month\n",
    "us_ex_import['Total Imports (Mmcf)'] = us_ex_import['U.S. Natural Gas Imports  Million Cubic Feet']\n",
    "us_ex_import['Total Exports (Mmcf)'] = us_ex_import['U.S. Natural Gas Exports  Million Cubic Feet']\n",
    "us_ex_import.head()"
   ]
  },
  {
   "cell_type": "code",
   "execution_count": 22,
   "id": "8e703690",
   "metadata": {},
   "outputs": [
    {
     "data": {
      "text/html": [
       "<div>\n",
       "<style scoped>\n",
       "    .dataframe tbody tr th:only-of-type {\n",
       "        vertical-align: middle;\n",
       "    }\n",
       "\n",
       "    .dataframe tbody tr th {\n",
       "        vertical-align: top;\n",
       "    }\n",
       "\n",
       "    .dataframe thead th {\n",
       "        text-align: right;\n",
       "    }\n",
       "</style>\n",
       "<table border=\"1\" class=\"dataframe\">\n",
       "  <thead>\n",
       "    <tr style=\"text-align: right;\">\n",
       "      <th></th>\n",
       "      <th>Dates</th>\n",
       "      <th>month</th>\n",
       "      <th>Total Imports (Mmcf)</th>\n",
       "      <th>Total Exports (Mmcf)</th>\n",
       "    </tr>\n",
       "  </thead>\n",
       "  <tbody>\n",
       "    <tr>\n",
       "      <th>0</th>\n",
       "      <td>2022-02-01</td>\n",
       "      <td>2</td>\n",
       "      <td>259389</td>\n",
       "      <td>545563</td>\n",
       "    </tr>\n",
       "    <tr>\n",
       "      <th>1</th>\n",
       "      <td>2022-01-01</td>\n",
       "      <td>1</td>\n",
       "      <td>296179</td>\n",
       "      <td>610102</td>\n",
       "    </tr>\n",
       "    <tr>\n",
       "      <th>2</th>\n",
       "      <td>2021-12-01</td>\n",
       "      <td>12</td>\n",
       "      <td>252626</td>\n",
       "      <td>620886</td>\n",
       "    </tr>\n",
       "    <tr>\n",
       "      <th>3</th>\n",
       "      <td>2021-11-01</td>\n",
       "      <td>11</td>\n",
       "      <td>242405</td>\n",
       "      <td>556982</td>\n",
       "    </tr>\n",
       "    <tr>\n",
       "      <th>4</th>\n",
       "      <td>2021-10-01</td>\n",
       "      <td>10</td>\n",
       "      <td>228203</td>\n",
       "      <td>545055</td>\n",
       "    </tr>\n",
       "  </tbody>\n",
       "</table>\n",
       "</div>"
      ],
      "text/plain": [
       "       Dates  month  Total Imports (Mmcf)  Total Exports (Mmcf)\n",
       "0 2022-02-01      2                259389                545563\n",
       "1 2022-01-01      1                296179                610102\n",
       "2 2021-12-01     12                252626                620886\n",
       "3 2021-11-01     11                242405                556982\n",
       "4 2021-10-01     10                228203                545055"
      ]
     },
     "execution_count": 22,
     "metadata": {},
     "output_type": "execute_result"
    }
   ],
   "source": [
    "us_ex_import = us_ex_import.iloc[: , 3:]\n",
    "us_ex_import.head()"
   ]
  },
  {
   "cell_type": "markdown",
   "id": "0cfdbbcf",
   "metadata": {},
   "source": [
    "## Save new files for Total ex-import, ex-import price"
   ]
  },
  {
   "cell_type": "code",
   "execution_count": null,
   "id": "5a980dec",
   "metadata": {},
   "outputs": [],
   "source": []
  }
 ],
 "metadata": {
  "kernelspec": {
   "display_name": "Python 3 (ipykernel)",
   "language": "python",
   "name": "python3"
  },
  "language_info": {
   "codemirror_mode": {
    "name": "ipython",
    "version": 3
   },
   "file_extension": ".py",
   "mimetype": "text/x-python",
   "name": "python",
   "nbconvert_exporter": "python",
   "pygments_lexer": "ipython3",
   "version": "3.9.7"
  }
 },
 "nbformat": 4,
 "nbformat_minor": 5
}
