{
 "cells": [
  {
   "cell_type": "code",
   "execution_count": 81,
   "id": "9f3e692f",
   "metadata": {},
   "outputs": [],
   "source": [
    "import pandas as pd\n",
    "from matplotlib import pyplot\n",
    "from statsmodels.tsa.ar_model import AutoReg\n",
    "from sklearn.metrics import mean_squared_error\n",
    "from math import sqrt\n",
    "import matplotlib.pyplot as plt"
   ]
  },
  {
   "cell_type": "code",
   "execution_count": 44,
   "id": "5ca10562",
   "metadata": {},
   "outputs": [
    {
     "data": {
      "text/html": [
       "<div>\n",
       "<style scoped>\n",
       "    .dataframe tbody tr th:only-of-type {\n",
       "        vertical-align: middle;\n",
       "    }\n",
       "\n",
       "    .dataframe tbody tr th {\n",
       "        vertical-align: top;\n",
       "    }\n",
       "\n",
       "    .dataframe thead th {\n",
       "        text-align: right;\n",
       "    }\n",
       "</style>\n",
       "<table border=\"1\" class=\"dataframe\">\n",
       "  <thead>\n",
       "    <tr style=\"text-align: right;\">\n",
       "      <th></th>\n",
       "      <th>Month</th>\n",
       "      <th>U.S. All Grades All Formulations Retail Gasoline Prices Dollars per Gallon</th>\n",
       "    </tr>\n",
       "  </thead>\n",
       "  <tbody>\n",
       "    <tr>\n",
       "      <th>0</th>\n",
       "      <td>Apr 2022</td>\n",
       "      <td>4.213</td>\n",
       "    </tr>\n",
       "    <tr>\n",
       "      <th>1</th>\n",
       "      <td>Mar 2022</td>\n",
       "      <td>4.322</td>\n",
       "    </tr>\n",
       "    <tr>\n",
       "      <th>2</th>\n",
       "      <td>Feb 2022</td>\n",
       "      <td>3.611</td>\n",
       "    </tr>\n",
       "    <tr>\n",
       "      <th>3</th>\n",
       "      <td>Jan 2022</td>\n",
       "      <td>3.413</td>\n",
       "    </tr>\n",
       "    <tr>\n",
       "      <th>4</th>\n",
       "      <td>Dec 2021</td>\n",
       "      <td>3.406</td>\n",
       "    </tr>\n",
       "    <tr>\n",
       "      <th>...</th>\n",
       "      <td>...</td>\n",
       "      <td>...</td>\n",
       "    </tr>\n",
       "    <tr>\n",
       "      <th>344</th>\n",
       "      <td>Aug 1993</td>\n",
       "      <td>1.062</td>\n",
       "    </tr>\n",
       "    <tr>\n",
       "      <th>345</th>\n",
       "      <td>Jul 1993</td>\n",
       "      <td>1.078</td>\n",
       "    </tr>\n",
       "    <tr>\n",
       "      <th>346</th>\n",
       "      <td>Jun 1993</td>\n",
       "      <td>1.097</td>\n",
       "    </tr>\n",
       "    <tr>\n",
       "      <th>347</th>\n",
       "      <td>May 1993</td>\n",
       "      <td>1.100</td>\n",
       "    </tr>\n",
       "    <tr>\n",
       "      <th>348</th>\n",
       "      <td>Apr 1993</td>\n",
       "      <td>1.078</td>\n",
       "    </tr>\n",
       "  </tbody>\n",
       "</table>\n",
       "<p>349 rows × 2 columns</p>\n",
       "</div>"
      ],
      "text/plain": [
       "        Month  \\\n",
       "0    Apr 2022   \n",
       "1    Mar 2022   \n",
       "2    Feb 2022   \n",
       "3    Jan 2022   \n",
       "4    Dec 2021   \n",
       "..        ...   \n",
       "344  Aug 1993   \n",
       "345  Jul 1993   \n",
       "346  Jun 1993   \n",
       "347  May 1993   \n",
       "348  Apr 1993   \n",
       "\n",
       "     U.S. All Grades All Formulations Retail Gasoline Prices Dollars per Gallon  \n",
       "0                                                4.213                           \n",
       "1                                                4.322                           \n",
       "2                                                3.611                           \n",
       "3                                                3.413                           \n",
       "4                                                3.406                           \n",
       "..                                                 ...                           \n",
       "344                                              1.062                           \n",
       "345                                              1.078                           \n",
       "346                                              1.097                           \n",
       "347                                              1.100                           \n",
       "348                                              1.078                           \n",
       "\n",
       "[349 rows x 2 columns]"
      ]
     },
     "execution_count": 44,
     "metadata": {},
     "output_type": "execute_result"
    }
   ],
   "source": [
    "df = pd.read_csv('Resources/Datasets/General_factor_data/U.S._All_Grades_All_Formulations_Retail_Gasoline_Prices.csv', skiprows=4)\n",
    "df"
   ]
  },
  {
   "cell_type": "code",
   "execution_count": 65,
   "id": "c1a92331",
   "metadata": {},
   "outputs": [],
   "source": [
    "df = df.rename(columns={'U.S. All Grades All Formulations Retail Gasoline Prices Dollars per Gallon':'All_grade_price($/gallon)'})"
   ]
  },
  {
   "cell_type": "code",
   "execution_count": 66,
   "id": "13506dc1",
   "metadata": {},
   "outputs": [
    {
     "data": {
      "text/plain": [
       "<AxesSubplot:>"
      ]
     },
     "execution_count": 66,
     "metadata": {},
     "output_type": "execute_result"
    },
    {
     "data": {
      "image/png": "[encoded data removed]",
      "text/plain": [
       "<Figure size 432x288 with 1 Axes>"
      ]
     },
     "metadata": {
      "needs_background": "light"
     },
     "output_type": "display_data"
    }
   ],
   "source": [
    "#plot to see data relationship\n",
    "df.plot()"
   ]
  },
  {
   "cell_type": "code",
   "execution_count": 67,
   "id": "eee444c3",
   "metadata": {},
   "outputs": [
    {
     "name": "stdout",
     "output_type": "stream",
     "text": [
      "ADF:  -1.254113648867891\n",
      "p-value:  0.6498954008436644\n",
      "Number of Lags:  10\n"
     ]
    }
   ],
   "source": [
    "from statsmodels.tsa.stattools import adfuller\n",
    "dftest = adfuller(df['All_grade_price($/gallon)'], autolag = 'AIC')\n",
    "\n",
    "print('ADF: ', dftest[0])\n",
    "print('p-value: ', dftest[1])\n",
    "print('Number of Lags: ', dftest[2])\n",
    "#the data is not stationary"
   ]
  },
  {
   "cell_type": "code",
   "execution_count": 69,
   "id": "cb3312de",
   "metadata": {},
   "outputs": [
    {
     "data": {
      "image/png": "[encoded data removed]",
      "text/plain": [
       "<Figure size 432x288 with 1 Axes>"
      ]
     },
     "metadata": {
      "needs_background": "light"
     },
     "output_type": "display_data"
    },
    {
     "data": {
      "image/png": "[encoded data removed]",
      "text/plain": [
       "<Figure size 432x288 with 1 Axes>"
      ]
     },
     "metadata": {
      "needs_background": "light"
     },
     "output_type": "display_data"
    }
   ],
   "source": [
    "from statsmodels.graphics.tsaplots import plot_pacf,plot_acf\n",
    "\n",
    "pacf = plot_pacf(df['All_grade_price($/gallon)'], lags=23)\n",
    "                  \n",
    "acf = plot_acf(df['All_grade_price($/gallon)'], lags=23)                 "
   ]
  },
  {
   "cell_type": "code",
   "execution_count": 71,
   "id": "668b57bb",
   "metadata": {},
   "outputs": [],
   "source": [
    "#create train/test datasets\n",
    "X = df['All_grade_price($/gallon)']\n",
    "train_data = X[:len(X)-100]\n",
    "test_data = X[len(X)-100:]"
   ]
  },
  {
   "cell_type": "code",
   "execution_count": 72,
   "id": "8c61ed2f",
   "metadata": {},
   "outputs": [
    {
     "data": {
      "text/plain": [
       "(249,)"
      ]
     },
     "execution_count": 72,
     "metadata": {},
     "output_type": "execute_result"
    }
   ],
   "source": [
    "train_data.shape"
   ]
  },
  {
   "cell_type": "code",
   "execution_count": 73,
   "id": "22a042e5",
   "metadata": {},
   "outputs": [
    {
     "data": {
      "text/plain": [
       "(100,)"
      ]
     },
     "execution_count": 73,
     "metadata": {},
     "output_type": "execute_result"
    }
   ],
   "source": [
    "test_data.shape"
   ]
  },
  {
   "cell_type": "code",
   "execution_count": 74,
   "id": "52506590",
   "metadata": {
    "scrolled": false
   },
   "outputs": [
    {
     "name": "stdout",
     "output_type": "stream",
     "text": [
      "                                AutoReg Model Results                                \n",
      "=====================================================================================\n",
      "Dep. Variable:     All_grade_price($/gallon)   No. Observations:                  249\n",
      "Model:                           AutoReg(25)   Log Likelihood                 131.987\n",
      "Method:                      Conditional MLE   S.D. of innovations              0.134\n",
      "Date:                       Tue, 31 May 2022   AIC                             -3.775\n",
      "Time:                               03:12:52   BIC                             -3.364\n",
      "Sample:                                   25   HQIC                            -3.609\n",
      "                                         249                                         \n",
      "=================================================================================================\n",
      "                                    coef    std err          z      P>|z|      [0.025      0.975]\n",
      "-------------------------------------------------------------------------------------------------\n",
      "intercept                         0.0350      0.048      0.723      0.470      -0.060       0.130\n",
      "All_grade_price($/gallon).L1      1.5519      0.066     23.365      0.000       1.422       1.682\n",
      "All_grade_price($/gallon).L2     -0.7911      0.121     -6.514      0.000      -1.029      -0.553\n",
      "All_grade_price($/gallon).L3      0.1616      0.131      1.234      0.217      -0.095       0.418\n",
      "All_grade_price($/gallon).L4      0.0691      0.131      0.527      0.598      -0.188       0.326\n",
      "All_grade_price($/gallon).L5     -0.0778      0.131     -0.593      0.553      -0.335       0.179\n",
      "All_grade_price($/gallon).L6      0.0068      0.131      0.052      0.959      -0.251       0.264\n",
      "All_grade_price($/gallon).L7      0.0266      0.131      0.203      0.839      -0.231       0.284\n",
      "All_grade_price($/gallon).L8     -0.0055      0.131     -0.042      0.966      -0.262       0.251\n",
      "All_grade_price($/gallon).L9     -0.0467      0.131     -0.356      0.722      -0.304       0.210\n",
      "All_grade_price($/gallon).L10     0.1710      0.131      1.304      0.192      -0.086       0.428\n",
      "All_grade_price($/gallon).L11    -0.0182      0.131     -0.139      0.890      -0.275       0.239\n",
      "All_grade_price($/gallon).L12    -0.1525      0.130     -1.178      0.239      -0.406       0.101\n",
      "All_grade_price($/gallon).L13     0.1381      0.129      1.067      0.286      -0.116       0.392\n",
      "All_grade_price($/gallon).L14    -0.0579      0.130     -0.446      0.655      -0.312       0.196\n",
      "All_grade_price($/gallon).L15     0.0249      0.130      0.192      0.848      -0.229       0.279\n",
      "All_grade_price($/gallon).L16     0.0166      0.129      0.128      0.898      -0.237       0.270\n",
      "All_grade_price($/gallon).L17    -0.1040      0.129     -0.805      0.421      -0.357       0.149\n",
      "All_grade_price($/gallon).L18     0.0943      0.129      0.729      0.466      -0.159       0.348\n",
      "All_grade_price($/gallon).L19    -0.0362      0.130     -0.280      0.780      -0.290       0.218\n",
      "All_grade_price($/gallon).L20    -0.0021      0.130     -0.016      0.987      -0.256       0.252\n",
      "All_grade_price($/gallon).L21    -0.0296      0.129     -0.229      0.819      -0.283       0.224\n",
      "All_grade_price($/gallon).L22     0.1845      0.129      1.431      0.152      -0.068       0.437\n",
      "All_grade_price($/gallon).L23    -0.3044      0.125     -2.435      0.015      -0.549      -0.059\n",
      "All_grade_price($/gallon).L24     0.2914      0.111      2.616      0.009       0.073       0.510\n",
      "All_grade_price($/gallon).L25    -0.1252      0.062     -2.030      0.042      -0.246      -0.004\n",
      "                                    Roots                                     \n",
      "==============================================================================\n",
      "                   Real          Imaginary           Modulus         Frequency\n",
      "------------------------------------------------------------------------------\n",
      "AR.1            -1.0550           -0.0000j            1.0550           -0.5000\n",
      "AR.2            -1.0129           -0.2949j            1.0550           -0.4549\n",
      "AR.3            -1.0129           +0.2949j            1.0550            0.4549\n",
      "AR.4            -0.9128           -0.5828j            1.0830           -0.4096\n",
      "AR.5            -0.9128           +0.5828j            1.0830            0.4096\n",
      "AR.6            -0.7187           -0.7747j            1.0568           -0.3690\n",
      "AR.7            -0.7187           +0.7747j            1.0568            0.3690\n",
      "AR.8            -0.4563           -0.9803j            1.0813           -0.3193\n",
      "AR.9            -0.4563           +0.9803j            1.0813            0.3193\n",
      "AR.10           -0.1720           -1.0500j            1.0640           -0.2758\n",
      "AR.11           -0.1720           +1.0500j            1.0640            0.2758\n",
      "AR.12            0.0909           -1.1256j            1.1293           -0.2372\n",
      "AR.13            0.0909           +1.1256j            1.1293            0.2372\n",
      "AR.14            0.3736           -1.0146j            1.0812           -0.1939\n",
      "AR.15            0.3736           +1.0146j            1.0812            0.1939\n",
      "AR.16            0.6064           -0.9653j            1.1400           -0.1607\n",
      "AR.17            0.6064           +0.9653j            1.1400            0.1607\n",
      "AR.18            0.8081           -0.7680j            1.1148           -0.1209\n",
      "AR.19            0.8081           +0.7680j            1.1148            0.1209\n",
      "AR.20            0.9174           -0.5120j            1.0505           -0.0810\n",
      "AR.21            0.9174           +0.5120j            1.0505            0.0810\n",
      "AR.22            1.0819           -0.2942j            1.1212           -0.0423\n",
      "AR.23            1.0819           +0.2942j            1.1212            0.0423\n",
      "AR.24            1.0156           -0.0000j            1.0156           -0.0000\n",
      "AR.25            1.1567           -0.0000j            1.1567           -0.0000\n",
      "------------------------------------------------------------------------------\n"
     ]
    },
    {
     "name": "stderr",
     "output_type": "stream",
     "text": [
      "C:\\Users\\Phoeb\\anaconda3\\envs\\mlenv\\lib\\site-packages\\statsmodels\\tsa\\ar_model.py:252: FutureWarning: The parameter names will change after 0.12 is released. Set old_names to False to use the new names now. Set old_names to True to use the old names. \n",
      "  FutureWarning,\n"
     ]
    }
   ],
   "source": [
    "# train autoregression\n",
    "model = AutoReg(train_data, lags=25)\n",
    "results = model.fit()\n",
    "print(results.summary())\n",
    "#print(len(train_data))"
   ]
  },
  {
   "cell_type": "code",
   "execution_count": 77,
   "id": "1ca6aa0e",
   "metadata": {},
   "outputs": [
    {
     "name": "stdout",
     "output_type": "stream",
     "text": [
      "249    1.369736\n",
      "250    1.365013\n",
      "251    1.393252\n",
      "252    1.380704\n",
      "253    1.379228\n",
      "         ...   \n",
      "344    2.179379\n",
      "345    2.183673\n",
      "346    2.187705\n",
      "347    2.191492\n",
      "348    2.195299\n",
      "Length: 100, dtype: float64\n"
     ]
    }
   ],
   "source": [
    "#Make a prediction\n",
    "pred = results.predict(start=len(train_data), end=(len(X)-1), dynamic=False)\n",
    "print(pred)"
   ]
  },
  {
   "cell_type": "code",
   "execution_count": 83,
   "id": "ccec2d4d",
   "metadata": {},
   "outputs": [
    {
     "data": {
      "text/plain": [
       "<AxesSubplot:>"
      ]
     },
     "execution_count": 83,
     "metadata": {},
     "output_type": "execute_result"
    },
    {
     "data": {
      "image/png": "[encoded data removed]",
      "text/plain": [
       "<Figure size 432x288 with 1 Axes>"
      ]
     },
     "metadata": {
      "needs_background": "light"
     },
     "output_type": "display_data"
    }
   ],
   "source": [
    "pred.plot()\n",
    "test_data.plot(color='red')\n"
   ]
  },
  {
   "cell_type": "code",
   "execution_count": 88,
   "id": "28b66951",
   "metadata": {},
   "outputs": [
    {
     "name": "stdout",
     "output_type": "stream",
     "text": [
      "MAE = 0.68\n",
      "MSE = 0.57\n",
      "MAE = 0.72\n",
      "EVS = -3.94\n",
      "R2 score = -17.09\n"
     ]
    }
   ],
   "source": [
    "import sklearn.metrics as skm\n",
    "print('MAE =', round(skm.mean_absolute_error(test_data, pred), 2))\n",
    "print(\"MSE =\", round(skm.mean_squared_error(test_data, pred), 2)) \n",
    "print(\"MAE =\", round(skm.median_absolute_error(test_data, pred), 2)) \n",
    "print(\"EVS =\", round(skm.explained_variance_score(test_data, pred), 2)) \n",
    "print(\"R2 score =\", round(skm.r2_score(test_data, pred), 2))"
   ]
  },
  {
   "cell_type": "code",
   "execution_count": 84,
   "id": "ac702c82",
   "metadata": {},
   "outputs": [
    {
     "name": "stdout",
     "output_type": "stream",
     "text": [
      "rmse:  0.7546404685522476\n"
     ]
    }
   ],
   "source": [
    "rmse = sqrt(mean_squared_error(test_data, pred))\n",
    "print('rmse: ', rmse)"
   ]
  },
  {
   "cell_type": "code",
   "execution_count": 87,
   "id": "643b7764",
   "metadata": {},
   "outputs": [
    {
     "name": "stdout",
     "output_type": "stream",
     "text": [
      "The future prediction for the next week\n",
      "350    2.202157\n",
      "351    2.205463\n",
      "352    2.208811\n",
      "353    2.212218\n",
      "354    2.215508\n",
      "355    2.219070\n",
      "356    2.222504\n",
      "dtype: float64\n",
      "Number of prediction make: \t 7\n"
     ]
    }
   ],
   "source": [
    "#make future predictions, the comming 7days\n",
    "pred_future = results.predict(start=(len(X)+1), end=(len(X)+7), dynamic=False)\n",
    "print('The future prediction for the next week')\n",
    "print(pred_future)\n",
    "print('Number of prediction make: \\t', len(pred_future))"
   ]
  },
  {
   "cell_type": "code",
   "execution_count": null,
   "id": "83f5a808",
   "metadata": {},
   "outputs": [],
   "source": []
  },
  {
   "cell_type": "code",
   "execution_count": 34,
   "id": "2420879a",
   "metadata": {},
   "outputs": [],
   "source": []
  }
 ],
 "metadata": {
  "kernelspec": {
   "display_name": "mlenv",
   "language": "python",
   "name": "mlenv"
  },
  "language_info": {
   "codemirror_mode": {
    "name": "ipython",
    "version": 3
   },
   "file_extension": ".py",
   "mimetype": "text/x-python",
   "name": "python",
   "nbconvert_exporter": "python",
   "pygments_lexer": "ipython3",
   "version": "3.7.11"
  }
 },
 "nbformat": 4,
 "nbformat_minor": 5
}
