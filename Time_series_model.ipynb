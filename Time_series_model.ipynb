{
 "cells": [
  {
   "cell_type": "code",
   "execution_count": 1,
   "id": "9f3e692f",
   "metadata": {},
   "outputs": [],
   "source": [
    "import pandas as pd\n",
    "from matplotlib import pyplot\n",
    "from statsmodels.tsa.ar_model import AutoReg\n",
    "from sklearn.metrics import mean_squared_error\n",
    "from math import sqrt\n",
    "import matplotlib.pyplot as plt"
   ]
  },
  {
   "cell_type": "code",
   "execution_count": 2,
   "id": "5ca10562",
   "metadata": {},
   "outputs": [
    {
     "data": {
      "text/html": [
       "<div>\n",
       "<style scoped>\n",
       "    .dataframe tbody tr th:only-of-type {\n",
       "        vertical-align: middle;\n",
       "    }\n",
       "\n",
       "    .dataframe tbody tr th {\n",
       "        vertical-align: top;\n",
       "    }\n",
       "\n",
       "    .dataframe thead th {\n",
       "        text-align: right;\n",
       "    }\n",
       "</style>\n",
       "<table border=\"1\" class=\"dataframe\">\n",
       "  <thead>\n",
       "    <tr style=\"text-align: right;\">\n",
       "      <th></th>\n",
       "      <th>Month</th>\n",
       "      <th>U.S. All Grades All Formulations Retail Gasoline Prices Dollars per Gallon</th>\n",
       "    </tr>\n",
       "  </thead>\n",
       "  <tbody>\n",
       "    <tr>\n",
       "      <th>0</th>\n",
       "      <td>Apr 2022</td>\n",
       "      <td>4.213</td>\n",
       "    </tr>\n",
       "    <tr>\n",
       "      <th>1</th>\n",
       "      <td>Mar 2022</td>\n",
       "      <td>4.322</td>\n",
       "    </tr>\n",
       "    <tr>\n",
       "      <th>2</th>\n",
       "      <td>Feb 2022</td>\n",
       "      <td>3.611</td>\n",
       "    </tr>\n",
       "    <tr>\n",
       "      <th>3</th>\n",
       "      <td>Jan 2022</td>\n",
       "      <td>3.413</td>\n",
       "    </tr>\n",
       "    <tr>\n",
       "      <th>4</th>\n",
       "      <td>Dec 2021</td>\n",
       "      <td>3.406</td>\n",
       "    </tr>\n",
       "    <tr>\n",
       "      <th>...</th>\n",
       "      <td>...</td>\n",
       "      <td>...</td>\n",
       "    </tr>\n",
       "    <tr>\n",
       "      <th>344</th>\n",
       "      <td>Aug 1993</td>\n",
       "      <td>1.062</td>\n",
       "    </tr>\n",
       "    <tr>\n",
       "      <th>345</th>\n",
       "      <td>Jul 1993</td>\n",
       "      <td>1.078</td>\n",
       "    </tr>\n",
       "    <tr>\n",
       "      <th>346</th>\n",
       "      <td>Jun 1993</td>\n",
       "      <td>1.097</td>\n",
       "    </tr>\n",
       "    <tr>\n",
       "      <th>347</th>\n",
       "      <td>May 1993</td>\n",
       "      <td>1.100</td>\n",
       "    </tr>\n",
       "    <tr>\n",
       "      <th>348</th>\n",
       "      <td>Apr 1993</td>\n",
       "      <td>1.078</td>\n",
       "    </tr>\n",
       "  </tbody>\n",
       "</table>\n",
       "<p>349 rows × 2 columns</p>\n",
       "</div>"
      ],
      "text/plain": [
       "        Month  \\\n",
       "0    Apr 2022   \n",
       "1    Mar 2022   \n",
       "2    Feb 2022   \n",
       "3    Jan 2022   \n",
       "4    Dec 2021   \n",
       "..        ...   \n",
       "344  Aug 1993   \n",
       "345  Jul 1993   \n",
       "346  Jun 1993   \n",
       "347  May 1993   \n",
       "348  Apr 1993   \n",
       "\n",
       "     U.S. All Grades All Formulations Retail Gasoline Prices Dollars per Gallon  \n",
       "0                                                4.213                           \n",
       "1                                                4.322                           \n",
       "2                                                3.611                           \n",
       "3                                                3.413                           \n",
       "4                                                3.406                           \n",
       "..                                                 ...                           \n",
       "344                                              1.062                           \n",
       "345                                              1.078                           \n",
       "346                                              1.097                           \n",
       "347                                              1.100                           \n",
       "348                                              1.078                           \n",
       "\n",
       "[349 rows x 2 columns]"
      ]
     },
     "execution_count": 2,
     "metadata": {},
     "output_type": "execute_result"
    }
   ],
   "source": [
    "df = pd.read_csv('Resources/Datasets/General_factor_data/U.S._All_Grades_All_Formulations_Retail_Gasoline_Prices.csv', skiprows=4)\n",
    "df"
   ]
  },
  {
   "cell_type": "code",
   "execution_count": 3,
   "id": "c1a92331",
   "metadata": {},
   "outputs": [],
   "source": [
    "df = df.rename(columns={'Month':'Date',\n",
    "    'U.S. All Grades All Formulations Retail Gasoline Prices Dollars per Gallon':'All_grade_price($/gallon)'})\n",
    "\n"
   ]
  },
  {
   "cell_type": "code",
   "execution_count": 5,
   "id": "8590d61a",
   "metadata": {},
   "outputs": [
    {
     "data": {
      "text/html": [
       "<div>\n",
       "<style scoped>\n",
       "    .dataframe tbody tr th:only-of-type {\n",
       "        vertical-align: middle;\n",
       "    }\n",
       "\n",
       "    .dataframe tbody tr th {\n",
       "        vertical-align: top;\n",
       "    }\n",
       "\n",
       "    .dataframe thead th {\n",
       "        text-align: right;\n",
       "    }\n",
       "</style>\n",
       "<table border=\"1\" class=\"dataframe\">\n",
       "  <thead>\n",
       "    <tr style=\"text-align: right;\">\n",
       "      <th></th>\n",
       "      <th>Date</th>\n",
       "      <th>All_grade_price($/gallon)</th>\n",
       "    </tr>\n",
       "  </thead>\n",
       "  <tbody>\n",
       "    <tr>\n",
       "      <th>0</th>\n",
       "      <td>2022-04-01</td>\n",
       "      <td>4.213</td>\n",
       "    </tr>\n",
       "    <tr>\n",
       "      <th>1</th>\n",
       "      <td>2022-03-01</td>\n",
       "      <td>4.322</td>\n",
       "    </tr>\n",
       "    <tr>\n",
       "      <th>2</th>\n",
       "      <td>2022-02-01</td>\n",
       "      <td>3.611</td>\n",
       "    </tr>\n",
       "    <tr>\n",
       "      <th>3</th>\n",
       "      <td>2022-01-01</td>\n",
       "      <td>3.413</td>\n",
       "    </tr>\n",
       "    <tr>\n",
       "      <th>4</th>\n",
       "      <td>2021-12-01</td>\n",
       "      <td>3.406</td>\n",
       "    </tr>\n",
       "    <tr>\n",
       "      <th>...</th>\n",
       "      <td>...</td>\n",
       "      <td>...</td>\n",
       "    </tr>\n",
       "    <tr>\n",
       "      <th>344</th>\n",
       "      <td>1993-08-01</td>\n",
       "      <td>1.062</td>\n",
       "    </tr>\n",
       "    <tr>\n",
       "      <th>345</th>\n",
       "      <td>1993-07-01</td>\n",
       "      <td>1.078</td>\n",
       "    </tr>\n",
       "    <tr>\n",
       "      <th>346</th>\n",
       "      <td>1993-06-01</td>\n",
       "      <td>1.097</td>\n",
       "    </tr>\n",
       "    <tr>\n",
       "      <th>347</th>\n",
       "      <td>1993-05-01</td>\n",
       "      <td>1.100</td>\n",
       "    </tr>\n",
       "    <tr>\n",
       "      <th>348</th>\n",
       "      <td>1993-04-01</td>\n",
       "      <td>1.078</td>\n",
       "    </tr>\n",
       "  </tbody>\n",
       "</table>\n",
       "<p>349 rows × 2 columns</p>\n",
       "</div>"
      ],
      "text/plain": [
       "          Date  All_grade_price($/gallon)\n",
       "0   2022-04-01                      4.213\n",
       "1   2022-03-01                      4.322\n",
       "2   2022-02-01                      3.611\n",
       "3   2022-01-01                      3.413\n",
       "4   2021-12-01                      3.406\n",
       "..         ...                        ...\n",
       "344 1993-08-01                      1.062\n",
       "345 1993-07-01                      1.078\n",
       "346 1993-06-01                      1.097\n",
       "347 1993-05-01                      1.100\n",
       "348 1993-04-01                      1.078\n",
       "\n",
       "[349 rows x 2 columns]"
      ]
     },
     "execution_count": 5,
     "metadata": {},
     "output_type": "execute_result"
    }
   ],
   "source": [
    "df['Date'] = pd.to_datetime(df['Date'])\n",
    "df"
   ]
  },
  {
   "cell_type": "code",
   "execution_count": 13,
   "id": "792aba4e",
   "metadata": {},
   "outputs": [
    {
     "data": {
      "text/html": [
       "<div>\n",
       "<style scoped>\n",
       "    .dataframe tbody tr th:only-of-type {\n",
       "        vertical-align: middle;\n",
       "    }\n",
       "\n",
       "    .dataframe tbody tr th {\n",
       "        vertical-align: top;\n",
       "    }\n",
       "\n",
       "    .dataframe thead th {\n",
       "        text-align: right;\n",
       "    }\n",
       "</style>\n",
       "<table border=\"1\" class=\"dataframe\">\n",
       "  <thead>\n",
       "    <tr style=\"text-align: right;\">\n",
       "      <th></th>\n",
       "      <th>Date</th>\n",
       "      <th>All_grade_price($/gallon)</th>\n",
       "    </tr>\n",
       "  </thead>\n",
       "  <tbody>\n",
       "    <tr>\n",
       "      <th>0</th>\n",
       "      <td>2022-04-01</td>\n",
       "      <td>4.213</td>\n",
       "    </tr>\n",
       "    <tr>\n",
       "      <th>1</th>\n",
       "      <td>2022-03-01</td>\n",
       "      <td>4.322</td>\n",
       "    </tr>\n",
       "    <tr>\n",
       "      <th>2</th>\n",
       "      <td>2022-02-01</td>\n",
       "      <td>3.611</td>\n",
       "    </tr>\n",
       "    <tr>\n",
       "      <th>3</th>\n",
       "      <td>2022-01-01</td>\n",
       "      <td>3.413</td>\n",
       "    </tr>\n",
       "    <tr>\n",
       "      <th>4</th>\n",
       "      <td>2021-12-01</td>\n",
       "      <td>3.406</td>\n",
       "    </tr>\n",
       "    <tr>\n",
       "      <th>...</th>\n",
       "      <td>...</td>\n",
       "      <td>...</td>\n",
       "    </tr>\n",
       "    <tr>\n",
       "      <th>251</th>\n",
       "      <td>2001-05-01</td>\n",
       "      <td>1.738</td>\n",
       "    </tr>\n",
       "    <tr>\n",
       "      <th>252</th>\n",
       "      <td>2001-04-01</td>\n",
       "      <td>1.591</td>\n",
       "    </tr>\n",
       "    <tr>\n",
       "      <th>253</th>\n",
       "      <td>2001-03-01</td>\n",
       "      <td>1.450</td>\n",
       "    </tr>\n",
       "    <tr>\n",
       "      <th>254</th>\n",
       "      <td>2001-02-01</td>\n",
       "      <td>1.490</td>\n",
       "    </tr>\n",
       "    <tr>\n",
       "      <th>255</th>\n",
       "      <td>2001-01-01</td>\n",
       "      <td>1.487</td>\n",
       "    </tr>\n",
       "  </tbody>\n",
       "</table>\n",
       "<p>256 rows × 2 columns</p>\n",
       "</div>"
      ],
      "text/plain": [
       "          Date  All_grade_price($/gallon)\n",
       "0   2022-04-01                      4.213\n",
       "1   2022-03-01                      4.322\n",
       "2   2022-02-01                      3.611\n",
       "3   2022-01-01                      3.413\n",
       "4   2021-12-01                      3.406\n",
       "..         ...                        ...\n",
       "251 2001-05-01                      1.738\n",
       "252 2001-04-01                      1.591\n",
       "253 2001-03-01                      1.450\n",
       "254 2001-02-01                      1.490\n",
       "255 2001-01-01                      1.487\n",
       "\n",
       "[256 rows x 2 columns]"
      ]
     },
     "execution_count": 13,
     "metadata": {},
     "output_type": "execute_result"
    }
   ],
   "source": [
    "df = df[(df.Date >= '2001-01-01')]\n",
    "df"
   ]
  },
  {
   "cell_type": "code",
   "execution_count": 53,
   "id": "13506dc1",
   "metadata": {},
   "outputs": [
    {
     "data": {
      "text/plain": [
       "Text(0.5, 1.0, 'Time Series of All_grade_Price')"
      ]
     },
     "execution_count": 53,
     "metadata": {},
     "output_type": "execute_result"
    },
    {
     "data": {
      "image/png": "[encoded data removed]",
      "text/plain": [
       "<Figure size 432x288 with 1 Axes>"
      ]
     },
     "metadata": {
      "needs_background": "light"
     },
     "output_type": "display_data"
    }
   ],
   "source": [
    "#plot to see data relationship\n",
    "df.plot('Date','All_grade_price($/gallon)')\n",
    "plt.ylabel('All_grade_price($/gallon)')\n",
    "plt.title('Time Series of All_grade_Price')"
   ]
  },
  {
   "cell_type": "code",
   "execution_count": 17,
   "id": "eee444c3",
   "metadata": {},
   "outputs": [
    {
     "name": "stdout",
     "output_type": "stream",
     "text": [
      "ADF:  -2.2152053532411338\n",
      "p-value:  0.2007731482616812\n",
      "Number of Lags:  2\n"
     ]
    }
   ],
   "source": [
    "from statsmodels.tsa.stattools import adfuller\n",
    "dftest = adfuller(df['All_grade_price($/gallon)'], autolag = 'AIC')\n",
    "\n",
    "print('ADF: ', dftest[0])\n",
    "print('p-value: ', dftest[1])\n",
    "print('Number of Lags: ', dftest[2])\n",
    "#check the data if it is stationarity, the p-value is greater than 0.05, \n",
    "#thus,the data is not stationary."
   ]
  },
  {
   "cell_type": "code",
   "execution_count": 52,
   "id": "cb3312de",
   "metadata": {},
   "outputs": [
    {
     "data": {
      "image/png": "[encoded data removed]",
      "text/plain": [
       "<Figure size 432x288 with 1 Axes>"
      ]
     },
     "metadata": {
      "needs_background": "light"
     },
     "output_type": "display_data"
    },
    {
     "data": {
      "image/png": "[encoded data removed]",
      "text/plain": [
       "<Figure size 432x288 with 1 Axes>"
      ]
     },
     "metadata": {
      "needs_background": "light"
     },
     "output_type": "display_data"
    }
   ],
   "source": [
    "from statsmodels.graphics.tsaplots import plot_pacf,plot_acf\n",
    "\n",
    "pacf = plot_pacf(df['All_grade_price($/gallon)'], lags=30)\n",
    "                  \n",
    "acf = plot_acf(df['All_grade_price($/gallon)'], lags=30)                 "
   ]
  },
  {
   "cell_type": "code",
   "execution_count": 30,
   "id": "668b57bb",
   "metadata": {},
   "outputs": [],
   "source": [
    "#create train/test datasets\n",
    "X = df['All_grade_price($/gallon)']\n",
    "train_data = X[:len(X)-30]\n",
    "test_data = X[len(X)-30:]"
   ]
  },
  {
   "cell_type": "code",
   "execution_count": 31,
   "id": "8c61ed2f",
   "metadata": {},
   "outputs": [
    {
     "data": {
      "text/plain": [
       "(226,)"
      ]
     },
     "execution_count": 31,
     "metadata": {},
     "output_type": "execute_result"
    }
   ],
   "source": [
    "train_data.shape"
   ]
  },
  {
   "cell_type": "code",
   "execution_count": 32,
   "id": "22a042e5",
   "metadata": {},
   "outputs": [
    {
     "data": {
      "text/plain": [
       "(30,)"
      ]
     },
     "execution_count": 32,
     "metadata": {},
     "output_type": "execute_result"
    }
   ],
   "source": [
    "test_data.shape"
   ]
  },
  {
   "cell_type": "code",
   "execution_count": 45,
   "id": "52506590",
   "metadata": {
    "scrolled": false
   },
   "outputs": [
    {
     "name": "stdout",
     "output_type": "stream",
     "text": [
      "                                AutoReg Model Results                                \n",
      "=====================================================================================\n",
      "Dep. Variable:     All_grade_price($/gallon)   No. Observations:                  226\n",
      "Model:                           AutoReg(30)   Log Likelihood                 113.734\n",
      "Method:                      Conditional MLE   S.D. of innovations              0.135\n",
      "Date:                       Tue, 31 May 2022   AIC                             -3.672\n",
      "Time:                               14:45:53   BIC                             -3.137\n",
      "Sample:                                   30   HQIC                            -3.455\n",
      "                                         226                                         \n",
      "=================================================================================================\n",
      "                                    coef    std err          z      P>|z|      [0.025      0.975]\n",
      "-------------------------------------------------------------------------------------------------\n",
      "intercept                         0.0763      0.075      1.023      0.306      -0.070       0.222\n",
      "All_grade_price($/gallon).L1      1.5156      0.071     21.264      0.000       1.376       1.655\n",
      "All_grade_price($/gallon).L2     -0.7014      0.130     -5.409      0.000      -0.956      -0.447\n",
      "All_grade_price($/gallon).L3      0.0846      0.139      0.608      0.543      -0.188       0.357\n",
      "All_grade_price($/gallon).L4      0.1029      0.138      0.743      0.458      -0.169       0.374\n",
      "All_grade_price($/gallon).L5     -0.0727      0.137     -0.531      0.595      -0.341       0.196\n",
      "All_grade_price($/gallon).L6     -0.0151      0.136     -0.110      0.912      -0.282       0.252\n",
      "All_grade_price($/gallon).L7      0.0205      0.136      0.151      0.880      -0.246       0.287\n",
      "All_grade_price($/gallon).L8      0.0326      0.134      0.243      0.808      -0.230       0.296\n",
      "All_grade_price($/gallon).L9     -0.0831      0.134     -0.620      0.535      -0.346       0.179\n",
      "All_grade_price($/gallon).L10     0.1637      0.134      1.218      0.223      -0.100       0.427\n",
      "All_grade_price($/gallon).L11     0.0276      0.135      0.204      0.838      -0.237       0.292\n",
      "All_grade_price($/gallon).L12    -0.2021      0.135     -1.498      0.134      -0.467       0.062\n",
      "All_grade_price($/gallon).L13     0.1868      0.135      1.381      0.167      -0.078       0.452\n",
      "All_grade_price($/gallon).L14    -0.0966      0.136     -0.711      0.477      -0.363       0.170\n",
      "All_grade_price($/gallon).L15     0.0296      0.136      0.217      0.828      -0.237       0.296\n",
      "All_grade_price($/gallon).L16     0.0512      0.135      0.378      0.706      -0.214       0.317\n",
      "All_grade_price($/gallon).L17    -0.1328      0.134     -0.993      0.321      -0.395       0.129\n",
      "All_grade_price($/gallon).L18     0.0974      0.134      0.729      0.466      -0.164       0.359\n",
      "All_grade_price($/gallon).L19    -0.0322      0.134     -0.241      0.810      -0.294       0.230\n",
      "All_grade_price($/gallon).L20    -0.0156      0.134     -0.117      0.907      -0.278       0.246\n",
      "All_grade_price($/gallon).L21    -0.0331      0.133     -0.248      0.804      -0.294       0.228\n",
      "All_grade_price($/gallon).L22     0.1723      0.134      1.287      0.198      -0.090       0.434\n",
      "All_grade_price($/gallon).L23    -0.2171      0.135     -1.614      0.107      -0.481       0.047\n",
      "All_grade_price($/gallon).L24     0.0665      0.135      0.491      0.623      -0.199       0.332\n",
      "All_grade_price($/gallon).L25     0.2063      0.136      1.520      0.129      -0.060       0.472\n",
      "All_grade_price($/gallon).L26    -0.1997      0.138     -1.448      0.148      -0.470       0.071\n",
      "All_grade_price($/gallon).L27    -0.0742      0.140     -0.531      0.596      -0.348       0.200\n",
      "All_grade_price($/gallon).L28     0.0775      0.136      0.570      0.569      -0.189       0.344\n",
      "All_grade_price($/gallon).L29    -0.0514      0.123     -0.418      0.676      -0.292       0.190\n",
      "All_grade_price($/gallon).L30     0.0634      0.068      0.929      0.353      -0.070       0.197\n",
      "                                    Roots                                     \n",
      "==============================================================================\n",
      "                   Real          Imaginary           Modulus         Frequency\n",
      "------------------------------------------------------------------------------\n",
      "AR.1             1.0435           -0.0000j            1.0435           -0.0000\n",
      "AR.2             1.0756           -0.0937j            1.0796           -0.0138\n",
      "AR.3             1.0756           +0.0937j            1.0796            0.0138\n",
      "AR.4             1.0017           -0.3512j            1.0615           -0.0537\n",
      "AR.5             1.0017           +0.3512j            1.0615            0.0537\n",
      "AR.6             0.8867           -0.5142j            1.0250           -0.0836\n",
      "AR.7             0.8867           +0.5142j            1.0250            0.0836\n",
      "AR.8             0.7589           -0.7169j            1.0440           -0.1205\n",
      "AR.9             0.7589           +0.7169j            1.0440            0.1205\n",
      "AR.10            0.5711           -0.8829j            1.0515           -0.1586\n",
      "AR.11            0.5711           +0.8829j            1.0515            0.1586\n",
      "AR.12            0.3623           -0.9704j            1.0359           -0.1931\n",
      "AR.13            0.3623           +0.9704j            1.0359            0.1931\n",
      "AR.14           -1.0928           -0.0000j            1.0928           -0.5000\n",
      "AR.15           -1.0968           -0.2962j            1.1361           -0.4580\n",
      "AR.16           -1.0968           +0.2962j            1.1361            0.4580\n",
      "AR.17           -1.0615           -0.4037j            1.1357           -0.4422\n",
      "AR.18           -1.0615           +0.4037j            1.1357            0.4422\n",
      "AR.19           -0.8514           -0.6583j            1.0762           -0.3953\n",
      "AR.20           -0.8514           +0.6583j            1.0762            0.3953\n",
      "AR.21           -0.6805           -0.8011j            1.0511           -0.3621\n",
      "AR.22           -0.6805           +0.8011j            1.0511            0.3621\n",
      "AR.23            0.1151           -1.0601j            1.0663           -0.2328\n",
      "AR.24            0.1151           +1.0601j            1.0663            0.2328\n",
      "AR.25           -0.4157           -0.9652j            1.0509           -0.3147\n",
      "AR.26           -0.4157           +0.9652j            1.0509            0.3147\n",
      "AR.27           -0.1507           -1.0279j            1.0389           -0.2732\n",
      "AR.28           -0.1507           +1.0279j            1.0389            0.2732\n",
      "AR.29           -0.0846           -1.6368j            1.6390           -0.2582\n",
      "AR.30           -0.0846           +1.6368j            1.6390            0.2582\n",
      "------------------------------------------------------------------------------\n"
     ]
    },
    {
     "name": "stderr",
     "output_type": "stream",
     "text": [
      "C:\\Users\\Phoeb\\anaconda3\\envs\\mlenv\\lib\\site-packages\\statsmodels\\tsa\\ar_model.py:252: FutureWarning: The parameter names will change after 0.12 is released. Set old_names to False to use the new names now. Set old_names to True to use the old names. \n",
      "  FutureWarning,\n"
     ]
    }
   ],
   "source": [
    "# train autoregression\n",
    "model = AutoReg(train_data, lags=30)\n",
    "results = model.fit()\n",
    "print(results.summary())\n",
    "#print(len(train_data))"
   ]
  },
  {
   "cell_type": "code",
   "execution_count": 46,
   "id": "1ca6aa0e",
   "metadata": {},
   "outputs": [
    {
     "name": "stdout",
     "output_type": "stream",
     "text": [
      "226    1.481716\n",
      "227    1.446681\n",
      "228    1.502094\n",
      "229    1.609949\n",
      "230    1.670323\n",
      "231    1.695033\n",
      "232    1.714654\n",
      "233    1.756994\n",
      "234    1.854920\n",
      "235    1.908136\n",
      "236    1.903096\n",
      "237    1.900944\n",
      "238    1.893307\n",
      "239    1.939878\n",
      "240    1.979780\n",
      "241    1.969758\n",
      "242    1.956827\n",
      "243    1.975507\n",
      "244    2.015367\n",
      "245    2.082817\n",
      "246    2.129465\n",
      "247    2.178422\n",
      "248    2.236714\n",
      "249    2.261567\n",
      "250    2.259731\n",
      "251    2.250596\n",
      "252    2.240138\n",
      "253    2.260895\n",
      "254    2.304934\n",
      "255    2.347039\n",
      "dtype: float64\n"
     ]
    }
   ],
   "source": [
    "#Make a prediction\n",
    "pred = results.predict(start=len(train_data), end=(len(X)-1), dynamic=False)\n",
    "print(pred)"
   ]
  },
  {
   "cell_type": "code",
   "execution_count": 47,
   "id": "ccec2d4d",
   "metadata": {},
   "outputs": [
    {
     "data": {
      "text/plain": [
       "<AxesSubplot:>"
      ]
     },
     "execution_count": 47,
     "metadata": {},
     "output_type": "execute_result"
    },
    {
     "data": {
      "image/png": "[encoded data removed]",
      "text/plain": [
       "<Figure size 432x288 with 1 Axes>"
      ]
     },
     "metadata": {
      "needs_background": "light"
     },
     "output_type": "display_data"
    }
   ],
   "source": [
    "pred.plot()\n",
    "test_data.plot(color='red')\n"
   ]
  },
  {
   "cell_type": "code",
   "execution_count": 48,
   "id": "28b66951",
   "metadata": {},
   "outputs": [
    {
     "name": "stdout",
     "output_type": "stream",
     "text": [
      "MAE = 0.53\n",
      "MSE = 0.35\n",
      "MAE = 0.53\n",
      "EVS = -3.25\n",
      "R2 score = -13.77\n"
     ]
    }
   ],
   "source": [
    "import sklearn.metrics as skm\n",
    "print('MAE =', round(skm.mean_absolute_error(test_data, pred), 2))\n",
    "print(\"MSE =\", round(skm.mean_squared_error(test_data, pred), 2)) \n",
    "print(\"MAE =\", round(skm.median_absolute_error(test_data, pred), 2)) \n",
    "print(\"EVS =\", round(skm.explained_variance_score(test_data, pred), 2)) \n",
    "print(\"R2 score =\", round(skm.r2_score(test_data, pred), 2))"
   ]
  },
  {
   "cell_type": "code",
   "execution_count": 49,
   "id": "ac702c82",
   "metadata": {},
   "outputs": [
    {
     "name": "stdout",
     "output_type": "stream",
     "text": [
      "rmse:  0.5907181086019812\n"
     ]
    }
   ],
   "source": [
    "rmse = sqrt(mean_squared_error(test_data, pred))\n",
    "print('rmse: ', rmse)"
   ]
  },
  {
   "cell_type": "code",
   "execution_count": 50,
   "id": "643b7764",
   "metadata": {},
   "outputs": [
    {
     "name": "stdout",
     "output_type": "stream",
     "text": [
      "The future prediction for the next week\n",
      "257    2.378232\n",
      "258    2.382590\n",
      "259    2.408717\n",
      "260    2.428388\n",
      "261    2.435072\n",
      "262    2.429593\n",
      "263    2.418236\n",
      "264    2.426645\n",
      "265    2.449205\n",
      "266    2.462360\n",
      "267    2.468428\n",
      "268    2.470765\n",
      "269    2.485224\n",
      "270    2.514055\n",
      "271    2.533441\n",
      "272    2.540137\n",
      "273    2.541435\n",
      "274    2.535472\n",
      "275    2.529408\n",
      "276    2.522902\n",
      "277    2.516391\n",
      "278    2.518433\n",
      "279    2.529175\n",
      "280    2.546846\n",
      "281    2.564528\n",
      "282    2.569196\n",
      "283    2.567026\n",
      "284    2.568130\n",
      "285    2.570969\n",
      "286    2.573805\n",
      "dtype: float64\n",
      "Number of prediction make: \t 30\n"
     ]
    }
   ],
   "source": [
    "#make future predictions, the comming 7days\n",
    "pred_future = results.predict(start=(len(X)+1), end=(len(X)+30), dynamic=False)\n",
    "print('The future prediction for the next week')\n",
    "print(pred_future)\n",
    "print('Number of prediction make: \\t', len(pred_future))"
   ]
  },
  {
   "cell_type": "code",
   "execution_count": null,
   "id": "83f5a808",
   "metadata": {},
   "outputs": [],
   "source": []
  },
  {
   "cell_type": "code",
   "execution_count": 34,
   "id": "2420879a",
   "metadata": {},
   "outputs": [],
   "source": []
  }
 ],
 "metadata": {
  "kernelspec": {
   "display_name": "mlenv",
   "language": "python",
   "name": "mlenv"
  },
  "language_info": {
   "codemirror_mode": {
    "name": "ipython",
    "version": 3
   },
   "file_extension": ".py",
   "mimetype": "text/x-python",
   "name": "python",
   "nbconvert_exporter": "python",
   "pygments_lexer": "ipython3",
   "version": "3.7.11"
  }
 },
 "nbformat": 4,
 "nbformat_minor": 5
}
