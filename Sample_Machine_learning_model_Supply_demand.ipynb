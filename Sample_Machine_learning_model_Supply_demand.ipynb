{
 "cells": [
  {
   "cell_type": "markdown",
   "id": "1ada189f",
   "metadata": {},
   "source": [
    "# Machine Learning Model"
   ]
  },
  {
   "cell_type": "markdown",
   "id": "f64987ba",
   "metadata": {},
   "source": [
    "## Supervised ML "
   ]
  },
  {
   "cell_type": "code",
   "execution_count": 38,
   "id": "13aae62d",
   "metadata": {},
   "outputs": [],
   "source": [
    "import pandas as pd\n",
    "import matplotlib.pyplot as plt\n",
    "from sklearn.linear_model import LogisticRegression\n",
    "from sklearn.model_selection import train_test_split"
   ]
  },
  {
   "cell_type": "markdown",
   "id": "12001106",
   "metadata": {},
   "source": [
    "## import dataset"
   ]
  },
  {
   "cell_type": "code",
   "execution_count": 39,
   "id": "ace66fe8",
   "metadata": {},
   "outputs": [],
   "source": [
    "supply_demand = pd.read_csv('../cleaned_data/supply_demand.csv')\n",
    "import_export = pd.read_csv('../cleaned_data/import_export.csv')\n",
    "price_by_type = pd.read_csv('../cleaned_data/price_by_type.csv')\n",
    "gas_storage = pd.read_csv('../cleaned_data/storage_vol.csv')"
   ]
  },
  {
   "cell_type": "markdown",
   "id": "48aad20d",
   "metadata": {},
   "source": [
    "## Preprocessing Data"
   ]
  },
  {
   "cell_type": "code",
   "execution_count": 40,
   "id": "c7e3c1e1",
   "metadata": {},
   "outputs": [],
   "source": [
    "supply_demand = supply_demand.drop(columns='Unnamed: 0')\n",
    "import_export = import_export.drop(columns='Unnamed: 0')"
   ]
  },
  {
   "cell_type": "code",
   "execution_count": 41,
   "id": "544edf2f",
   "metadata": {},
   "outputs": [
    {
     "data": {
      "text/html": [
       "<div>\n",
       "<style scoped>\n",
       "    .dataframe tbody tr th:only-of-type {\n",
       "        vertical-align: middle;\n",
       "    }\n",
       "\n",
       "    .dataframe tbody tr th {\n",
       "        vertical-align: top;\n",
       "    }\n",
       "\n",
       "    .dataframe thead th {\n",
       "        text-align: right;\n",
       "    }\n",
       "</style>\n",
       "<table border=\"1\" class=\"dataframe\">\n",
       "  <thead>\n",
       "    <tr style=\"text-align: right;\">\n",
       "      <th></th>\n",
       "      <th>Year</th>\n",
       "      <th>Month</th>\n",
       "      <th>Gas_Procution(Mmcf)</th>\n",
       "      <th>Gas_Consumption(Mmcf)</th>\n",
       "    </tr>\n",
       "  </thead>\n",
       "  <tbody>\n",
       "    <tr>\n",
       "      <th>0</th>\n",
       "      <td>2022</td>\n",
       "      <td>2</td>\n",
       "      <td>2856356</td>\n",
       "      <td>3040029.0</td>\n",
       "    </tr>\n",
       "    <tr>\n",
       "      <th>1</th>\n",
       "      <td>2022</td>\n",
       "      <td>1</td>\n",
       "      <td>3180818</td>\n",
       "      <td>3591557.0</td>\n",
       "    </tr>\n",
       "    <tr>\n",
       "      <th>2</th>\n",
       "      <td>2021</td>\n",
       "      <td>12</td>\n",
       "      <td>3266272</td>\n",
       "      <td>2979653.0</td>\n",
       "    </tr>\n",
       "    <tr>\n",
       "      <th>3</th>\n",
       "      <td>2021</td>\n",
       "      <td>11</td>\n",
       "      <td>3161306</td>\n",
       "      <td>2659971.0</td>\n",
       "    </tr>\n",
       "    <tr>\n",
       "      <th>4</th>\n",
       "      <td>2021</td>\n",
       "      <td>10</td>\n",
       "      <td>3219612</td>\n",
       "      <td>2237715.0</td>\n",
       "    </tr>\n",
       "  </tbody>\n",
       "</table>\n",
       "</div>"
      ],
      "text/plain": [
       "   Year  Month  Gas_Procution(Mmcf)  Gas_Consumption(Mmcf)\n",
       "0  2022      2              2856356              3040029.0\n",
       "1  2022      1              3180818              3591557.0\n",
       "2  2021     12              3266272              2979653.0\n",
       "3  2021     11              3161306              2659971.0\n",
       "4  2021     10              3219612              2237715.0"
      ]
     },
     "execution_count": 41,
     "metadata": {},
     "output_type": "execute_result"
    }
   ],
   "source": [
    "supply_demand.head()"
   ]
  },
  {
   "cell_type": "code",
   "execution_count": 42,
   "id": "c4ab7b9f",
   "metadata": {},
   "outputs": [],
   "source": [
    "supply_demand['Market_status'] = supply_demand['Gas_Procution(Mmcf)'] - supply_demand['Gas_Consumption(Mmcf)']"
   ]
  },
  {
   "cell_type": "code",
   "execution_count": 43,
   "id": "4aa76abe",
   "metadata": {},
   "outputs": [
    {
     "data": {
      "text/html": [
       "<div>\n",
       "<style scoped>\n",
       "    .dataframe tbody tr th:only-of-type {\n",
       "        vertical-align: middle;\n",
       "    }\n",
       "\n",
       "    .dataframe tbody tr th {\n",
       "        vertical-align: top;\n",
       "    }\n",
       "\n",
       "    .dataframe thead th {\n",
       "        text-align: right;\n",
       "    }\n",
       "</style>\n",
       "<table border=\"1\" class=\"dataframe\">\n",
       "  <thead>\n",
       "    <tr style=\"text-align: right;\">\n",
       "      <th></th>\n",
       "      <th>Year</th>\n",
       "      <th>Month</th>\n",
       "      <th>Gas_Procution(Mmcf)</th>\n",
       "      <th>Gas_Consumption(Mmcf)</th>\n",
       "      <th>Market_status</th>\n",
       "    </tr>\n",
       "  </thead>\n",
       "  <tbody>\n",
       "    <tr>\n",
       "      <th>0</th>\n",
       "      <td>2022</td>\n",
       "      <td>2</td>\n",
       "      <td>2856356</td>\n",
       "      <td>3040029.0</td>\n",
       "      <td>0</td>\n",
       "    </tr>\n",
       "    <tr>\n",
       "      <th>1</th>\n",
       "      <td>2022</td>\n",
       "      <td>1</td>\n",
       "      <td>3180818</td>\n",
       "      <td>3591557.0</td>\n",
       "      <td>0</td>\n",
       "    </tr>\n",
       "    <tr>\n",
       "      <th>2</th>\n",
       "      <td>2021</td>\n",
       "      <td>12</td>\n",
       "      <td>3266272</td>\n",
       "      <td>2979653.0</td>\n",
       "      <td>1</td>\n",
       "    </tr>\n",
       "    <tr>\n",
       "      <th>3</th>\n",
       "      <td>2021</td>\n",
       "      <td>11</td>\n",
       "      <td>3161306</td>\n",
       "      <td>2659971.0</td>\n",
       "      <td>1</td>\n",
       "    </tr>\n",
       "    <tr>\n",
       "      <th>4</th>\n",
       "      <td>2021</td>\n",
       "      <td>10</td>\n",
       "      <td>3219612</td>\n",
       "      <td>2237715.0</td>\n",
       "      <td>1</td>\n",
       "    </tr>\n",
       "  </tbody>\n",
       "</table>\n",
       "</div>"
      ],
      "text/plain": [
       "   Year  Month  Gas_Procution(Mmcf)  Gas_Consumption(Mmcf) Market_status\n",
       "0  2022      2              2856356              3040029.0             0\n",
       "1  2022      1              3180818              3591557.0             0\n",
       "2  2021     12              3266272              2979653.0             1\n",
       "3  2021     11              3161306              2659971.0             1\n",
       "4  2021     10              3219612              2237715.0             1"
      ]
     },
     "execution_count": 43,
     "metadata": {},
     "output_type": "execute_result"
    }
   ],
   "source": [
    "supply_demand['Market_status'] = supply_demand['Market_status'].apply(lambda x: '1' if x >0 else '0')\n",
    "supply_demand.head()"
   ]
  },
  {
   "cell_type": "code",
   "execution_count": 44,
   "id": "a5032f21",
   "metadata": {},
   "outputs": [
    {
     "data": {
      "text/plain": [
       "(254, 4)"
      ]
     },
     "execution_count": 44,
     "metadata": {},
     "output_type": "execute_result"
    }
   ],
   "source": [
    "X = supply_demand.drop(columns='Market_status')\n",
    "y = supply_demand['Market_status']\n",
    "X.shape"
   ]
  },
  {
   "cell_type": "code",
   "execution_count": 45,
   "id": "91ed93c2",
   "metadata": {},
   "outputs": [],
   "source": [
    "X_train,X_test,y_train,y_test =train_test_split(X,y,random_state=42, stratify=y)"
   ]
  },
  {
   "cell_type": "code",
   "execution_count": 46,
   "id": "afcc1a4a",
   "metadata": {},
   "outputs": [
    {
     "data": {
      "text/plain": [
       "LogisticRegression(max_iter=200, random_state=42)"
      ]
     },
     "execution_count": 46,
     "metadata": {},
     "output_type": "execute_result"
    }
   ],
   "source": [
    "classifier = LogisticRegression(solver='lbfgs', max_iter=200, random_state=42)\n",
    "classifier.fit(X_train,y_train)"
   ]
  },
  {
   "cell_type": "code",
   "execution_count": 47,
   "id": "779b6ade",
   "metadata": {},
   "outputs": [],
   "source": [
    "y_predict = classifier.predict(X_test)"
   ]
  },
  {
   "cell_type": "code",
   "execution_count": 50,
   "id": "742f3737",
   "metadata": {},
   "outputs": [
    {
     "data": {
      "text/plain": [
       "1.0"
      ]
     },
     "execution_count": 50,
     "metadata": {},
     "output_type": "execute_result"
    }
   ],
   "source": [
    "from sklearn.metrics import accuracy_score, confusion_matrix, classification_report\n",
    "accuracy_score(y_test, y_predict)"
   ]
  },
  {
   "cell_type": "code",
   "execution_count": 52,
   "id": "188a62d1",
   "metadata": {},
   "outputs": [
    {
     "name": "stdout",
     "output_type": "stream",
     "text": [
      "[[28  0]\n",
      " [ 0 36]]\n"
     ]
    }
   ],
   "source": [
    "matrix = confusion_matrix(y_test,y_predict)\n",
    "print(matrix)"
   ]
  },
  {
   "cell_type": "code",
   "execution_count": 54,
   "id": "53875031",
   "metadata": {},
   "outputs": [
    {
     "name": "stdout",
     "output_type": "stream",
     "text": [
      "              precision    recall  f1-score   support\n",
      "\n",
      "           0       1.00      1.00      1.00        28\n",
      "           1       1.00      1.00      1.00        36\n",
      "\n",
      "    accuracy                           1.00        64\n",
      "   macro avg       1.00      1.00      1.00        64\n",
      "weighted avg       1.00      1.00      1.00        64\n",
      "\n"
     ]
    }
   ],
   "source": [
    "report = classification_report(y_test, y_predict)\n",
    "print(report)"
   ]
  },
  {
   "cell_type": "code",
   "execution_count": null,
   "id": "809b49a6",
   "metadata": {},
   "outputs": [],
   "source": []
  },
  {
   "cell_type": "code",
   "execution_count": null,
   "id": "66a38c89",
   "metadata": {},
   "outputs": [],
   "source": []
  },
  {
   "cell_type": "code",
   "execution_count": null,
   "id": "d8be58b4",
   "metadata": {},
   "outputs": [],
   "source": [
    "import_export.head()"
   ]
  },
  {
   "cell_type": "code",
   "execution_count": null,
   "id": "ce53da6e",
   "metadata": {},
   "outputs": [],
   "source": [
    "price_by_type.head()"
   ]
  },
  {
   "cell_type": "code",
   "execution_count": null,
   "id": "d1ec396e",
   "metadata": {},
   "outputs": [],
   "source": [
    "#change columns name\n",
    "price_by_type = price_by_type.rename(columns={\n",
    "    'all_grades(Price_per_Gallon)':'all_grades($/Gallon)',\n",
    "    'regular(Price_per_Gallon)':'regular($/Gallon)','midgrade(Price_per_Gallon)':'midgrade($/Gallon)',\n",
    "    'premium(Price_per_Gallon)':'premium($/Gallon)',\n",
    "    'diesel(Price_per_Gallon)': 'diesel($/Gallon)'\n",
    "})"
   ]
  },
  {
   "cell_type": "code",
   "execution_count": null,
   "id": "8fd594e7",
   "metadata": {},
   "outputs": [],
   "source": [
    "price_by_type = price_by_type.sort_values('Year',ascending=False)\n",
    "price_by_type"
   ]
  },
  {
   "cell_type": "code",
   "execution_count": null,
   "id": "9833b7d2",
   "metadata": {},
   "outputs": [],
   "source": [
    "gas_storage.head()"
   ]
  },
  {
   "cell_type": "code",
   "execution_count": null,
   "id": "276e004c",
   "metadata": {},
   "outputs": [],
   "source": [
    "gas_storage = gas_storage.rename(columns={'Volume_Mmcf': 'Volumn(Mmcf)'})"
   ]
  },
  {
   "cell_type": "code",
   "execution_count": null,
   "id": "88c37f14",
   "metadata": {},
   "outputs": [],
   "source": [
    "## create new df contains all data we need\n",
    "new_df = supply_demand.merge(import_export, how='right')\n",
    "new_df1 = new_df.merge(price_by_type,how='right')\n",
    "us_gas_data = new_df1.merge(gas_storage,how='right')\n",
    "us_gas_data"
   ]
  },
  {
   "cell_type": "code",
   "execution_count": null,
   "id": "fea3f735",
   "metadata": {},
   "outputs": [],
   "source": [
    "# define features and target\n",
    "y = us_gas_data['all_grades(Price_per_Gallon)']\n",
    "X = us_gas_data.drop(columns = 'all_grades(Price_per_Gallon)')"
   ]
  },
  {
   "cell_type": "code",
   "execution_count": null,
   "id": "cf807697",
   "metadata": {},
   "outputs": [],
   "source": [
    "# split data \n",
    "X_train,X_test, y_train, y_test = train_test_split(X, y, random_state=42,stratify=y)\n",
    "X_train.shape()"
   ]
  },
  {
   "cell_type": "code",
   "execution_count": null,
   "id": "aae791cb",
   "metadata": {},
   "outputs": [],
   "source": [
    "# use logistic Regression Model\n",
    "classifier = LogistricRegreesion(solver='lbfgs', random_state=42)\n"
   ]
  }
 ],
 "metadata": {
  "kernelspec": {
   "display_name": "mlenv",
   "language": "python",
   "name": "mlenv"
  },
  "language_info": {
   "codemirror_mode": {
    "name": "ipython",
    "version": 3
   },
   "file_extension": ".py",
   "mimetype": "text/x-python",
   "name": "python",
   "nbconvert_exporter": "python",
   "pygments_lexer": "ipython3",
   "version": "3.7.11"
  }
 },
 "nbformat": 4,
 "nbformat_minor": 5
}
