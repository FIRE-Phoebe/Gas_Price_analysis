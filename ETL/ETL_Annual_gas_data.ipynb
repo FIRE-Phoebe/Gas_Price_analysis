{
 "cells": [
  {
   "cell_type": "code",
   "execution_count": null,
   "id": "97ecccf5",
   "metadata": {},
   "outputs": [],
   "source": [
    "import pandas as pd\n",
    "from sklearn.linear_model import LogisticRegression, LinearRegression\n",
    "from sklearn.metrics import accuracy_score, confusion_matrix, classification_report\n",
    "from sklearn.model_selection import train_test_split"
   ]
  },
  {
   "cell_type": "code",
   "execution_count": null,
   "id": "d7005065",
   "metadata": {},
   "outputs": [],
   "source": [
    "us_gas_data = pd.read_csv('../Resources/Datasets/cleaned_data/us_gas_data.csv')\n",
    "us_gas_data"
   ]
  },
  {
   "cell_type": "code",
   "execution_count": null,
   "id": "4e63140d",
   "metadata": {},
   "outputs": [],
   "source": [
    "us_gas_data.columns"
   ]
  },
  {
   "cell_type": "code",
   "execution_count": null,
   "id": "75271fb3",
   "metadata": {},
   "outputs": [],
   "source": [
    "us_gas_data.dtypes"
   ]
  },
  {
   "cell_type": "code",
   "execution_count": null,
   "id": "089a9f28",
   "metadata": {},
   "outputs": [],
   "source": [
    "us_gas_data = us_gas_data.astype({'Gas_Production(Mmcf)':float,\n",
    "              'Total Imports (Mmcf)' : float,\n",
    "              'Total Exports (Mmcf)': float })\n",
    "us_gas_data.dtypes"
   ]
  },
  {
   "cell_type": "code",
   "execution_count": null,
   "id": "7ad0b0ae",
   "metadata": {},
   "outputs": [],
   "source": [
    "us_gas_data.describe()"
   ]
  },
  {
   "cell_type": "markdown",
   "id": "2f3bfc35",
   "metadata": {},
   "source": [
    "## Annual gas analysis"
   ]
  },
  {
   "cell_type": "code",
   "execution_count": null,
   "id": "1a9a4b2c",
   "metadata": {},
   "outputs": [],
   "source": [
    "#group by data 'year'- all gas data\n",
    "annual_gas_production = us_gas_data.groupby(['Year']).mean()['Gas_Production(Mmcf)']\n",
    "annual_gas_consumption = us_gas_data.groupby(['Year']).mean()['Gas_Consumption(Mmcf)']\n",
    "annual_gas_import_p = us_gas_data.groupby(['Year']).mean()['Import_price($/Mcf)']\n",
    "annual_gas_export_p = us_gas_data.groupby(['Year']).mean()['Export_price($/Mcf)']\n",
    "annual_total_import = us_gas_data.groupby(['Year']).mean()['Total Imports (Mmcf)']\n",
    "annual_total_export = us_gas_data.groupby(['Year']).mean()['Total Exports (Mmcf)']\n",
    "annual_avg_all_grades_p = us_gas_data.groupby(['Year']).mean()['all_grades($/Gallon)']\n",
    "annual_avg_reg_p = us_gas_data.groupby(['Year']).mean()['regular($/Gallon)']\n",
    "annual_avg_midg_p = us_gas_data.groupby(['Year']).mean()['midgrade($/Gallon)']\n",
    "annual_avg_pre_p = us_gas_data.groupby(['Year']).mean()['premium($/Gallon)']\n",
    "annual_avg_dis_p = us_gas_data.groupby(['Year']).mean()['diesel($/Gallon)']\n",
    "annual_avg_vol = us_gas_data.groupby(['Year']).mean()['Volumn(Mmcf)']"
   ]
  },
  {
   "cell_type": "code",
   "execution_count": null,
   "id": "3eec2f07",
   "metadata": {},
   "outputs": [],
   "source": [
    "# create annual summary, reorder columns\n",
    "annual_gas_summary = pd.DataFrame({\n",
    "    'avg_production(Mmcf)': annual_gas_production,\n",
    "    'avg_consumption(Mmcf)': annual_gas_consumption,\n",
    "    'avg_vol(Mmcf)': annual_avg_vol,\n",
    "    'avg_total_import(Mmcf)': annual_total_import,\n",
    "    'avg_toal_export(Mmcf)': annual_total_export,\n",
    "    'avg_import_price($/Mmcf)': annual_gas_import_p,\n",
    "    'avg_export_price($/Mmcf)': annual_gas_export_p,\n",
    "    'avg_all_grades_p($/Gallon)': annual_avg_all_grades_p,\n",
    "    'avg_reg_p($/Gallon)': annual_avg_reg_p,\n",
    "    'avg_midg_p($/Gallon)': annual_avg_midg_p,\n",
    "    'avg_pre_p($/Gallon)': annual_avg_pre_p,\n",
    "    'avg_dis_p($/Gallon)': annual_avg_dis_p \n",
    "})\n",
    "\n",
    "annual_gas_summary.head()"
   ]
  },
  {
   "cell_type": "code",
   "execution_count": null,
   "id": "683e1e5b",
   "metadata": {},
   "outputs": [],
   "source": [
    "annual_gas_summary.dtypes"
   ]
  },
  {
   "cell_type": "code",
   "execution_count": null,
   "id": "71294ea0",
   "metadata": {},
   "outputs": [],
   "source": [
    "annual_gas_summary.reset_index()"
   ]
  },
  {
   "cell_type": "code",
   "execution_count": null,
   "id": "11aa6047",
   "metadata": {},
   "outputs": [],
   "source": [
    "annual_gas_summary.to_csv('../Resources/Datasets/cleaned_data/Annual_us_gas_data.csv', index=False)"
   ]
  }
 ],
 "metadata": {
  "kernelspec": {
   "display_name": "mlenv",
   "language": "python",
   "name": "mlenv"
  },
  "language_info": {
   "codemirror_mode": {
    "name": "ipython",
    "version": 3
   },
   "file_extension": ".py",
   "mimetype": "text/x-python",
   "name": "python",
   "nbconvert_exporter": "python",
   "pygments_lexer": "ipython3",
   "version": "3.7.11"
  }
 },
 "nbformat": 4,
 "nbformat_minor": 5
}
